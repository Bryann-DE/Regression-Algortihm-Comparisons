{
 "cells": [
  {
   "cell_type": "markdown",
   "metadata": {},
   "source": [
    "##     HOUSING PRICE PREDICTION MODEL USING REGRESSION"
   ]
  },
  {
   "cell_type": "markdown",
   "metadata": {},
   "source": [
    "Importing the pre-requisite libraries"
   ]
  },
  {
   "cell_type": "code",
   "execution_count": 1,
   "metadata": {},
   "outputs": [],
   "source": [
    "import numpy as np\n",
    "import pandas as pd\n",
    "import matplotlib.pyplot as plt\n",
    "%matplotlib inline\n",
    "import seaborn as sns"
   ]
  },
  {
   "cell_type": "code",
   "execution_count": 2,
   "metadata": {},
   "outputs": [
    {
     "data": {
      "text/html": [
       "<div>\n",
       "<style scoped>\n",
       "    .dataframe tbody tr th:only-of-type {\n",
       "        vertical-align: middle;\n",
       "    }\n",
       "\n",
       "    .dataframe tbody tr th {\n",
       "        vertical-align: top;\n",
       "    }\n",
       "\n",
       "    .dataframe thead th {\n",
       "        text-align: right;\n",
       "    }\n",
       "</style>\n",
       "<table border=\"1\" class=\"dataframe\">\n",
       "  <thead>\n",
       "    <tr style=\"text-align: right;\">\n",
       "      <th></th>\n",
       "      <th>Order</th>\n",
       "      <th>PID</th>\n",
       "      <th>MS SubClass</th>\n",
       "      <th>MS Zoning</th>\n",
       "      <th>Lot Frontage</th>\n",
       "      <th>Lot Area</th>\n",
       "      <th>Street</th>\n",
       "      <th>Alley</th>\n",
       "      <th>Lot Shape</th>\n",
       "      <th>Land Contour</th>\n",
       "      <th>...</th>\n",
       "      <th>Pool Area</th>\n",
       "      <th>Pool QC</th>\n",
       "      <th>Fence</th>\n",
       "      <th>Misc Feature</th>\n",
       "      <th>Misc Val</th>\n",
       "      <th>Mo Sold</th>\n",
       "      <th>Yr Sold</th>\n",
       "      <th>Sale Type</th>\n",
       "      <th>Sale Condition</th>\n",
       "      <th>SalePrice</th>\n",
       "    </tr>\n",
       "  </thead>\n",
       "  <tbody>\n",
       "    <tr>\n",
       "      <th>0</th>\n",
       "      <td>1</td>\n",
       "      <td>526301100</td>\n",
       "      <td>20</td>\n",
       "      <td>RL</td>\n",
       "      <td>141.0</td>\n",
       "      <td>31770</td>\n",
       "      <td>Pave</td>\n",
       "      <td>NaN</td>\n",
       "      <td>IR1</td>\n",
       "      <td>Lvl</td>\n",
       "      <td>...</td>\n",
       "      <td>0</td>\n",
       "      <td>NaN</td>\n",
       "      <td>NaN</td>\n",
       "      <td>NaN</td>\n",
       "      <td>0</td>\n",
       "      <td>5</td>\n",
       "      <td>2010</td>\n",
       "      <td>WD</td>\n",
       "      <td>Normal</td>\n",
       "      <td>215000</td>\n",
       "    </tr>\n",
       "    <tr>\n",
       "      <th>1</th>\n",
       "      <td>2</td>\n",
       "      <td>526350040</td>\n",
       "      <td>20</td>\n",
       "      <td>RH</td>\n",
       "      <td>80.0</td>\n",
       "      <td>11622</td>\n",
       "      <td>Pave</td>\n",
       "      <td>NaN</td>\n",
       "      <td>Reg</td>\n",
       "      <td>Lvl</td>\n",
       "      <td>...</td>\n",
       "      <td>0</td>\n",
       "      <td>NaN</td>\n",
       "      <td>MnPrv</td>\n",
       "      <td>NaN</td>\n",
       "      <td>0</td>\n",
       "      <td>6</td>\n",
       "      <td>2010</td>\n",
       "      <td>WD</td>\n",
       "      <td>Normal</td>\n",
       "      <td>105000</td>\n",
       "    </tr>\n",
       "    <tr>\n",
       "      <th>2</th>\n",
       "      <td>3</td>\n",
       "      <td>526351010</td>\n",
       "      <td>20</td>\n",
       "      <td>RL</td>\n",
       "      <td>81.0</td>\n",
       "      <td>14267</td>\n",
       "      <td>Pave</td>\n",
       "      <td>NaN</td>\n",
       "      <td>IR1</td>\n",
       "      <td>Lvl</td>\n",
       "      <td>...</td>\n",
       "      <td>0</td>\n",
       "      <td>NaN</td>\n",
       "      <td>NaN</td>\n",
       "      <td>Gar2</td>\n",
       "      <td>12500</td>\n",
       "      <td>6</td>\n",
       "      <td>2010</td>\n",
       "      <td>WD</td>\n",
       "      <td>Normal</td>\n",
       "      <td>172000</td>\n",
       "    </tr>\n",
       "    <tr>\n",
       "      <th>3</th>\n",
       "      <td>4</td>\n",
       "      <td>526353030</td>\n",
       "      <td>20</td>\n",
       "      <td>RL</td>\n",
       "      <td>93.0</td>\n",
       "      <td>11160</td>\n",
       "      <td>Pave</td>\n",
       "      <td>NaN</td>\n",
       "      <td>Reg</td>\n",
       "      <td>Lvl</td>\n",
       "      <td>...</td>\n",
       "      <td>0</td>\n",
       "      <td>NaN</td>\n",
       "      <td>NaN</td>\n",
       "      <td>NaN</td>\n",
       "      <td>0</td>\n",
       "      <td>4</td>\n",
       "      <td>2010</td>\n",
       "      <td>WD</td>\n",
       "      <td>Normal</td>\n",
       "      <td>244000</td>\n",
       "    </tr>\n",
       "    <tr>\n",
       "      <th>4</th>\n",
       "      <td>5</td>\n",
       "      <td>527105010</td>\n",
       "      <td>60</td>\n",
       "      <td>RL</td>\n",
       "      <td>74.0</td>\n",
       "      <td>13830</td>\n",
       "      <td>Pave</td>\n",
       "      <td>NaN</td>\n",
       "      <td>IR1</td>\n",
       "      <td>Lvl</td>\n",
       "      <td>...</td>\n",
       "      <td>0</td>\n",
       "      <td>NaN</td>\n",
       "      <td>MnPrv</td>\n",
       "      <td>NaN</td>\n",
       "      <td>0</td>\n",
       "      <td>3</td>\n",
       "      <td>2010</td>\n",
       "      <td>WD</td>\n",
       "      <td>Normal</td>\n",
       "      <td>189900</td>\n",
       "    </tr>\n",
       "  </tbody>\n",
       "</table>\n",
       "<p>5 rows × 82 columns</p>\n",
       "</div>"
      ],
      "text/plain": [
       "   Order        PID  MS SubClass MS Zoning  Lot Frontage  Lot Area Street  \\\n",
       "0      1  526301100           20        RL         141.0     31770   Pave   \n",
       "1      2  526350040           20        RH          80.0     11622   Pave   \n",
       "2      3  526351010           20        RL          81.0     14267   Pave   \n",
       "3      4  526353030           20        RL          93.0     11160   Pave   \n",
       "4      5  527105010           60        RL          74.0     13830   Pave   \n",
       "\n",
       "  Alley Lot Shape Land Contour  ... Pool Area Pool QC  Fence Misc Feature  \\\n",
       "0   NaN       IR1          Lvl  ...         0     NaN    NaN          NaN   \n",
       "1   NaN       Reg          Lvl  ...         0     NaN  MnPrv          NaN   \n",
       "2   NaN       IR1          Lvl  ...         0     NaN    NaN         Gar2   \n",
       "3   NaN       Reg          Lvl  ...         0     NaN    NaN          NaN   \n",
       "4   NaN       IR1          Lvl  ...         0     NaN  MnPrv          NaN   \n",
       "\n",
       "  Misc Val Mo Sold Yr Sold Sale Type  Sale Condition  SalePrice  \n",
       "0        0       5    2010       WD           Normal     215000  \n",
       "1        0       6    2010       WD           Normal     105000  \n",
       "2    12500       6    2010       WD           Normal     172000  \n",
       "3        0       4    2010       WD           Normal     244000  \n",
       "4        0       3    2010       WD           Normal     189900  \n",
       "\n",
       "[5 rows x 82 columns]"
      ]
     },
     "execution_count": 2,
     "metadata": {},
     "output_type": "execute_result"
    }
   ],
   "source": [
    "df= pd.read_csv(r'C:\\Users\\bryan\\Downloads\\AmesHousing.csv')\n",
    "df.head()"
   ]
  },
  {
   "cell_type": "markdown",
   "metadata": {},
   "source": [
    "Information for each column can be found at : http://jse.amstat.org/v19n3/decock/DataDocumentation.txt"
   ]
  },
  {
   "cell_type": "code",
   "execution_count": 3,
   "metadata": {},
   "outputs": [
    {
     "name": "stdout",
     "output_type": "stream",
     "text": [
      "<class 'pandas.core.frame.DataFrame'>\n",
      "RangeIndex: 2930 entries, 0 to 2929\n",
      "Data columns (total 82 columns):\n",
      " #   Column           Non-Null Count  Dtype  \n",
      "---  ------           --------------  -----  \n",
      " 0   Order            2930 non-null   int64  \n",
      " 1   PID              2930 non-null   int64  \n",
      " 2   MS SubClass      2930 non-null   int64  \n",
      " 3   MS Zoning        2930 non-null   object \n",
      " 4   Lot Frontage     2440 non-null   float64\n",
      " 5   Lot Area         2930 non-null   int64  \n",
      " 6   Street           2930 non-null   object \n",
      " 7   Alley            198 non-null    object \n",
      " 8   Lot Shape        2930 non-null   object \n",
      " 9   Land Contour     2930 non-null   object \n",
      " 10  Utilities        2930 non-null   object \n",
      " 11  Lot Config       2930 non-null   object \n",
      " 12  Land Slope       2930 non-null   object \n",
      " 13  Neighborhood     2930 non-null   object \n",
      " 14  Condition 1      2930 non-null   object \n",
      " 15  Condition 2      2930 non-null   object \n",
      " 16  Bldg Type        2930 non-null   object \n",
      " 17  House Style      2930 non-null   object \n",
      " 18  Overall Qual     2930 non-null   int64  \n",
      " 19  Overall Cond     2930 non-null   int64  \n",
      " 20  Year Built       2930 non-null   int64  \n",
      " 21  Year Remod/Add   2930 non-null   int64  \n",
      " 22  Roof Style       2930 non-null   object \n",
      " 23  Roof Matl        2930 non-null   object \n",
      " 24  Exterior 1st     2930 non-null   object \n",
      " 25  Exterior 2nd     2930 non-null   object \n",
      " 26  Mas Vnr Type     2907 non-null   object \n",
      " 27  Mas Vnr Area     2907 non-null   float64\n",
      " 28  Exter Qual       2930 non-null   object \n",
      " 29  Exter Cond       2930 non-null   object \n",
      " 30  Foundation       2930 non-null   object \n",
      " 31  Bsmt Qual        2850 non-null   object \n",
      " 32  Bsmt Cond        2850 non-null   object \n",
      " 33  Bsmt Exposure    2847 non-null   object \n",
      " 34  BsmtFin Type 1   2850 non-null   object \n",
      " 35  BsmtFin SF 1     2929 non-null   float64\n",
      " 36  BsmtFin Type 2   2849 non-null   object \n",
      " 37  BsmtFin SF 2     2929 non-null   float64\n",
      " 38  Bsmt Unf SF      2929 non-null   float64\n",
      " 39  Total Bsmt SF    2929 non-null   float64\n",
      " 40  Heating          2930 non-null   object \n",
      " 41  Heating QC       2930 non-null   object \n",
      " 42  Central Air      2930 non-null   object \n",
      " 43  Electrical       2929 non-null   object \n",
      " 44  1st Flr SF       2930 non-null   int64  \n",
      " 45  2nd Flr SF       2930 non-null   int64  \n",
      " 46  Low Qual Fin SF  2930 non-null   int64  \n",
      " 47  Gr Liv Area      2930 non-null   int64  \n",
      " 48  Bsmt Full Bath   2928 non-null   float64\n",
      " 49  Bsmt Half Bath   2928 non-null   float64\n",
      " 50  Full Bath        2930 non-null   int64  \n",
      " 51  Half Bath        2930 non-null   int64  \n",
      " 52  Bedroom AbvGr    2930 non-null   int64  \n",
      " 53  Kitchen AbvGr    2930 non-null   int64  \n",
      " 54  Kitchen Qual     2930 non-null   object \n",
      " 55  TotRms AbvGrd    2930 non-null   int64  \n",
      " 56  Functional       2930 non-null   object \n",
      " 57  Fireplaces       2930 non-null   int64  \n",
      " 58  Fireplace Qu     1508 non-null   object \n",
      " 59  Garage Type      2773 non-null   object \n",
      " 60  Garage Yr Blt    2771 non-null   float64\n",
      " 61  Garage Finish    2771 non-null   object \n",
      " 62  Garage Cars      2929 non-null   float64\n",
      " 63  Garage Area      2929 non-null   float64\n",
      " 64  Garage Qual      2771 non-null   object \n",
      " 65  Garage Cond      2771 non-null   object \n",
      " 66  Paved Drive      2930 non-null   object \n",
      " 67  Wood Deck SF     2930 non-null   int64  \n",
      " 68  Open Porch SF    2930 non-null   int64  \n",
      " 69  Enclosed Porch   2930 non-null   int64  \n",
      " 70  3Ssn Porch       2930 non-null   int64  \n",
      " 71  Screen Porch     2930 non-null   int64  \n",
      " 72  Pool Area        2930 non-null   int64  \n",
      " 73  Pool QC          13 non-null     object \n",
      " 74  Fence            572 non-null    object \n",
      " 75  Misc Feature     106 non-null    object \n",
      " 76  Misc Val         2930 non-null   int64  \n",
      " 77  Mo Sold          2930 non-null   int64  \n",
      " 78  Yr Sold          2930 non-null   int64  \n",
      " 79  Sale Type        2930 non-null   object \n",
      " 80  Sale Condition   2930 non-null   object \n",
      " 81  SalePrice        2930 non-null   int64  \n",
      "dtypes: float64(11), int64(28), object(43)\n",
      "memory usage: 1.8+ MB\n"
     ]
    }
   ],
   "source": [
    "df.info()"
   ]
  },
  {
   "cell_type": "code",
   "execution_count": 4,
   "metadata": {},
   "outputs": [
    {
     "data": {
      "text/html": [
       "<div>\n",
       "<style scoped>\n",
       "    .dataframe tbody tr th:only-of-type {\n",
       "        vertical-align: middle;\n",
       "    }\n",
       "\n",
       "    .dataframe tbody tr th {\n",
       "        vertical-align: top;\n",
       "    }\n",
       "\n",
       "    .dataframe thead th {\n",
       "        text-align: right;\n",
       "    }\n",
       "</style>\n",
       "<table border=\"1\" class=\"dataframe\">\n",
       "  <thead>\n",
       "    <tr style=\"text-align: right;\">\n",
       "      <th></th>\n",
       "      <th>count</th>\n",
       "      <th>mean</th>\n",
       "      <th>std</th>\n",
       "      <th>min</th>\n",
       "      <th>25%</th>\n",
       "      <th>50%</th>\n",
       "      <th>75%</th>\n",
       "      <th>max</th>\n",
       "    </tr>\n",
       "  </thead>\n",
       "  <tbody>\n",
       "    <tr>\n",
       "      <th>Order</th>\n",
       "      <td>2930.0</td>\n",
       "      <td>1.465500e+03</td>\n",
       "      <td>8.459625e+02</td>\n",
       "      <td>1.0</td>\n",
       "      <td>7.332500e+02</td>\n",
       "      <td>1465.5</td>\n",
       "      <td>2.197750e+03</td>\n",
       "      <td>2.930000e+03</td>\n",
       "    </tr>\n",
       "    <tr>\n",
       "      <th>PID</th>\n",
       "      <td>2930.0</td>\n",
       "      <td>7.144645e+08</td>\n",
       "      <td>1.887308e+08</td>\n",
       "      <td>526301100.0</td>\n",
       "      <td>5.284770e+08</td>\n",
       "      <td>535453620.0</td>\n",
       "      <td>9.071811e+08</td>\n",
       "      <td>1.007100e+09</td>\n",
       "    </tr>\n",
       "    <tr>\n",
       "      <th>MS SubClass</th>\n",
       "      <td>2930.0</td>\n",
       "      <td>5.738737e+01</td>\n",
       "      <td>4.263802e+01</td>\n",
       "      <td>20.0</td>\n",
       "      <td>2.000000e+01</td>\n",
       "      <td>50.0</td>\n",
       "      <td>7.000000e+01</td>\n",
       "      <td>1.900000e+02</td>\n",
       "    </tr>\n",
       "    <tr>\n",
       "      <th>Lot Frontage</th>\n",
       "      <td>2440.0</td>\n",
       "      <td>6.922459e+01</td>\n",
       "      <td>2.336533e+01</td>\n",
       "      <td>21.0</td>\n",
       "      <td>5.800000e+01</td>\n",
       "      <td>68.0</td>\n",
       "      <td>8.000000e+01</td>\n",
       "      <td>3.130000e+02</td>\n",
       "    </tr>\n",
       "    <tr>\n",
       "      <th>Lot Area</th>\n",
       "      <td>2930.0</td>\n",
       "      <td>1.014792e+04</td>\n",
       "      <td>7.880018e+03</td>\n",
       "      <td>1300.0</td>\n",
       "      <td>7.440250e+03</td>\n",
       "      <td>9436.5</td>\n",
       "      <td>1.155525e+04</td>\n",
       "      <td>2.152450e+05</td>\n",
       "    </tr>\n",
       "    <tr>\n",
       "      <th>Overall Qual</th>\n",
       "      <td>2930.0</td>\n",
       "      <td>6.094881e+00</td>\n",
       "      <td>1.411026e+00</td>\n",
       "      <td>1.0</td>\n",
       "      <td>5.000000e+00</td>\n",
       "      <td>6.0</td>\n",
       "      <td>7.000000e+00</td>\n",
       "      <td>1.000000e+01</td>\n",
       "    </tr>\n",
       "    <tr>\n",
       "      <th>Overall Cond</th>\n",
       "      <td>2930.0</td>\n",
       "      <td>5.563140e+00</td>\n",
       "      <td>1.111537e+00</td>\n",
       "      <td>1.0</td>\n",
       "      <td>5.000000e+00</td>\n",
       "      <td>5.0</td>\n",
       "      <td>6.000000e+00</td>\n",
       "      <td>9.000000e+00</td>\n",
       "    </tr>\n",
       "    <tr>\n",
       "      <th>Year Built</th>\n",
       "      <td>2930.0</td>\n",
       "      <td>1.971356e+03</td>\n",
       "      <td>3.024536e+01</td>\n",
       "      <td>1872.0</td>\n",
       "      <td>1.954000e+03</td>\n",
       "      <td>1973.0</td>\n",
       "      <td>2.001000e+03</td>\n",
       "      <td>2.010000e+03</td>\n",
       "    </tr>\n",
       "    <tr>\n",
       "      <th>Year Remod/Add</th>\n",
       "      <td>2930.0</td>\n",
       "      <td>1.984267e+03</td>\n",
       "      <td>2.086029e+01</td>\n",
       "      <td>1950.0</td>\n",
       "      <td>1.965000e+03</td>\n",
       "      <td>1993.0</td>\n",
       "      <td>2.004000e+03</td>\n",
       "      <td>2.010000e+03</td>\n",
       "    </tr>\n",
       "    <tr>\n",
       "      <th>Mas Vnr Area</th>\n",
       "      <td>2907.0</td>\n",
       "      <td>1.018968e+02</td>\n",
       "      <td>1.791126e+02</td>\n",
       "      <td>0.0</td>\n",
       "      <td>0.000000e+00</td>\n",
       "      <td>0.0</td>\n",
       "      <td>1.640000e+02</td>\n",
       "      <td>1.600000e+03</td>\n",
       "    </tr>\n",
       "    <tr>\n",
       "      <th>BsmtFin SF 1</th>\n",
       "      <td>2929.0</td>\n",
       "      <td>4.426296e+02</td>\n",
       "      <td>4.555908e+02</td>\n",
       "      <td>0.0</td>\n",
       "      <td>0.000000e+00</td>\n",
       "      <td>370.0</td>\n",
       "      <td>7.340000e+02</td>\n",
       "      <td>5.644000e+03</td>\n",
       "    </tr>\n",
       "    <tr>\n",
       "      <th>BsmtFin SF 2</th>\n",
       "      <td>2929.0</td>\n",
       "      <td>4.972243e+01</td>\n",
       "      <td>1.691685e+02</td>\n",
       "      <td>0.0</td>\n",
       "      <td>0.000000e+00</td>\n",
       "      <td>0.0</td>\n",
       "      <td>0.000000e+00</td>\n",
       "      <td>1.526000e+03</td>\n",
       "    </tr>\n",
       "    <tr>\n",
       "      <th>Bsmt Unf SF</th>\n",
       "      <td>2929.0</td>\n",
       "      <td>5.592625e+02</td>\n",
       "      <td>4.394942e+02</td>\n",
       "      <td>0.0</td>\n",
       "      <td>2.190000e+02</td>\n",
       "      <td>466.0</td>\n",
       "      <td>8.020000e+02</td>\n",
       "      <td>2.336000e+03</td>\n",
       "    </tr>\n",
       "    <tr>\n",
       "      <th>Total Bsmt SF</th>\n",
       "      <td>2929.0</td>\n",
       "      <td>1.051615e+03</td>\n",
       "      <td>4.406151e+02</td>\n",
       "      <td>0.0</td>\n",
       "      <td>7.930000e+02</td>\n",
       "      <td>990.0</td>\n",
       "      <td>1.302000e+03</td>\n",
       "      <td>6.110000e+03</td>\n",
       "    </tr>\n",
       "    <tr>\n",
       "      <th>1st Flr SF</th>\n",
       "      <td>2930.0</td>\n",
       "      <td>1.159558e+03</td>\n",
       "      <td>3.918909e+02</td>\n",
       "      <td>334.0</td>\n",
       "      <td>8.762500e+02</td>\n",
       "      <td>1084.0</td>\n",
       "      <td>1.384000e+03</td>\n",
       "      <td>5.095000e+03</td>\n",
       "    </tr>\n",
       "    <tr>\n",
       "      <th>2nd Flr SF</th>\n",
       "      <td>2930.0</td>\n",
       "      <td>3.354560e+02</td>\n",
       "      <td>4.283957e+02</td>\n",
       "      <td>0.0</td>\n",
       "      <td>0.000000e+00</td>\n",
       "      <td>0.0</td>\n",
       "      <td>7.037500e+02</td>\n",
       "      <td>2.065000e+03</td>\n",
       "    </tr>\n",
       "    <tr>\n",
       "      <th>Low Qual Fin SF</th>\n",
       "      <td>2930.0</td>\n",
       "      <td>4.676792e+00</td>\n",
       "      <td>4.631051e+01</td>\n",
       "      <td>0.0</td>\n",
       "      <td>0.000000e+00</td>\n",
       "      <td>0.0</td>\n",
       "      <td>0.000000e+00</td>\n",
       "      <td>1.064000e+03</td>\n",
       "    </tr>\n",
       "    <tr>\n",
       "      <th>Gr Liv Area</th>\n",
       "      <td>2930.0</td>\n",
       "      <td>1.499690e+03</td>\n",
       "      <td>5.055089e+02</td>\n",
       "      <td>334.0</td>\n",
       "      <td>1.126000e+03</td>\n",
       "      <td>1442.0</td>\n",
       "      <td>1.742750e+03</td>\n",
       "      <td>5.642000e+03</td>\n",
       "    </tr>\n",
       "    <tr>\n",
       "      <th>Bsmt Full Bath</th>\n",
       "      <td>2928.0</td>\n",
       "      <td>4.313525e-01</td>\n",
       "      <td>5.248202e-01</td>\n",
       "      <td>0.0</td>\n",
       "      <td>0.000000e+00</td>\n",
       "      <td>0.0</td>\n",
       "      <td>1.000000e+00</td>\n",
       "      <td>3.000000e+00</td>\n",
       "    </tr>\n",
       "    <tr>\n",
       "      <th>Bsmt Half Bath</th>\n",
       "      <td>2928.0</td>\n",
       "      <td>6.113388e-02</td>\n",
       "      <td>2.452536e-01</td>\n",
       "      <td>0.0</td>\n",
       "      <td>0.000000e+00</td>\n",
       "      <td>0.0</td>\n",
       "      <td>0.000000e+00</td>\n",
       "      <td>2.000000e+00</td>\n",
       "    </tr>\n",
       "    <tr>\n",
       "      <th>Full Bath</th>\n",
       "      <td>2930.0</td>\n",
       "      <td>1.566553e+00</td>\n",
       "      <td>5.529406e-01</td>\n",
       "      <td>0.0</td>\n",
       "      <td>1.000000e+00</td>\n",
       "      <td>2.0</td>\n",
       "      <td>2.000000e+00</td>\n",
       "      <td>4.000000e+00</td>\n",
       "    </tr>\n",
       "    <tr>\n",
       "      <th>Half Bath</th>\n",
       "      <td>2930.0</td>\n",
       "      <td>3.795222e-01</td>\n",
       "      <td>5.026293e-01</td>\n",
       "      <td>0.0</td>\n",
       "      <td>0.000000e+00</td>\n",
       "      <td>0.0</td>\n",
       "      <td>1.000000e+00</td>\n",
       "      <td>2.000000e+00</td>\n",
       "    </tr>\n",
       "    <tr>\n",
       "      <th>Bedroom AbvGr</th>\n",
       "      <td>2930.0</td>\n",
       "      <td>2.854266e+00</td>\n",
       "      <td>8.277311e-01</td>\n",
       "      <td>0.0</td>\n",
       "      <td>2.000000e+00</td>\n",
       "      <td>3.0</td>\n",
       "      <td>3.000000e+00</td>\n",
       "      <td>8.000000e+00</td>\n",
       "    </tr>\n",
       "    <tr>\n",
       "      <th>Kitchen AbvGr</th>\n",
       "      <td>2930.0</td>\n",
       "      <td>1.044369e+00</td>\n",
       "      <td>2.140762e-01</td>\n",
       "      <td>0.0</td>\n",
       "      <td>1.000000e+00</td>\n",
       "      <td>1.0</td>\n",
       "      <td>1.000000e+00</td>\n",
       "      <td>3.000000e+00</td>\n",
       "    </tr>\n",
       "    <tr>\n",
       "      <th>TotRms AbvGrd</th>\n",
       "      <td>2930.0</td>\n",
       "      <td>6.443003e+00</td>\n",
       "      <td>1.572964e+00</td>\n",
       "      <td>2.0</td>\n",
       "      <td>5.000000e+00</td>\n",
       "      <td>6.0</td>\n",
       "      <td>7.000000e+00</td>\n",
       "      <td>1.500000e+01</td>\n",
       "    </tr>\n",
       "    <tr>\n",
       "      <th>Fireplaces</th>\n",
       "      <td>2930.0</td>\n",
       "      <td>5.993174e-01</td>\n",
       "      <td>6.479209e-01</td>\n",
       "      <td>0.0</td>\n",
       "      <td>0.000000e+00</td>\n",
       "      <td>1.0</td>\n",
       "      <td>1.000000e+00</td>\n",
       "      <td>4.000000e+00</td>\n",
       "    </tr>\n",
       "    <tr>\n",
       "      <th>Garage Yr Blt</th>\n",
       "      <td>2771.0</td>\n",
       "      <td>1.978132e+03</td>\n",
       "      <td>2.552841e+01</td>\n",
       "      <td>1895.0</td>\n",
       "      <td>1.960000e+03</td>\n",
       "      <td>1979.0</td>\n",
       "      <td>2.002000e+03</td>\n",
       "      <td>2.207000e+03</td>\n",
       "    </tr>\n",
       "    <tr>\n",
       "      <th>Garage Cars</th>\n",
       "      <td>2929.0</td>\n",
       "      <td>1.766815e+00</td>\n",
       "      <td>7.605664e-01</td>\n",
       "      <td>0.0</td>\n",
       "      <td>1.000000e+00</td>\n",
       "      <td>2.0</td>\n",
       "      <td>2.000000e+00</td>\n",
       "      <td>5.000000e+00</td>\n",
       "    </tr>\n",
       "    <tr>\n",
       "      <th>Garage Area</th>\n",
       "      <td>2929.0</td>\n",
       "      <td>4.728197e+02</td>\n",
       "      <td>2.150465e+02</td>\n",
       "      <td>0.0</td>\n",
       "      <td>3.200000e+02</td>\n",
       "      <td>480.0</td>\n",
       "      <td>5.760000e+02</td>\n",
       "      <td>1.488000e+03</td>\n",
       "    </tr>\n",
       "    <tr>\n",
       "      <th>Wood Deck SF</th>\n",
       "      <td>2930.0</td>\n",
       "      <td>9.375188e+01</td>\n",
       "      <td>1.263616e+02</td>\n",
       "      <td>0.0</td>\n",
       "      <td>0.000000e+00</td>\n",
       "      <td>0.0</td>\n",
       "      <td>1.680000e+02</td>\n",
       "      <td>1.424000e+03</td>\n",
       "    </tr>\n",
       "    <tr>\n",
       "      <th>Open Porch SF</th>\n",
       "      <td>2930.0</td>\n",
       "      <td>4.753345e+01</td>\n",
       "      <td>6.748340e+01</td>\n",
       "      <td>0.0</td>\n",
       "      <td>0.000000e+00</td>\n",
       "      <td>27.0</td>\n",
       "      <td>7.000000e+01</td>\n",
       "      <td>7.420000e+02</td>\n",
       "    </tr>\n",
       "    <tr>\n",
       "      <th>Enclosed Porch</th>\n",
       "      <td>2930.0</td>\n",
       "      <td>2.301160e+01</td>\n",
       "      <td>6.413906e+01</td>\n",
       "      <td>0.0</td>\n",
       "      <td>0.000000e+00</td>\n",
       "      <td>0.0</td>\n",
       "      <td>0.000000e+00</td>\n",
       "      <td>1.012000e+03</td>\n",
       "    </tr>\n",
       "    <tr>\n",
       "      <th>3Ssn Porch</th>\n",
       "      <td>2930.0</td>\n",
       "      <td>2.592491e+00</td>\n",
       "      <td>2.514133e+01</td>\n",
       "      <td>0.0</td>\n",
       "      <td>0.000000e+00</td>\n",
       "      <td>0.0</td>\n",
       "      <td>0.000000e+00</td>\n",
       "      <td>5.080000e+02</td>\n",
       "    </tr>\n",
       "    <tr>\n",
       "      <th>Screen Porch</th>\n",
       "      <td>2930.0</td>\n",
       "      <td>1.600205e+01</td>\n",
       "      <td>5.608737e+01</td>\n",
       "      <td>0.0</td>\n",
       "      <td>0.000000e+00</td>\n",
       "      <td>0.0</td>\n",
       "      <td>0.000000e+00</td>\n",
       "      <td>5.760000e+02</td>\n",
       "    </tr>\n",
       "    <tr>\n",
       "      <th>Pool Area</th>\n",
       "      <td>2930.0</td>\n",
       "      <td>2.243345e+00</td>\n",
       "      <td>3.559718e+01</td>\n",
       "      <td>0.0</td>\n",
       "      <td>0.000000e+00</td>\n",
       "      <td>0.0</td>\n",
       "      <td>0.000000e+00</td>\n",
       "      <td>8.000000e+02</td>\n",
       "    </tr>\n",
       "    <tr>\n",
       "      <th>Misc Val</th>\n",
       "      <td>2930.0</td>\n",
       "      <td>5.063515e+01</td>\n",
       "      <td>5.663443e+02</td>\n",
       "      <td>0.0</td>\n",
       "      <td>0.000000e+00</td>\n",
       "      <td>0.0</td>\n",
       "      <td>0.000000e+00</td>\n",
       "      <td>1.700000e+04</td>\n",
       "    </tr>\n",
       "    <tr>\n",
       "      <th>Mo Sold</th>\n",
       "      <td>2930.0</td>\n",
       "      <td>6.216041e+00</td>\n",
       "      <td>2.714492e+00</td>\n",
       "      <td>1.0</td>\n",
       "      <td>4.000000e+00</td>\n",
       "      <td>6.0</td>\n",
       "      <td>8.000000e+00</td>\n",
       "      <td>1.200000e+01</td>\n",
       "    </tr>\n",
       "    <tr>\n",
       "      <th>Yr Sold</th>\n",
       "      <td>2930.0</td>\n",
       "      <td>2.007790e+03</td>\n",
       "      <td>1.316613e+00</td>\n",
       "      <td>2006.0</td>\n",
       "      <td>2.007000e+03</td>\n",
       "      <td>2008.0</td>\n",
       "      <td>2.009000e+03</td>\n",
       "      <td>2.010000e+03</td>\n",
       "    </tr>\n",
       "    <tr>\n",
       "      <th>SalePrice</th>\n",
       "      <td>2930.0</td>\n",
       "      <td>1.807961e+05</td>\n",
       "      <td>7.988669e+04</td>\n",
       "      <td>12789.0</td>\n",
       "      <td>1.295000e+05</td>\n",
       "      <td>160000.0</td>\n",
       "      <td>2.135000e+05</td>\n",
       "      <td>7.550000e+05</td>\n",
       "    </tr>\n",
       "  </tbody>\n",
       "</table>\n",
       "</div>"
      ],
      "text/plain": [
       "                  count          mean           std          min  \\\n",
       "Order            2930.0  1.465500e+03  8.459625e+02          1.0   \n",
       "PID              2930.0  7.144645e+08  1.887308e+08  526301100.0   \n",
       "MS SubClass      2930.0  5.738737e+01  4.263802e+01         20.0   \n",
       "Lot Frontage     2440.0  6.922459e+01  2.336533e+01         21.0   \n",
       "Lot Area         2930.0  1.014792e+04  7.880018e+03       1300.0   \n",
       "Overall Qual     2930.0  6.094881e+00  1.411026e+00          1.0   \n",
       "Overall Cond     2930.0  5.563140e+00  1.111537e+00          1.0   \n",
       "Year Built       2930.0  1.971356e+03  3.024536e+01       1872.0   \n",
       "Year Remod/Add   2930.0  1.984267e+03  2.086029e+01       1950.0   \n",
       "Mas Vnr Area     2907.0  1.018968e+02  1.791126e+02          0.0   \n",
       "BsmtFin SF 1     2929.0  4.426296e+02  4.555908e+02          0.0   \n",
       "BsmtFin SF 2     2929.0  4.972243e+01  1.691685e+02          0.0   \n",
       "Bsmt Unf SF      2929.0  5.592625e+02  4.394942e+02          0.0   \n",
       "Total Bsmt SF    2929.0  1.051615e+03  4.406151e+02          0.0   \n",
       "1st Flr SF       2930.0  1.159558e+03  3.918909e+02        334.0   \n",
       "2nd Flr SF       2930.0  3.354560e+02  4.283957e+02          0.0   \n",
       "Low Qual Fin SF  2930.0  4.676792e+00  4.631051e+01          0.0   \n",
       "Gr Liv Area      2930.0  1.499690e+03  5.055089e+02        334.0   \n",
       "Bsmt Full Bath   2928.0  4.313525e-01  5.248202e-01          0.0   \n",
       "Bsmt Half Bath   2928.0  6.113388e-02  2.452536e-01          0.0   \n",
       "Full Bath        2930.0  1.566553e+00  5.529406e-01          0.0   \n",
       "Half Bath        2930.0  3.795222e-01  5.026293e-01          0.0   \n",
       "Bedroom AbvGr    2930.0  2.854266e+00  8.277311e-01          0.0   \n",
       "Kitchen AbvGr    2930.0  1.044369e+00  2.140762e-01          0.0   \n",
       "TotRms AbvGrd    2930.0  6.443003e+00  1.572964e+00          2.0   \n",
       "Fireplaces       2930.0  5.993174e-01  6.479209e-01          0.0   \n",
       "Garage Yr Blt    2771.0  1.978132e+03  2.552841e+01       1895.0   \n",
       "Garage Cars      2929.0  1.766815e+00  7.605664e-01          0.0   \n",
       "Garage Area      2929.0  4.728197e+02  2.150465e+02          0.0   \n",
       "Wood Deck SF     2930.0  9.375188e+01  1.263616e+02          0.0   \n",
       "Open Porch SF    2930.0  4.753345e+01  6.748340e+01          0.0   \n",
       "Enclosed Porch   2930.0  2.301160e+01  6.413906e+01          0.0   \n",
       "3Ssn Porch       2930.0  2.592491e+00  2.514133e+01          0.0   \n",
       "Screen Porch     2930.0  1.600205e+01  5.608737e+01          0.0   \n",
       "Pool Area        2930.0  2.243345e+00  3.559718e+01          0.0   \n",
       "Misc Val         2930.0  5.063515e+01  5.663443e+02          0.0   \n",
       "Mo Sold          2930.0  6.216041e+00  2.714492e+00          1.0   \n",
       "Yr Sold          2930.0  2.007790e+03  1.316613e+00       2006.0   \n",
       "SalePrice        2930.0  1.807961e+05  7.988669e+04      12789.0   \n",
       "\n",
       "                          25%          50%           75%           max  \n",
       "Order            7.332500e+02       1465.5  2.197750e+03  2.930000e+03  \n",
       "PID              5.284770e+08  535453620.0  9.071811e+08  1.007100e+09  \n",
       "MS SubClass      2.000000e+01         50.0  7.000000e+01  1.900000e+02  \n",
       "Lot Frontage     5.800000e+01         68.0  8.000000e+01  3.130000e+02  \n",
       "Lot Area         7.440250e+03       9436.5  1.155525e+04  2.152450e+05  \n",
       "Overall Qual     5.000000e+00          6.0  7.000000e+00  1.000000e+01  \n",
       "Overall Cond     5.000000e+00          5.0  6.000000e+00  9.000000e+00  \n",
       "Year Built       1.954000e+03       1973.0  2.001000e+03  2.010000e+03  \n",
       "Year Remod/Add   1.965000e+03       1993.0  2.004000e+03  2.010000e+03  \n",
       "Mas Vnr Area     0.000000e+00          0.0  1.640000e+02  1.600000e+03  \n",
       "BsmtFin SF 1     0.000000e+00        370.0  7.340000e+02  5.644000e+03  \n",
       "BsmtFin SF 2     0.000000e+00          0.0  0.000000e+00  1.526000e+03  \n",
       "Bsmt Unf SF      2.190000e+02        466.0  8.020000e+02  2.336000e+03  \n",
       "Total Bsmt SF    7.930000e+02        990.0  1.302000e+03  6.110000e+03  \n",
       "1st Flr SF       8.762500e+02       1084.0  1.384000e+03  5.095000e+03  \n",
       "2nd Flr SF       0.000000e+00          0.0  7.037500e+02  2.065000e+03  \n",
       "Low Qual Fin SF  0.000000e+00          0.0  0.000000e+00  1.064000e+03  \n",
       "Gr Liv Area      1.126000e+03       1442.0  1.742750e+03  5.642000e+03  \n",
       "Bsmt Full Bath   0.000000e+00          0.0  1.000000e+00  3.000000e+00  \n",
       "Bsmt Half Bath   0.000000e+00          0.0  0.000000e+00  2.000000e+00  \n",
       "Full Bath        1.000000e+00          2.0  2.000000e+00  4.000000e+00  \n",
       "Half Bath        0.000000e+00          0.0  1.000000e+00  2.000000e+00  \n",
       "Bedroom AbvGr    2.000000e+00          3.0  3.000000e+00  8.000000e+00  \n",
       "Kitchen AbvGr    1.000000e+00          1.0  1.000000e+00  3.000000e+00  \n",
       "TotRms AbvGrd    5.000000e+00          6.0  7.000000e+00  1.500000e+01  \n",
       "Fireplaces       0.000000e+00          1.0  1.000000e+00  4.000000e+00  \n",
       "Garage Yr Blt    1.960000e+03       1979.0  2.002000e+03  2.207000e+03  \n",
       "Garage Cars      1.000000e+00          2.0  2.000000e+00  5.000000e+00  \n",
       "Garage Area      3.200000e+02        480.0  5.760000e+02  1.488000e+03  \n",
       "Wood Deck SF     0.000000e+00          0.0  1.680000e+02  1.424000e+03  \n",
       "Open Porch SF    0.000000e+00         27.0  7.000000e+01  7.420000e+02  \n",
       "Enclosed Porch   0.000000e+00          0.0  0.000000e+00  1.012000e+03  \n",
       "3Ssn Porch       0.000000e+00          0.0  0.000000e+00  5.080000e+02  \n",
       "Screen Porch     0.000000e+00          0.0  0.000000e+00  5.760000e+02  \n",
       "Pool Area        0.000000e+00          0.0  0.000000e+00  8.000000e+02  \n",
       "Misc Val         0.000000e+00          0.0  0.000000e+00  1.700000e+04  \n",
       "Mo Sold          4.000000e+00          6.0  8.000000e+00  1.200000e+01  \n",
       "Yr Sold          2.007000e+03       2008.0  2.009000e+03  2.010000e+03  \n",
       "SalePrice        1.295000e+05     160000.0  2.135000e+05  7.550000e+05  "
      ]
     },
     "execution_count": 4,
     "metadata": {},
     "output_type": "execute_result"
    }
   ],
   "source": [
    "df.describe().transpose()"
   ]
  },
  {
   "cell_type": "code",
   "execution_count": 5,
   "metadata": {},
   "outputs": [],
   "source": [
    "#Dropping the unnecessary ID column\n",
    "df.drop('PID',axis=1,inplace=True)"
   ]
  },
  {
   "cell_type": "markdown",
   "metadata": {},
   "source": [
    "**Using scatterplots to identify outliers**"
   ]
  },
  {
   "cell_type": "code",
   "execution_count": 6,
   "metadata": {},
   "outputs": [
    {
     "data": {
      "text/plain": [
       "<matplotlib.axes._subplots.AxesSubplot at 0x25aeed4b3c8>"
      ]
     },
     "execution_count": 6,
     "metadata": {},
     "output_type": "execute_result"
    },
    {
     "data": {
      "image/png": "[encoded data removed]",
      "text/plain": [
       "<Figure size 720x360 with 1 Axes>"
      ]
     },
     "metadata": {
      "needs_background": "light"
     },
     "output_type": "display_data"
    }
   ],
   "source": [
    "plt.figure(figsize=(10,5))\n",
    "sns.scatterplot(x='Lot Area',y='SalePrice',data=df)"
   ]
  },
  {
   "cell_type": "code",
   "execution_count": 7,
   "metadata": {},
   "outputs": [
    {
     "data": {
      "text/plain": [
       "<matplotlib.axes._subplots.AxesSubplot at 0x25aeed4d0c8>"
      ]
     },
     "execution_count": 7,
     "metadata": {},
     "output_type": "execute_result"
    },
    {
     "data": {
      "image/png": "[encoded data removed]",
      "text/plain": [
       "<Figure size 720x360 with 1 Axes>"
      ]
     },
     "metadata": {
      "needs_background": "light"
     },
     "output_type": "display_data"
    }
   ],
   "source": [
    "plt.figure(figsize=(10,5))\n",
    "sns.scatterplot(x='Lot Frontage',y='SalePrice',data=df)"
   ]
  },
  {
   "cell_type": "code",
   "execution_count": 8,
   "metadata": {},
   "outputs": [
    {
     "data": {
      "text/html": [
       "<div>\n",
       "<style scoped>\n",
       "    .dataframe tbody tr th:only-of-type {\n",
       "        vertical-align: middle;\n",
       "    }\n",
       "\n",
       "    .dataframe tbody tr th {\n",
       "        vertical-align: top;\n",
       "    }\n",
       "\n",
       "    .dataframe thead th {\n",
       "        text-align: right;\n",
       "    }\n",
       "</style>\n",
       "<table border=\"1\" class=\"dataframe\">\n",
       "  <thead>\n",
       "    <tr style=\"text-align: right;\">\n",
       "      <th></th>\n",
       "      <th>Order</th>\n",
       "      <th>MS SubClass</th>\n",
       "      <th>MS Zoning</th>\n",
       "      <th>Lot Frontage</th>\n",
       "      <th>Lot Area</th>\n",
       "      <th>Street</th>\n",
       "      <th>Alley</th>\n",
       "      <th>Lot Shape</th>\n",
       "      <th>Land Contour</th>\n",
       "      <th>Utilities</th>\n",
       "      <th>...</th>\n",
       "      <th>Pool Area</th>\n",
       "      <th>Pool QC</th>\n",
       "      <th>Fence</th>\n",
       "      <th>Misc Feature</th>\n",
       "      <th>Misc Val</th>\n",
       "      <th>Mo Sold</th>\n",
       "      <th>Yr Sold</th>\n",
       "      <th>Sale Type</th>\n",
       "      <th>Sale Condition</th>\n",
       "      <th>SalePrice</th>\n",
       "    </tr>\n",
       "  </thead>\n",
       "  <tbody>\n",
       "    <tr>\n",
       "      <th>1760</th>\n",
       "      <td>1761</td>\n",
       "      <td>60</td>\n",
       "      <td>RL</td>\n",
       "      <td>160.0</td>\n",
       "      <td>15623</td>\n",
       "      <td>Pave</td>\n",
       "      <td>NaN</td>\n",
       "      <td>IR1</td>\n",
       "      <td>Lvl</td>\n",
       "      <td>AllPub</td>\n",
       "      <td>...</td>\n",
       "      <td>555</td>\n",
       "      <td>Ex</td>\n",
       "      <td>MnPrv</td>\n",
       "      <td>NaN</td>\n",
       "      <td>0</td>\n",
       "      <td>7</td>\n",
       "      <td>2007</td>\n",
       "      <td>WD</td>\n",
       "      <td>Abnorml</td>\n",
       "      <td>745000</td>\n",
       "    </tr>\n",
       "    <tr>\n",
       "      <th>1767</th>\n",
       "      <td>1768</td>\n",
       "      <td>60</td>\n",
       "      <td>RL</td>\n",
       "      <td>104.0</td>\n",
       "      <td>21535</td>\n",
       "      <td>Pave</td>\n",
       "      <td>NaN</td>\n",
       "      <td>IR1</td>\n",
       "      <td>Lvl</td>\n",
       "      <td>AllPub</td>\n",
       "      <td>...</td>\n",
       "      <td>0</td>\n",
       "      <td>NaN</td>\n",
       "      <td>NaN</td>\n",
       "      <td>NaN</td>\n",
       "      <td>0</td>\n",
       "      <td>1</td>\n",
       "      <td>2007</td>\n",
       "      <td>WD</td>\n",
       "      <td>Normal</td>\n",
       "      <td>755000</td>\n",
       "    </tr>\n",
       "  </tbody>\n",
       "</table>\n",
       "<p>2 rows × 81 columns</p>\n",
       "</div>"
      ],
      "text/plain": [
       "      Order  MS SubClass MS Zoning  Lot Frontage  Lot Area Street Alley  \\\n",
       "1760   1761           60        RL         160.0     15623   Pave   NaN   \n",
       "1767   1768           60        RL         104.0     21535   Pave   NaN   \n",
       "\n",
       "     Lot Shape Land Contour Utilities  ... Pool Area Pool QC  Fence  \\\n",
       "1760       IR1          Lvl    AllPub  ...       555      Ex  MnPrv   \n",
       "1767       IR1          Lvl    AllPub  ...         0     NaN    NaN   \n",
       "\n",
       "     Misc Feature Misc Val Mo Sold Yr Sold  Sale Type  Sale Condition  \\\n",
       "1760          NaN        0       7    2007        WD          Abnorml   \n",
       "1767          NaN        0       1    2007        WD           Normal   \n",
       "\n",
       "      SalePrice  \n",
       "1760     745000  \n",
       "1767     755000  \n",
       "\n",
       "[2 rows x 81 columns]"
      ]
     },
     "execution_count": 8,
     "metadata": {},
     "output_type": "execute_result"
    }
   ],
   "source": [
    "df[(df['SalePrice']>700000) & (df['Lot Frontage']<175)]"
   ]
  },
  {
   "cell_type": "code",
   "execution_count": 9,
   "metadata": {},
   "outputs": [
    {
     "data": {
      "text/html": [
       "<div>\n",
       "<style scoped>\n",
       "    .dataframe tbody tr th:only-of-type {\n",
       "        vertical-align: middle;\n",
       "    }\n",
       "\n",
       "    .dataframe tbody tr th {\n",
       "        vertical-align: top;\n",
       "    }\n",
       "\n",
       "    .dataframe thead th {\n",
       "        text-align: right;\n",
       "    }\n",
       "</style>\n",
       "<table border=\"1\" class=\"dataframe\">\n",
       "  <thead>\n",
       "    <tr style=\"text-align: right;\">\n",
       "      <th></th>\n",
       "      <th>Order</th>\n",
       "      <th>MS SubClass</th>\n",
       "      <th>MS Zoning</th>\n",
       "      <th>Lot Frontage</th>\n",
       "      <th>Lot Area</th>\n",
       "      <th>Street</th>\n",
       "      <th>Alley</th>\n",
       "      <th>Lot Shape</th>\n",
       "      <th>Land Contour</th>\n",
       "      <th>Utilities</th>\n",
       "      <th>...</th>\n",
       "      <th>Pool Area</th>\n",
       "      <th>Pool QC</th>\n",
       "      <th>Fence</th>\n",
       "      <th>Misc Feature</th>\n",
       "      <th>Misc Val</th>\n",
       "      <th>Mo Sold</th>\n",
       "      <th>Yr Sold</th>\n",
       "      <th>Sale Type</th>\n",
       "      <th>Sale Condition</th>\n",
       "      <th>SalePrice</th>\n",
       "    </tr>\n",
       "  </thead>\n",
       "  <tbody>\n",
       "    <tr>\n",
       "      <th>1760</th>\n",
       "      <td>1761</td>\n",
       "      <td>60</td>\n",
       "      <td>RL</td>\n",
       "      <td>160.0</td>\n",
       "      <td>15623</td>\n",
       "      <td>Pave</td>\n",
       "      <td>NaN</td>\n",
       "      <td>IR1</td>\n",
       "      <td>Lvl</td>\n",
       "      <td>AllPub</td>\n",
       "      <td>...</td>\n",
       "      <td>555</td>\n",
       "      <td>Ex</td>\n",
       "      <td>MnPrv</td>\n",
       "      <td>NaN</td>\n",
       "      <td>0</td>\n",
       "      <td>7</td>\n",
       "      <td>2007</td>\n",
       "      <td>WD</td>\n",
       "      <td>Abnorml</td>\n",
       "      <td>745000</td>\n",
       "    </tr>\n",
       "    <tr>\n",
       "      <th>1767</th>\n",
       "      <td>1768</td>\n",
       "      <td>60</td>\n",
       "      <td>RL</td>\n",
       "      <td>104.0</td>\n",
       "      <td>21535</td>\n",
       "      <td>Pave</td>\n",
       "      <td>NaN</td>\n",
       "      <td>IR1</td>\n",
       "      <td>Lvl</td>\n",
       "      <td>AllPub</td>\n",
       "      <td>...</td>\n",
       "      <td>0</td>\n",
       "      <td>NaN</td>\n",
       "      <td>NaN</td>\n",
       "      <td>NaN</td>\n",
       "      <td>0</td>\n",
       "      <td>1</td>\n",
       "      <td>2007</td>\n",
       "      <td>WD</td>\n",
       "      <td>Normal</td>\n",
       "      <td>755000</td>\n",
       "    </tr>\n",
       "  </tbody>\n",
       "</table>\n",
       "<p>2 rows × 81 columns</p>\n",
       "</div>"
      ],
      "text/plain": [
       "      Order  MS SubClass MS Zoning  Lot Frontage  Lot Area Street Alley  \\\n",
       "1760   1761           60        RL         160.0     15623   Pave   NaN   \n",
       "1767   1768           60        RL         104.0     21535   Pave   NaN   \n",
       "\n",
       "     Lot Shape Land Contour Utilities  ... Pool Area Pool QC  Fence  \\\n",
       "1760       IR1          Lvl    AllPub  ...       555      Ex  MnPrv   \n",
       "1767       IR1          Lvl    AllPub  ...         0     NaN    NaN   \n",
       "\n",
       "     Misc Feature Misc Val Mo Sold Yr Sold  Sale Type  Sale Condition  \\\n",
       "1760          NaN        0       7    2007        WD          Abnorml   \n",
       "1767          NaN        0       1    2007        WD           Normal   \n",
       "\n",
       "      SalePrice  \n",
       "1760     745000  \n",
       "1767     755000  \n",
       "\n",
       "[2 rows x 81 columns]"
      ]
     },
     "execution_count": 9,
     "metadata": {},
     "output_type": "execute_result"
    }
   ],
   "source": [
    "df[(df['SalePrice']>700000) & (df['Lot Area']<50000)]"
   ]
  },
  {
   "cell_type": "code",
   "execution_count": 10,
   "metadata": {},
   "outputs": [
    {
     "data": {
      "text/html": [
       "<div>\n",
       "<style scoped>\n",
       "    .dataframe tbody tr th:only-of-type {\n",
       "        vertical-align: middle;\n",
       "    }\n",
       "\n",
       "    .dataframe tbody tr th {\n",
       "        vertical-align: top;\n",
       "    }\n",
       "\n",
       "    .dataframe thead th {\n",
       "        text-align: right;\n",
       "    }\n",
       "</style>\n",
       "<table border=\"1\" class=\"dataframe\">\n",
       "  <thead>\n",
       "    <tr style=\"text-align: right;\">\n",
       "      <th></th>\n",
       "      <th>Order</th>\n",
       "      <th>MS SubClass</th>\n",
       "      <th>MS Zoning</th>\n",
       "      <th>Lot Frontage</th>\n",
       "      <th>Lot Area</th>\n",
       "      <th>Street</th>\n",
       "      <th>Alley</th>\n",
       "      <th>Lot Shape</th>\n",
       "      <th>Land Contour</th>\n",
       "      <th>Utilities</th>\n",
       "      <th>...</th>\n",
       "      <th>Pool Area</th>\n",
       "      <th>Pool QC</th>\n",
       "      <th>Fence</th>\n",
       "      <th>Misc Feature</th>\n",
       "      <th>Misc Val</th>\n",
       "      <th>Mo Sold</th>\n",
       "      <th>Yr Sold</th>\n",
       "      <th>Sale Type</th>\n",
       "      <th>Sale Condition</th>\n",
       "      <th>SalePrice</th>\n",
       "    </tr>\n",
       "  </thead>\n",
       "  <tbody>\n",
       "    <tr>\n",
       "      <th>956</th>\n",
       "      <td>957</td>\n",
       "      <td>20</td>\n",
       "      <td>RL</td>\n",
       "      <td>150.0</td>\n",
       "      <td>215245</td>\n",
       "      <td>Pave</td>\n",
       "      <td>NaN</td>\n",
       "      <td>IR3</td>\n",
       "      <td>Low</td>\n",
       "      <td>AllPub</td>\n",
       "      <td>...</td>\n",
       "      <td>0</td>\n",
       "      <td>NaN</td>\n",
       "      <td>NaN</td>\n",
       "      <td>NaN</td>\n",
       "      <td>0</td>\n",
       "      <td>6</td>\n",
       "      <td>2009</td>\n",
       "      <td>WD</td>\n",
       "      <td>Normal</td>\n",
       "      <td>375000</td>\n",
       "    </tr>\n",
       "    <tr>\n",
       "      <th>1570</th>\n",
       "      <td>1571</td>\n",
       "      <td>190</td>\n",
       "      <td>RL</td>\n",
       "      <td>NaN</td>\n",
       "      <td>164660</td>\n",
       "      <td>Grvl</td>\n",
       "      <td>NaN</td>\n",
       "      <td>IR1</td>\n",
       "      <td>HLS</td>\n",
       "      <td>AllPub</td>\n",
       "      <td>...</td>\n",
       "      <td>0</td>\n",
       "      <td>NaN</td>\n",
       "      <td>NaN</td>\n",
       "      <td>Shed</td>\n",
       "      <td>700</td>\n",
       "      <td>8</td>\n",
       "      <td>2008</td>\n",
       "      <td>WD</td>\n",
       "      <td>Normal</td>\n",
       "      <td>228950</td>\n",
       "    </tr>\n",
       "    <tr>\n",
       "      <th>2071</th>\n",
       "      <td>2072</td>\n",
       "      <td>20</td>\n",
       "      <td>RL</td>\n",
       "      <td>NaN</td>\n",
       "      <td>115149</td>\n",
       "      <td>Pave</td>\n",
       "      <td>NaN</td>\n",
       "      <td>IR2</td>\n",
       "      <td>Low</td>\n",
       "      <td>AllPub</td>\n",
       "      <td>...</td>\n",
       "      <td>0</td>\n",
       "      <td>NaN</td>\n",
       "      <td>NaN</td>\n",
       "      <td>NaN</td>\n",
       "      <td>0</td>\n",
       "      <td>6</td>\n",
       "      <td>2007</td>\n",
       "      <td>WD</td>\n",
       "      <td>Normal</td>\n",
       "      <td>302000</td>\n",
       "    </tr>\n",
       "    <tr>\n",
       "      <th>2115</th>\n",
       "      <td>2116</td>\n",
       "      <td>50</td>\n",
       "      <td>RL</td>\n",
       "      <td>NaN</td>\n",
       "      <td>159000</td>\n",
       "      <td>Pave</td>\n",
       "      <td>NaN</td>\n",
       "      <td>IR2</td>\n",
       "      <td>Low</td>\n",
       "      <td>AllPub</td>\n",
       "      <td>...</td>\n",
       "      <td>0</td>\n",
       "      <td>NaN</td>\n",
       "      <td>NaN</td>\n",
       "      <td>Shed</td>\n",
       "      <td>500</td>\n",
       "      <td>6</td>\n",
       "      <td>2007</td>\n",
       "      <td>WD</td>\n",
       "      <td>Normal</td>\n",
       "      <td>277000</td>\n",
       "    </tr>\n",
       "  </tbody>\n",
       "</table>\n",
       "<p>4 rows × 81 columns</p>\n",
       "</div>"
      ],
      "text/plain": [
       "      Order  MS SubClass MS Zoning  Lot Frontage  Lot Area Street Alley  \\\n",
       "956     957           20        RL         150.0    215245   Pave   NaN   \n",
       "1570   1571          190        RL           NaN    164660   Grvl   NaN   \n",
       "2071   2072           20        RL           NaN    115149   Pave   NaN   \n",
       "2115   2116           50        RL           NaN    159000   Pave   NaN   \n",
       "\n",
       "     Lot Shape Land Contour Utilities  ... Pool Area Pool QC Fence  \\\n",
       "956        IR3          Low    AllPub  ...         0     NaN   NaN   \n",
       "1570       IR1          HLS    AllPub  ...         0     NaN   NaN   \n",
       "2071       IR2          Low    AllPub  ...         0     NaN   NaN   \n",
       "2115       IR2          Low    AllPub  ...         0     NaN   NaN   \n",
       "\n",
       "     Misc Feature Misc Val Mo Sold Yr Sold  Sale Type  Sale Condition  \\\n",
       "956           NaN        0       6    2009        WD           Normal   \n",
       "1570         Shed      700       8    2008        WD           Normal   \n",
       "2071          NaN        0       6    2007        WD           Normal   \n",
       "2115         Shed      500       6    2007        WD           Normal   \n",
       "\n",
       "      SalePrice  \n",
       "956      375000  \n",
       "1570     228950  \n",
       "2071     302000  \n",
       "2115     277000  \n",
       "\n",
       "[4 rows x 81 columns]"
      ]
     },
     "execution_count": 10,
     "metadata": {},
     "output_type": "execute_result"
    }
   ],
   "source": [
    "df[(df['SalePrice']<400000) & (df['Lot Area']>100000)]"
   ]
  },
  {
   "cell_type": "code",
   "execution_count": 11,
   "metadata": {},
   "outputs": [
    {
     "data": {
      "text/html": [
       "<div>\n",
       "<style scoped>\n",
       "    .dataframe tbody tr th:only-of-type {\n",
       "        vertical-align: middle;\n",
       "    }\n",
       "\n",
       "    .dataframe tbody tr th {\n",
       "        vertical-align: top;\n",
       "    }\n",
       "\n",
       "    .dataframe thead th {\n",
       "        text-align: right;\n",
       "    }\n",
       "</style>\n",
       "<table border=\"1\" class=\"dataframe\">\n",
       "  <thead>\n",
       "    <tr style=\"text-align: right;\">\n",
       "      <th></th>\n",
       "      <th>Order</th>\n",
       "      <th>MS SubClass</th>\n",
       "      <th>MS Zoning</th>\n",
       "      <th>Lot Frontage</th>\n",
       "      <th>Lot Area</th>\n",
       "      <th>Street</th>\n",
       "      <th>Alley</th>\n",
       "      <th>Lot Shape</th>\n",
       "      <th>Land Contour</th>\n",
       "      <th>Utilities</th>\n",
       "      <th>...</th>\n",
       "      <th>Pool Area</th>\n",
       "      <th>Pool QC</th>\n",
       "      <th>Fence</th>\n",
       "      <th>Misc Feature</th>\n",
       "      <th>Misc Val</th>\n",
       "      <th>Mo Sold</th>\n",
       "      <th>Yr Sold</th>\n",
       "      <th>Sale Type</th>\n",
       "      <th>Sale Condition</th>\n",
       "      <th>SalePrice</th>\n",
       "    </tr>\n",
       "  </thead>\n",
       "  <tbody>\n",
       "    <tr>\n",
       "      <th>1265</th>\n",
       "      <td>1266</td>\n",
       "      <td>20</td>\n",
       "      <td>RL</td>\n",
       "      <td>313.0</td>\n",
       "      <td>27650</td>\n",
       "      <td>Pave</td>\n",
       "      <td>NaN</td>\n",
       "      <td>IR2</td>\n",
       "      <td>HLS</td>\n",
       "      <td>AllPub</td>\n",
       "      <td>...</td>\n",
       "      <td>0</td>\n",
       "      <td>NaN</td>\n",
       "      <td>NaN</td>\n",
       "      <td>NaN</td>\n",
       "      <td>0</td>\n",
       "      <td>11</td>\n",
       "      <td>2008</td>\n",
       "      <td>WD</td>\n",
       "      <td>Normal</td>\n",
       "      <td>242000</td>\n",
       "    </tr>\n",
       "    <tr>\n",
       "      <th>1498</th>\n",
       "      <td>1499</td>\n",
       "      <td>60</td>\n",
       "      <td>RL</td>\n",
       "      <td>313.0</td>\n",
       "      <td>63887</td>\n",
       "      <td>Pave</td>\n",
       "      <td>NaN</td>\n",
       "      <td>IR3</td>\n",
       "      <td>Bnk</td>\n",
       "      <td>AllPub</td>\n",
       "      <td>...</td>\n",
       "      <td>480</td>\n",
       "      <td>Gd</td>\n",
       "      <td>NaN</td>\n",
       "      <td>NaN</td>\n",
       "      <td>0</td>\n",
       "      <td>1</td>\n",
       "      <td>2008</td>\n",
       "      <td>New</td>\n",
       "      <td>Partial</td>\n",
       "      <td>160000</td>\n",
       "    </tr>\n",
       "  </tbody>\n",
       "</table>\n",
       "<p>2 rows × 81 columns</p>\n",
       "</div>"
      ],
      "text/plain": [
       "      Order  MS SubClass MS Zoning  Lot Frontage  Lot Area Street Alley  \\\n",
       "1265   1266           20        RL         313.0     27650   Pave   NaN   \n",
       "1498   1499           60        RL         313.0     63887   Pave   NaN   \n",
       "\n",
       "     Lot Shape Land Contour Utilities  ... Pool Area Pool QC Fence  \\\n",
       "1265       IR2          HLS    AllPub  ...         0     NaN   NaN   \n",
       "1498       IR3          Bnk    AllPub  ...       480      Gd   NaN   \n",
       "\n",
       "     Misc Feature Misc Val Mo Sold Yr Sold  Sale Type  Sale Condition  \\\n",
       "1265          NaN        0      11    2008        WD           Normal   \n",
       "1498          NaN        0       1    2008        New         Partial   \n",
       "\n",
       "      SalePrice  \n",
       "1265     242000  \n",
       "1498     160000  \n",
       "\n",
       "[2 rows x 81 columns]"
      ]
     },
     "execution_count": 11,
     "metadata": {},
     "output_type": "execute_result"
    }
   ],
   "source": [
    "df[(df['SalePrice']<300000) & (df['Lot Frontage']>300)]"
   ]
  },
  {
   "cell_type": "code",
   "execution_count": 12,
   "metadata": {},
   "outputs": [
    {
     "data": {
      "text/plain": [
       "<matplotlib.axes._subplots.AxesSubplot at 0x25aef583ac8>"
      ]
     },
     "execution_count": 12,
     "metadata": {},
     "output_type": "execute_result"
    },
    {
     "data": {
      "image/png": "[encoded data removed]",
      "text/plain": [
       "<Figure size 720x360 with 1 Axes>"
      ]
     },
     "metadata": {
      "needs_background": "light"
     },
     "output_type": "display_data"
    }
   ],
   "source": [
    "plt.figure(figsize=(10,5))\n",
    "sns.scatterplot(x='BsmtFin SF 1',y='SalePrice',data=df)"
   ]
  },
  {
   "cell_type": "code",
   "execution_count": 13,
   "metadata": {},
   "outputs": [
    {
     "data": {
      "text/html": [
       "<div>\n",
       "<style scoped>\n",
       "    .dataframe tbody tr th:only-of-type {\n",
       "        vertical-align: middle;\n",
       "    }\n",
       "\n",
       "    .dataframe tbody tr th {\n",
       "        vertical-align: top;\n",
       "    }\n",
       "\n",
       "    .dataframe thead th {\n",
       "        text-align: right;\n",
       "    }\n",
       "</style>\n",
       "<table border=\"1\" class=\"dataframe\">\n",
       "  <thead>\n",
       "    <tr style=\"text-align: right;\">\n",
       "      <th></th>\n",
       "      <th>Order</th>\n",
       "      <th>MS SubClass</th>\n",
       "      <th>MS Zoning</th>\n",
       "      <th>Lot Frontage</th>\n",
       "      <th>Lot Area</th>\n",
       "      <th>Street</th>\n",
       "      <th>Alley</th>\n",
       "      <th>Lot Shape</th>\n",
       "      <th>Land Contour</th>\n",
       "      <th>Utilities</th>\n",
       "      <th>...</th>\n",
       "      <th>Pool Area</th>\n",
       "      <th>Pool QC</th>\n",
       "      <th>Fence</th>\n",
       "      <th>Misc Feature</th>\n",
       "      <th>Misc Val</th>\n",
       "      <th>Mo Sold</th>\n",
       "      <th>Yr Sold</th>\n",
       "      <th>Sale Type</th>\n",
       "      <th>Sale Condition</th>\n",
       "      <th>SalePrice</th>\n",
       "    </tr>\n",
       "  </thead>\n",
       "  <tbody>\n",
       "    <tr>\n",
       "      <th>1498</th>\n",
       "      <td>1499</td>\n",
       "      <td>60</td>\n",
       "      <td>RL</td>\n",
       "      <td>313.0</td>\n",
       "      <td>63887</td>\n",
       "      <td>Pave</td>\n",
       "      <td>NaN</td>\n",
       "      <td>IR3</td>\n",
       "      <td>Bnk</td>\n",
       "      <td>AllPub</td>\n",
       "      <td>...</td>\n",
       "      <td>480</td>\n",
       "      <td>Gd</td>\n",
       "      <td>NaN</td>\n",
       "      <td>NaN</td>\n",
       "      <td>0</td>\n",
       "      <td>1</td>\n",
       "      <td>2008</td>\n",
       "      <td>New</td>\n",
       "      <td>Partial</td>\n",
       "      <td>160000</td>\n",
       "    </tr>\n",
       "    <tr>\n",
       "      <th>2180</th>\n",
       "      <td>2181</td>\n",
       "      <td>20</td>\n",
       "      <td>RL</td>\n",
       "      <td>128.0</td>\n",
       "      <td>39290</td>\n",
       "      <td>Pave</td>\n",
       "      <td>NaN</td>\n",
       "      <td>IR1</td>\n",
       "      <td>Bnk</td>\n",
       "      <td>AllPub</td>\n",
       "      <td>...</td>\n",
       "      <td>0</td>\n",
       "      <td>NaN</td>\n",
       "      <td>NaN</td>\n",
       "      <td>Elev</td>\n",
       "      <td>17000</td>\n",
       "      <td>10</td>\n",
       "      <td>2007</td>\n",
       "      <td>New</td>\n",
       "      <td>Partial</td>\n",
       "      <td>183850</td>\n",
       "    </tr>\n",
       "  </tbody>\n",
       "</table>\n",
       "<p>2 rows × 81 columns</p>\n",
       "</div>"
      ],
      "text/plain": [
       "      Order  MS SubClass MS Zoning  Lot Frontage  Lot Area Street Alley  \\\n",
       "1498   1499           60        RL         313.0     63887   Pave   NaN   \n",
       "2180   2181           20        RL         128.0     39290   Pave   NaN   \n",
       "\n",
       "     Lot Shape Land Contour Utilities  ... Pool Area Pool QC Fence  \\\n",
       "1498       IR3          Bnk    AllPub  ...       480      Gd   NaN   \n",
       "2180       IR1          Bnk    AllPub  ...         0     NaN   NaN   \n",
       "\n",
       "     Misc Feature Misc Val Mo Sold Yr Sold  Sale Type  Sale Condition  \\\n",
       "1498          NaN        0       1    2008        New         Partial   \n",
       "2180         Elev    17000      10    2007        New         Partial   \n",
       "\n",
       "      SalePrice  \n",
       "1498     160000  \n",
       "2180     183850  \n",
       "\n",
       "[2 rows x 81 columns]"
      ]
     },
     "execution_count": 13,
     "metadata": {},
     "output_type": "execute_result"
    }
   ],
   "source": [
    "df[(df['SalePrice']<300000) & (df['BsmtFin SF 1']>3000)]"
   ]
  },
  {
   "cell_type": "code",
   "execution_count": 14,
   "metadata": {},
   "outputs": [
    {
     "data": {
      "text/plain": [
       "<matplotlib.axes._subplots.AxesSubplot at 0x25aef5f3ac8>"
      ]
     },
     "execution_count": 14,
     "metadata": {},
     "output_type": "execute_result"
    },
    {
     "data": {
      "image/png": "[encoded data removed]",
      "text/plain": [
       "<Figure size 720x360 with 1 Axes>"
      ]
     },
     "metadata": {
      "needs_background": "light"
     },
     "output_type": "display_data"
    }
   ],
   "source": [
    "plt.figure(figsize=(10,5))\n",
    "sns.scatterplot(x='Total Bsmt SF',y='SalePrice',data=df)"
   ]
  },
  {
   "cell_type": "code",
   "execution_count": 15,
   "metadata": {},
   "outputs": [
    {
     "data": {
      "text/html": [
       "<div>\n",
       "<style scoped>\n",
       "    .dataframe tbody tr th:only-of-type {\n",
       "        vertical-align: middle;\n",
       "    }\n",
       "\n",
       "    .dataframe tbody tr th {\n",
       "        vertical-align: top;\n",
       "    }\n",
       "\n",
       "    .dataframe thead th {\n",
       "        text-align: right;\n",
       "    }\n",
       "</style>\n",
       "<table border=\"1\" class=\"dataframe\">\n",
       "  <thead>\n",
       "    <tr style=\"text-align: right;\">\n",
       "      <th></th>\n",
       "      <th>Order</th>\n",
       "      <th>MS SubClass</th>\n",
       "      <th>MS Zoning</th>\n",
       "      <th>Lot Frontage</th>\n",
       "      <th>Lot Area</th>\n",
       "      <th>Street</th>\n",
       "      <th>Alley</th>\n",
       "      <th>Lot Shape</th>\n",
       "      <th>Land Contour</th>\n",
       "      <th>Utilities</th>\n",
       "      <th>...</th>\n",
       "      <th>Pool Area</th>\n",
       "      <th>Pool QC</th>\n",
       "      <th>Fence</th>\n",
       "      <th>Misc Feature</th>\n",
       "      <th>Misc Val</th>\n",
       "      <th>Mo Sold</th>\n",
       "      <th>Yr Sold</th>\n",
       "      <th>Sale Type</th>\n",
       "      <th>Sale Condition</th>\n",
       "      <th>SalePrice</th>\n",
       "    </tr>\n",
       "  </thead>\n",
       "  <tbody>\n",
       "    <tr>\n",
       "      <th>1498</th>\n",
       "      <td>1499</td>\n",
       "      <td>60</td>\n",
       "      <td>RL</td>\n",
       "      <td>313.0</td>\n",
       "      <td>63887</td>\n",
       "      <td>Pave</td>\n",
       "      <td>NaN</td>\n",
       "      <td>IR3</td>\n",
       "      <td>Bnk</td>\n",
       "      <td>AllPub</td>\n",
       "      <td>...</td>\n",
       "      <td>480</td>\n",
       "      <td>Gd</td>\n",
       "      <td>NaN</td>\n",
       "      <td>NaN</td>\n",
       "      <td>0</td>\n",
       "      <td>1</td>\n",
       "      <td>2008</td>\n",
       "      <td>New</td>\n",
       "      <td>Partial</td>\n",
       "      <td>160000</td>\n",
       "    </tr>\n",
       "    <tr>\n",
       "      <th>2180</th>\n",
       "      <td>2181</td>\n",
       "      <td>20</td>\n",
       "      <td>RL</td>\n",
       "      <td>128.0</td>\n",
       "      <td>39290</td>\n",
       "      <td>Pave</td>\n",
       "      <td>NaN</td>\n",
       "      <td>IR1</td>\n",
       "      <td>Bnk</td>\n",
       "      <td>AllPub</td>\n",
       "      <td>...</td>\n",
       "      <td>0</td>\n",
       "      <td>NaN</td>\n",
       "      <td>NaN</td>\n",
       "      <td>Elev</td>\n",
       "      <td>17000</td>\n",
       "      <td>10</td>\n",
       "      <td>2007</td>\n",
       "      <td>New</td>\n",
       "      <td>Partial</td>\n",
       "      <td>183850</td>\n",
       "    </tr>\n",
       "  </tbody>\n",
       "</table>\n",
       "<p>2 rows × 81 columns</p>\n",
       "</div>"
      ],
      "text/plain": [
       "      Order  MS SubClass MS Zoning  Lot Frontage  Lot Area Street Alley  \\\n",
       "1498   1499           60        RL         313.0     63887   Pave   NaN   \n",
       "2180   2181           20        RL         128.0     39290   Pave   NaN   \n",
       "\n",
       "     Lot Shape Land Contour Utilities  ... Pool Area Pool QC Fence  \\\n",
       "1498       IR3          Bnk    AllPub  ...       480      Gd   NaN   \n",
       "2180       IR1          Bnk    AllPub  ...         0     NaN   NaN   \n",
       "\n",
       "     Misc Feature Misc Val Mo Sold Yr Sold  Sale Type  Sale Condition  \\\n",
       "1498          NaN        0       1    2008        New         Partial   \n",
       "2180         Elev    17000      10    2007        New         Partial   \n",
       "\n",
       "      SalePrice  \n",
       "1498     160000  \n",
       "2180     183850  \n",
       "\n",
       "[2 rows x 81 columns]"
      ]
     },
     "execution_count": 15,
     "metadata": {},
     "output_type": "execute_result"
    }
   ],
   "source": [
    "df[(df['SalePrice']<300000) & (df['Total Bsmt SF']>4000)]"
   ]
  },
  {
   "cell_type": "code",
   "execution_count": 16,
   "metadata": {},
   "outputs": [
    {
     "data": {
      "text/html": [
       "<div>\n",
       "<style scoped>\n",
       "    .dataframe tbody tr th:only-of-type {\n",
       "        vertical-align: middle;\n",
       "    }\n",
       "\n",
       "    .dataframe tbody tr th {\n",
       "        vertical-align: top;\n",
       "    }\n",
       "\n",
       "    .dataframe thead th {\n",
       "        text-align: right;\n",
       "    }\n",
       "</style>\n",
       "<table border=\"1\" class=\"dataframe\">\n",
       "  <thead>\n",
       "    <tr style=\"text-align: right;\">\n",
       "      <th></th>\n",
       "      <th>Order</th>\n",
       "      <th>MS SubClass</th>\n",
       "      <th>MS Zoning</th>\n",
       "      <th>Lot Frontage</th>\n",
       "      <th>Lot Area</th>\n",
       "      <th>Street</th>\n",
       "      <th>Alley</th>\n",
       "      <th>Lot Shape</th>\n",
       "      <th>Land Contour</th>\n",
       "      <th>Utilities</th>\n",
       "      <th>...</th>\n",
       "      <th>Pool Area</th>\n",
       "      <th>Pool QC</th>\n",
       "      <th>Fence</th>\n",
       "      <th>Misc Feature</th>\n",
       "      <th>Misc Val</th>\n",
       "      <th>Mo Sold</th>\n",
       "      <th>Yr Sold</th>\n",
       "      <th>Sale Type</th>\n",
       "      <th>Sale Condition</th>\n",
       "      <th>SalePrice</th>\n",
       "    </tr>\n",
       "  </thead>\n",
       "  <tbody>\n",
       "    <tr>\n",
       "      <th>1760</th>\n",
       "      <td>1761</td>\n",
       "      <td>60</td>\n",
       "      <td>RL</td>\n",
       "      <td>160.0</td>\n",
       "      <td>15623</td>\n",
       "      <td>Pave</td>\n",
       "      <td>NaN</td>\n",
       "      <td>IR1</td>\n",
       "      <td>Lvl</td>\n",
       "      <td>AllPub</td>\n",
       "      <td>...</td>\n",
       "      <td>555</td>\n",
       "      <td>Ex</td>\n",
       "      <td>MnPrv</td>\n",
       "      <td>NaN</td>\n",
       "      <td>0</td>\n",
       "      <td>7</td>\n",
       "      <td>2007</td>\n",
       "      <td>WD</td>\n",
       "      <td>Abnorml</td>\n",
       "      <td>745000</td>\n",
       "    </tr>\n",
       "    <tr>\n",
       "      <th>1767</th>\n",
       "      <td>1768</td>\n",
       "      <td>60</td>\n",
       "      <td>RL</td>\n",
       "      <td>104.0</td>\n",
       "      <td>21535</td>\n",
       "      <td>Pave</td>\n",
       "      <td>NaN</td>\n",
       "      <td>IR1</td>\n",
       "      <td>Lvl</td>\n",
       "      <td>AllPub</td>\n",
       "      <td>...</td>\n",
       "      <td>0</td>\n",
       "      <td>NaN</td>\n",
       "      <td>NaN</td>\n",
       "      <td>NaN</td>\n",
       "      <td>0</td>\n",
       "      <td>1</td>\n",
       "      <td>2007</td>\n",
       "      <td>WD</td>\n",
       "      <td>Normal</td>\n",
       "      <td>755000</td>\n",
       "    </tr>\n",
       "  </tbody>\n",
       "</table>\n",
       "<p>2 rows × 81 columns</p>\n",
       "</div>"
      ],
      "text/plain": [
       "      Order  MS SubClass MS Zoning  Lot Frontage  Lot Area Street Alley  \\\n",
       "1760   1761           60        RL         160.0     15623   Pave   NaN   \n",
       "1767   1768           60        RL         104.0     21535   Pave   NaN   \n",
       "\n",
       "     Lot Shape Land Contour Utilities  ... Pool Area Pool QC  Fence  \\\n",
       "1760       IR1          Lvl    AllPub  ...       555      Ex  MnPrv   \n",
       "1767       IR1          Lvl    AllPub  ...         0     NaN    NaN   \n",
       "\n",
       "     Misc Feature Misc Val Mo Sold Yr Sold  Sale Type  Sale Condition  \\\n",
       "1760          NaN        0       7    2007        WD          Abnorml   \n",
       "1767          NaN        0       1    2007        WD           Normal   \n",
       "\n",
       "      SalePrice  \n",
       "1760     745000  \n",
       "1767     755000  \n",
       "\n",
       "[2 rows x 81 columns]"
      ]
     },
     "execution_count": 16,
     "metadata": {},
     "output_type": "execute_result"
    }
   ],
   "source": [
    "df[(df['SalePrice']>700000) & (df['Total Bsmt SF']<3000)]"
   ]
  },
  {
   "cell_type": "raw",
   "metadata": {},
   "source": [
    "Creating a list with the indices of the outliers to be dropped"
   ]
  },
  {
   "cell_type": "code",
   "execution_count": 17,
   "metadata": {},
   "outputs": [
    {
     "data": {
      "text/plain": [
       "0.31"
      ]
     },
     "execution_count": 17,
     "metadata": {},
     "output_type": "execute_result"
    }
   ],
   "source": [
    "indices=[1760,1767,956,1570,2071,2115,1265,1498,2180]\n",
    "\n",
    "#Percentage of data to be dropped\n",
    "round(len(indices)/len(df)*100,2)\n"
   ]
  },
  {
   "cell_type": "code",
   "execution_count": 18,
   "metadata": {},
   "outputs": [],
   "source": [
    "df.drop(indices,axis=0,inplace=True)"
   ]
  },
  {
   "cell_type": "markdown",
   "metadata": {},
   "source": [
    "**Now identifying columns with missing data**"
   ]
  },
  {
   "cell_type": "code",
   "execution_count": 19,
   "metadata": {},
   "outputs": [],
   "source": [
    "def missing(df):\n",
    "    global perc_miss\n",
    "    perc_miss=df.isnull().sum()/len(df)*100\n",
    "    perc_miss=perc_miss[perc_miss>0].sort_values()\n",
    "    return perc_miss"
   ]
  },
  {
   "cell_type": "code",
   "execution_count": 20,
   "metadata": {},
   "outputs": [
    {
     "data": {
      "text/plain": [
       "Electrical         0.034235\n",
       "Garage Area        0.034235\n",
       "Total Bsmt SF      0.034235\n",
       "Bsmt Unf SF        0.034235\n",
       "BsmtFin SF 1       0.034235\n",
       "BsmtFin SF 2       0.034235\n",
       "Garage Cars        0.034235\n",
       "Bsmt Full Bath     0.068470\n",
       "Bsmt Half Bath     0.068470\n",
       "Mas Vnr Area       0.787402\n",
       "Mas Vnr Type       0.787402\n",
       "BsmtFin Type 1     2.738788\n",
       "Bsmt Qual          2.738788\n",
       "Bsmt Cond          2.738788\n",
       "BsmtFin Type 2     2.773023\n",
       "Bsmt Exposure      2.841493\n",
       "Garage Type        5.374872\n",
       "Garage Finish      5.443341\n",
       "Garage Qual        5.443341\n",
       "Garage Cond        5.443341\n",
       "Garage Yr Blt      5.443341\n",
       "Lot Frontage      16.672372\n",
       "Fireplace Qu      48.681958\n",
       "Fence             80.451900\n",
       "Alley             93.221499\n",
       "Misc Feature      96.473810\n",
       "Pool QC           99.623417\n",
       "dtype: float64"
      ]
     },
     "execution_count": 20,
     "metadata": {},
     "output_type": "execute_result"
    }
   ],
   "source": [
    "df_isnull=missing(df)\n",
    "df_isnull"
   ]
  },
  {
   "cell_type": "code",
   "execution_count": 21,
   "metadata": {},
   "outputs": [
    {
     "data": {
      "image/png": "[encoded data removed]",
      "text/plain": [
       "<Figure size 720x360 with 1 Axes>"
      ]
     },
     "metadata": {
      "needs_background": "light"
     },
     "output_type": "display_data"
    }
   ],
   "source": [
    "plt.figure(figsize=(10,5))\n",
    "sns.barplot(x=df_isnull.index,y=perc_miss)\n",
    "plt.xticks(rotation=90)\n",
    "plt.tight_layout()"
   ]
  },
  {
   "cell_type": "markdown",
   "metadata": {},
   "source": [
    "Since some featues have a very small percentage of missing data, we can drop those rows altogether. Let us set a threshold of 2% data that can be dropped"
   ]
  },
  {
   "cell_type": "code",
   "execution_count": 22,
   "metadata": {},
   "outputs": [
    {
     "data": {
      "text/plain": [
       "['Electrical',\n",
       " 'Garage Area',\n",
       " 'Total Bsmt SF',\n",
       " 'Bsmt Unf SF',\n",
       " 'BsmtFin SF 1',\n",
       " 'BsmtFin SF 2',\n",
       " 'Garage Cars',\n",
       " 'Bsmt Full Bath',\n",
       " 'Bsmt Half Bath',\n",
       " 'Mas Vnr Area',\n",
       " 'Mas Vnr Type']"
      ]
     },
     "execution_count": 22,
     "metadata": {},
     "output_type": "execute_result"
    }
   ],
   "source": [
    "missing_1=list(perc_miss[perc_miss<=1].index)  # Extracting the Features having less than or equal to 1% missing data\n",
    "missing_1"
   ]
  },
  {
   "cell_type": "code",
   "execution_count": 23,
   "metadata": {},
   "outputs": [],
   "source": [
    "df=df.dropna(axis=0,subset=missing_1)"
   ]
  },
  {
   "cell_type": "code",
   "execution_count": 24,
   "metadata": {},
   "outputs": [
    {
     "data": {
      "text/plain": [
       "['BsmtFin Type 1',\n",
       " 'Bsmt Qual',\n",
       " 'Bsmt Cond',\n",
       " 'BsmtFin Type 2',\n",
       " 'Bsmt Exposure',\n",
       " 'Garage Type',\n",
       " 'Garage Finish',\n",
       " 'Garage Qual',\n",
       " 'Garage Cond',\n",
       " 'Garage Yr Blt',\n",
       " 'Lot Frontage',\n",
       " 'Fireplace Qu',\n",
       " 'Fence',\n",
       " 'Alley',\n",
       " 'Misc Feature',\n",
       " 'Pool QC']"
      ]
     },
     "execution_count": 24,
     "metadata": {},
     "output_type": "execute_result"
    }
   ],
   "source": [
    "df_miss_great1=list(perc_miss[perc_miss>1].index)  # Extracting the Features having more than 1% missing data\n",
    "df_miss_great1"
   ]
  },
  {
   "cell_type": "code",
   "execution_count": 25,
   "metadata": {},
   "outputs": [
    {
     "name": "stdout",
     "output_type": "stream",
     "text": [
      "GLQ    842\n",
      "Unf    839\n",
      "ALQ    426\n",
      "Rec    286\n",
      "BLQ    269\n",
      "LwQ    154\n",
      "Name: BsmtFin Type 1, dtype: int64\n"
     ]
    },
    {
     "data": {
      "text/plain": [
       "83      NaN\n",
       "154     NaN\n",
       "206     NaN\n",
       "243     NaN\n",
       "273     NaN\n",
       "       ... \n",
       "2739    NaN\n",
       "2744    NaN\n",
       "2879    NaN\n",
       "2892    NaN\n",
       "2903    NaN\n",
       "Name: BsmtFin Type 1, Length: 78, dtype: object"
      ]
     },
     "execution_count": 25,
     "metadata": {},
     "output_type": "execute_result"
    }
   ],
   "source": [
    "print(df['BsmtFin Type 1'].value_counts())\n",
    "df[df['BsmtFin Type 1'].isnull()]['BsmtFin Type 1']     "
   ]
  },
  {
   "cell_type": "raw",
   "metadata": {},
   "source": [
    "From the URL provided above, it is clear that a \"Nan\" value indicates \"No Basement\". Thus we can replace \"Nan\" with \"None\""
   ]
  },
  {
   "cell_type": "code",
   "execution_count": 26,
   "metadata": {},
   "outputs": [],
   "source": [
    "# The following features have string values and define the Basement characteristics\n",
    "basement_str_feats=['BsmtFin Type 1','Bsmt Qual','Bsmt Cond', 'BsmtFin Type 2','Bsmt Exposure']"
   ]
  },
  {
   "cell_type": "code",
   "execution_count": 27,
   "metadata": {},
   "outputs": [],
   "source": [
    "df[basement_str_feats]=df[basement_str_feats].fillna('None')"
   ]
  },
  {
   "cell_type": "code",
   "execution_count": 28,
   "metadata": {},
   "outputs": [
    {
     "data": {
      "text/plain": [
       "BsmtFin Type 1    0\n",
       "Bsmt Qual         0\n",
       "Bsmt Cond         0\n",
       "BsmtFin Type 2    0\n",
       "Bsmt Exposure     0\n",
       "dtype: int64"
      ]
     },
     "execution_count": 28,
     "metadata": {},
     "output_type": "execute_result"
    }
   ],
   "source": [
    "df[basement_str_feats].isnull().sum()"
   ]
  },
  {
   "cell_type": "code",
   "execution_count": 29,
   "metadata": {},
   "outputs": [],
   "source": [
    "# The following features have string values and define the garage characteristics\n",
    "garage_data=['Garage Type','Garage Finish','Garage Qual','Garage Cond']"
   ]
  },
  {
   "cell_type": "code",
   "execution_count": 30,
   "metadata": {},
   "outputs": [],
   "source": [
    "df[garage_data]=df[garage_data].fillna('None')"
   ]
  },
  {
   "cell_type": "code",
   "execution_count": 31,
   "metadata": {},
   "outputs": [
    {
     "data": {
      "text/plain": [
       "Garage Type      0\n",
       "Garage Finish    0\n",
       "Garage Qual      0\n",
       "Garage Cond      0\n",
       "dtype: int64"
      ]
     },
     "execution_count": 31,
     "metadata": {},
     "output_type": "execute_result"
    }
   ],
   "source": [
    "df[garage_data].isnull().sum()"
   ]
  },
  {
   "cell_type": "code",
   "execution_count": 32,
   "metadata": {},
   "outputs": [
    {
     "data": {
      "text/plain": [
       "Neighborhood\n",
       "Blmngtn    46.900000\n",
       "Blueste    27.300000\n",
       "BrDale     21.500000\n",
       "BrkSide    55.329787\n",
       "ClearCr    88.150000\n",
       "CollgCr    71.325688\n",
       "Crawfor    69.951807\n",
       "Edwards    64.775862\n",
       "Gilbert    74.345455\n",
       "Greens     41.000000\n",
       "GrnHill          NaN\n",
       "IDOTRR     62.383721\n",
       "Landmrk          NaN\n",
       "MeadowV    25.606061\n",
       "Mitchel    75.144444\n",
       "NAmes      74.574866\n",
       "NPkVill    28.142857\n",
       "NWAmes     81.517647\n",
       "NoRidge    90.076923\n",
       "NridgHt    83.925466\n",
       "OldTown    61.777293\n",
       "SWISU      59.068182\n",
       "Sawyer     74.551020\n",
       "SawyerW    70.704762\n",
       "Somerst    64.111111\n",
       "StoneBr    62.173913\n",
       "Timber     80.277778\n",
       "Veenker    72.000000\n",
       "Name: Lot Frontage, dtype: float64"
      ]
     },
     "execution_count": 32,
     "metadata": {},
     "output_type": "execute_result"
    }
   ],
   "source": [
    "df.groupby('Neighborhood')['Lot Frontage'].mean()"
   ]
  },
  {
   "cell_type": "code",
   "execution_count": 33,
   "metadata": {},
   "outputs": [
    {
     "data": {
      "text/plain": [
       "3"
      ]
     },
     "execution_count": 33,
     "metadata": {},
     "output_type": "execute_result"
    }
   ],
   "source": [
    "#Lot frontage is a continuos variable. Hence we can fill in the missing values with the mean of the entire feature\n",
    "df['Lot Frontage'] = df.groupby('Neighborhood')['Lot Frontage'].transform(lambda val: val.fillna(val.mean()))\n",
    "df['Lot Frontage'].isnull().sum()"
   ]
  },
  {
   "cell_type": "code",
   "execution_count": 34,
   "metadata": {},
   "outputs": [
    {
     "data": {
      "text/html": [
       "<div>\n",
       "<style scoped>\n",
       "    .dataframe tbody tr th:only-of-type {\n",
       "        vertical-align: middle;\n",
       "    }\n",
       "\n",
       "    .dataframe tbody tr th {\n",
       "        vertical-align: top;\n",
       "    }\n",
       "\n",
       "    .dataframe thead th {\n",
       "        text-align: right;\n",
       "    }\n",
       "</style>\n",
       "<table border=\"1\" class=\"dataframe\">\n",
       "  <thead>\n",
       "    <tr style=\"text-align: right;\">\n",
       "      <th></th>\n",
       "      <th>Order</th>\n",
       "      <th>MS SubClass</th>\n",
       "      <th>MS Zoning</th>\n",
       "      <th>Lot Frontage</th>\n",
       "      <th>Lot Area</th>\n",
       "      <th>Street</th>\n",
       "      <th>Alley</th>\n",
       "      <th>Lot Shape</th>\n",
       "      <th>Land Contour</th>\n",
       "      <th>Utilities</th>\n",
       "      <th>...</th>\n",
       "      <th>Pool Area</th>\n",
       "      <th>Pool QC</th>\n",
       "      <th>Fence</th>\n",
       "      <th>Misc Feature</th>\n",
       "      <th>Misc Val</th>\n",
       "      <th>Mo Sold</th>\n",
       "      <th>Yr Sold</th>\n",
       "      <th>Sale Type</th>\n",
       "      <th>Sale Condition</th>\n",
       "      <th>SalePrice</th>\n",
       "    </tr>\n",
       "  </thead>\n",
       "  <tbody>\n",
       "    <tr>\n",
       "      <th>2256</th>\n",
       "      <td>2257</td>\n",
       "      <td>120</td>\n",
       "      <td>RM</td>\n",
       "      <td>NaN</td>\n",
       "      <td>9763</td>\n",
       "      <td>Pave</td>\n",
       "      <td>NaN</td>\n",
       "      <td>IR1</td>\n",
       "      <td>Lvl</td>\n",
       "      <td>AllPub</td>\n",
       "      <td>...</td>\n",
       "      <td>0</td>\n",
       "      <td>NaN</td>\n",
       "      <td>NaN</td>\n",
       "      <td>NaN</td>\n",
       "      <td>0</td>\n",
       "      <td>9</td>\n",
       "      <td>2007</td>\n",
       "      <td>WD</td>\n",
       "      <td>Normal</td>\n",
       "      <td>330000</td>\n",
       "    </tr>\n",
       "    <tr>\n",
       "      <th>2788</th>\n",
       "      <td>2789</td>\n",
       "      <td>160</td>\n",
       "      <td>RH</td>\n",
       "      <td>NaN</td>\n",
       "      <td>3612</td>\n",
       "      <td>Pave</td>\n",
       "      <td>NaN</td>\n",
       "      <td>IR1</td>\n",
       "      <td>Lvl</td>\n",
       "      <td>AllPub</td>\n",
       "      <td>...</td>\n",
       "      <td>0</td>\n",
       "      <td>NaN</td>\n",
       "      <td>MnPrv</td>\n",
       "      <td>NaN</td>\n",
       "      <td>0</td>\n",
       "      <td>6</td>\n",
       "      <td>2006</td>\n",
       "      <td>WD</td>\n",
       "      <td>Normal</td>\n",
       "      <td>137000</td>\n",
       "    </tr>\n",
       "    <tr>\n",
       "      <th>2892</th>\n",
       "      <td>2893</td>\n",
       "      <td>120</td>\n",
       "      <td>RM</td>\n",
       "      <td>NaN</td>\n",
       "      <td>8239</td>\n",
       "      <td>Pave</td>\n",
       "      <td>NaN</td>\n",
       "      <td>IR1</td>\n",
       "      <td>Lvl</td>\n",
       "      <td>AllPub</td>\n",
       "      <td>...</td>\n",
       "      <td>0</td>\n",
       "      <td>NaN</td>\n",
       "      <td>NaN</td>\n",
       "      <td>NaN</td>\n",
       "      <td>0</td>\n",
       "      <td>11</td>\n",
       "      <td>2006</td>\n",
       "      <td>WD</td>\n",
       "      <td>Normal</td>\n",
       "      <td>230000</td>\n",
       "    </tr>\n",
       "  </tbody>\n",
       "</table>\n",
       "<p>3 rows × 81 columns</p>\n",
       "</div>"
      ],
      "text/plain": [
       "      Order  MS SubClass MS Zoning  Lot Frontage  Lot Area Street Alley  \\\n",
       "2256   2257          120        RM           NaN      9763   Pave   NaN   \n",
       "2788   2789          160        RH           NaN      3612   Pave   NaN   \n",
       "2892   2893          120        RM           NaN      8239   Pave   NaN   \n",
       "\n",
       "     Lot Shape Land Contour Utilities  ... Pool Area Pool QC  Fence  \\\n",
       "2256       IR1          Lvl    AllPub  ...         0     NaN    NaN   \n",
       "2788       IR1          Lvl    AllPub  ...         0     NaN  MnPrv   \n",
       "2892       IR1          Lvl    AllPub  ...         0     NaN    NaN   \n",
       "\n",
       "     Misc Feature Misc Val Mo Sold Yr Sold  Sale Type  Sale Condition  \\\n",
       "2256          NaN        0       9    2007        WD           Normal   \n",
       "2788          NaN        0       6    2006        WD           Normal   \n",
       "2892          NaN        0      11    2006        WD           Normal   \n",
       "\n",
       "      SalePrice  \n",
       "2256     330000  \n",
       "2788     137000  \n",
       "2892     230000  \n",
       "\n",
       "[3 rows x 81 columns]"
      ]
     },
     "execution_count": 34,
     "metadata": {},
     "output_type": "execute_result"
    }
   ],
   "source": [
    "df[df['Lot Frontage'].isnull()]"
   ]
  },
  {
   "cell_type": "code",
   "execution_count": 35,
   "metadata": {},
   "outputs": [],
   "source": [
    "df.drop([2256,2788,2892],axis=0,inplace=True)"
   ]
  },
  {
   "cell_type": "code",
   "execution_count": 36,
   "metadata": {},
   "outputs": [
    {
     "data": {
      "text/html": [
       "<div>\n",
       "<style scoped>\n",
       "    .dataframe tbody tr th:only-of-type {\n",
       "        vertical-align: middle;\n",
       "    }\n",
       "\n",
       "    .dataframe tbody tr th {\n",
       "        vertical-align: top;\n",
       "    }\n",
       "\n",
       "    .dataframe thead th {\n",
       "        text-align: right;\n",
       "    }\n",
       "</style>\n",
       "<table border=\"1\" class=\"dataframe\">\n",
       "  <thead>\n",
       "    <tr style=\"text-align: right;\">\n",
       "      <th></th>\n",
       "      <th>Order</th>\n",
       "      <th>MS SubClass</th>\n",
       "      <th>MS Zoning</th>\n",
       "      <th>Lot Frontage</th>\n",
       "      <th>Lot Area</th>\n",
       "      <th>Street</th>\n",
       "      <th>Alley</th>\n",
       "      <th>Lot Shape</th>\n",
       "      <th>Land Contour</th>\n",
       "      <th>Utilities</th>\n",
       "      <th>...</th>\n",
       "      <th>Pool Area</th>\n",
       "      <th>Pool QC</th>\n",
       "      <th>Fence</th>\n",
       "      <th>Misc Feature</th>\n",
       "      <th>Misc Val</th>\n",
       "      <th>Mo Sold</th>\n",
       "      <th>Yr Sold</th>\n",
       "      <th>Sale Type</th>\n",
       "      <th>Sale Condition</th>\n",
       "      <th>SalePrice</th>\n",
       "    </tr>\n",
       "  </thead>\n",
       "  <tbody>\n",
       "  </tbody>\n",
       "</table>\n",
       "<p>0 rows × 81 columns</p>\n",
       "</div>"
      ],
      "text/plain": [
       "Empty DataFrame\n",
       "Columns: [Order, MS SubClass, MS Zoning, Lot Frontage, Lot Area, Street, Alley, Lot Shape, Land Contour, Utilities, Lot Config, Land Slope, Neighborhood, Condition 1, Condition 2, Bldg Type, House Style, Overall Qual, Overall Cond, Year Built, Year Remod/Add, Roof Style, Roof Matl, Exterior 1st, Exterior 2nd, Mas Vnr Type, Mas Vnr Area, Exter Qual, Exter Cond, Foundation, Bsmt Qual, Bsmt Cond, Bsmt Exposure, BsmtFin Type 1, BsmtFin SF 1, BsmtFin Type 2, BsmtFin SF 2, Bsmt Unf SF, Total Bsmt SF, Heating, Heating QC, Central Air, Electrical, 1st Flr SF, 2nd Flr SF, Low Qual Fin SF, Gr Liv Area, Bsmt Full Bath, Bsmt Half Bath, Full Bath, Half Bath, Bedroom AbvGr, Kitchen AbvGr, Kitchen Qual, TotRms AbvGrd, Functional, Fireplaces, Fireplace Qu, Garage Type, Garage Yr Blt, Garage Finish, Garage Cars, Garage Area, Garage Qual, Garage Cond, Paved Drive, Wood Deck SF, Open Porch SF, Enclosed Porch, 3Ssn Porch, Screen Porch, Pool Area, Pool QC, Fence, Misc Feature, Misc Val, Mo Sold, Yr Sold, Sale Type, Sale Condition, SalePrice]\n",
       "Index: []\n",
       "\n",
       "[0 rows x 81 columns]"
      ]
     },
     "execution_count": 36,
     "metadata": {},
     "output_type": "execute_result"
    }
   ],
   "source": [
    "df[df['Lot Frontage'].isnull()]"
   ]
  },
  {
   "cell_type": "code",
   "execution_count": 37,
   "metadata": {},
   "outputs": [],
   "source": [
    "#Computing the ages of the Garage from the 'Garage Yr Blt' feature\n",
    "df['Garage Age']=df['Garage Yr Blt'].max()-df['Garage Yr Blt']"
   ]
  },
  {
   "cell_type": "code",
   "execution_count": 38,
   "metadata": {},
   "outputs": [
    {
     "data": {
      "image/png": "[encoded data removed]",
      "text/plain": [
       "<Figure size 1500x750 with 1 Axes>"
      ]
     },
     "metadata": {
      "needs_background": "light"
     },
     "output_type": "display_data"
    }
   ],
   "source": [
    "plt.figure(figsize=(10,5),dpi=150)\n",
    "sns.scatterplot(x='Garage Age',y='Neighborhood',data=df,color='green')\n",
    "plt.tight_layout()"
   ]
  },
  {
   "cell_type": "code",
   "execution_count": 39,
   "metadata": {},
   "outputs": [
    {
     "name": "stdout",
     "output_type": "stream",
     "text": [
      "Int64Index([629, 2570], dtype='int64')\n",
      "Int64Index([1386, 2722], dtype='int64')\n"
     ]
    }
   ],
   "source": [
    "#Finding the indices of the outliers\n",
    "print(df[(df['Garage Age']>70) & (df['Neighborhood']=='NAmes')].index)\n",
    "print(df[(df['Garage Age']>80) & (df['Neighborhood']=='Sawyer')].index)"
   ]
  },
  {
   "cell_type": "code",
   "execution_count": 40,
   "metadata": {},
   "outputs": [],
   "source": [
    "df.drop([629,2570,1386,2722],axis=0,inplace=True)"
   ]
  },
  {
   "cell_type": "code",
   "execution_count": 41,
   "metadata": {},
   "outputs": [
    {
     "data": {
      "text/plain": [
       "Neighborhood\n",
       "Blmngtn     4.928571\n",
       "Blueste    27.400000\n",
       "BrDale     35.827586\n",
       "BrkSide    61.821053\n",
       "ClearCr    41.048780\n",
       "CollgCr    11.467681\n",
       "Crawfor    52.813725\n",
       "Edwards    44.662338\n",
       "Gilbert    11.612500\n",
       "Greens     30.625000\n",
       "IDOTRR     61.819444\n",
       "MeadowV    36.840000\n",
       "Mitchel    27.462264\n",
       "NAmes      45.702326\n",
       "NPkVill    33.652174\n",
       "NWAmes     34.251908\n",
       "NoRidge    14.521739\n",
       "NridgHt     4.317073\n",
       "OldTown    60.187500\n",
       "SWISU      65.500000\n",
       "Sawyer     41.174825\n",
       "SawyerW    19.836207\n",
       "Somerst     5.406977\n",
       "StoneBr    10.529412\n",
       "Timber     13.691176\n",
       "Veenker    28.291667\n",
       "Name: Garage Age, dtype: float64"
      ]
     },
     "execution_count": 41,
     "metadata": {},
     "output_type": "execute_result"
    }
   ],
   "source": [
    "df.groupby('Neighborhood')['Garage Age'].mean()"
   ]
  },
  {
   "cell_type": "code",
   "execution_count": 42,
   "metadata": {},
   "outputs": [
    {
     "data": {
      "text/plain": [
       "0"
      ]
     },
     "execution_count": 42,
     "metadata": {},
     "output_type": "execute_result"
    }
   ],
   "source": [
    "#Filling in the missing garage age values with the mean of the coressponding neighborhood values\n",
    "df['Garage Age']=df.groupby('Neighborhood')['Garage Age'].transform(lambda val: val.fillna(val.mean()))\n",
    "df['Garage Age'].isnull().sum()"
   ]
  },
  {
   "cell_type": "code",
   "execution_count": 43,
   "metadata": {},
   "outputs": [
    {
     "data": {
      "text/plain": [
       "0"
      ]
     },
     "execution_count": 43,
     "metadata": {},
     "output_type": "execute_result"
    }
   ],
   "source": [
    "#The Fireplace Qu feature indicates the fireplace quality.It is reasonable to assume that the NA values in this feature, \n",
    "#indicate a non existant fireplace. Thus we can replace \"NA\" with \"None\"\n",
    "\n",
    "df['Fireplace Qu']=df['Fireplace Qu'].fillna('None')\n",
    "df['Fireplace Qu'].isnull().sum()"
   ]
  },
  {
   "cell_type": "markdown",
   "metadata": {},
   "source": [
    "The features namely, Fence, Alley, Misc Feature and Pool QC have too much missing data and thus the entire Features can be dropped"
   ]
  },
  {
   "cell_type": "code",
   "execution_count": 44,
   "metadata": {},
   "outputs": [],
   "source": [
    "to_drop=['Fence','Alley','Misc Feature','Pool QC','Garage Yr Blt']\n",
    "df.drop(to_drop,axis=1,inplace=True)"
   ]
  },
  {
   "cell_type": "code",
   "execution_count": 45,
   "metadata": {},
   "outputs": [
    {
     "data": {
      "text/plain": [
       "Series([], dtype: float64)"
      ]
     },
     "execution_count": 45,
     "metadata": {},
     "output_type": "execute_result"
    }
   ],
   "source": [
    "missing(df)"
   ]
  },
  {
   "cell_type": "markdown",
   "metadata": {},
   "source": [
    "The above cell shows that there is no missing data in the DataFrame df"
   ]
  },
  {
   "cell_type": "code",
   "execution_count": 46,
   "metadata": {},
   "outputs": [
    {
     "name": "stdout",
     "output_type": "stream",
     "text": [
      "<class 'pandas.core.frame.DataFrame'>\n",
      "Int64Index: 2887 entries, 0 to 2929\n",
      "Data columns (total 77 columns):\n",
      " #   Column           Non-Null Count  Dtype  \n",
      "---  ------           --------------  -----  \n",
      " 0   Order            2887 non-null   int64  \n",
      " 1   MS SubClass      2887 non-null   int64  \n",
      " 2   MS Zoning        2887 non-null   object \n",
      " 3   Lot Frontage     2887 non-null   float64\n",
      " 4   Lot Area         2887 non-null   int64  \n",
      " 5   Street           2887 non-null   object \n",
      " 6   Lot Shape        2887 non-null   object \n",
      " 7   Land Contour     2887 non-null   object \n",
      " 8   Utilities        2887 non-null   object \n",
      " 9   Lot Config       2887 non-null   object \n",
      " 10  Land Slope       2887 non-null   object \n",
      " 11  Neighborhood     2887 non-null   object \n",
      " 12  Condition 1      2887 non-null   object \n",
      " 13  Condition 2      2887 non-null   object \n",
      " 14  Bldg Type        2887 non-null   object \n",
      " 15  House Style      2887 non-null   object \n",
      " 16  Overall Qual     2887 non-null   int64  \n",
      " 17  Overall Cond     2887 non-null   int64  \n",
      " 18  Year Built       2887 non-null   int64  \n",
      " 19  Year Remod/Add   2887 non-null   int64  \n",
      " 20  Roof Style       2887 non-null   object \n",
      " 21  Roof Matl        2887 non-null   object \n",
      " 22  Exterior 1st     2887 non-null   object \n",
      " 23  Exterior 2nd     2887 non-null   object \n",
      " 24  Mas Vnr Type     2887 non-null   object \n",
      " 25  Mas Vnr Area     2887 non-null   float64\n",
      " 26  Exter Qual       2887 non-null   object \n",
      " 27  Exter Cond       2887 non-null   object \n",
      " 28  Foundation       2887 non-null   object \n",
      " 29  Bsmt Qual        2887 non-null   object \n",
      " 30  Bsmt Cond        2887 non-null   object \n",
      " 31  Bsmt Exposure    2887 non-null   object \n",
      " 32  BsmtFin Type 1   2887 non-null   object \n",
      " 33  BsmtFin SF 1     2887 non-null   float64\n",
      " 34  BsmtFin Type 2   2887 non-null   object \n",
      " 35  BsmtFin SF 2     2887 non-null   float64\n",
      " 36  Bsmt Unf SF      2887 non-null   float64\n",
      " 37  Total Bsmt SF    2887 non-null   float64\n",
      " 38  Heating          2887 non-null   object \n",
      " 39  Heating QC       2887 non-null   object \n",
      " 40  Central Air      2887 non-null   object \n",
      " 41  Electrical       2887 non-null   object \n",
      " 42  1st Flr SF       2887 non-null   int64  \n",
      " 43  2nd Flr SF       2887 non-null   int64  \n",
      " 44  Low Qual Fin SF  2887 non-null   int64  \n",
      " 45  Gr Liv Area      2887 non-null   int64  \n",
      " 46  Bsmt Full Bath   2887 non-null   float64\n",
      " 47  Bsmt Half Bath   2887 non-null   float64\n",
      " 48  Full Bath        2887 non-null   int64  \n",
      " 49  Half Bath        2887 non-null   int64  \n",
      " 50  Bedroom AbvGr    2887 non-null   int64  \n",
      " 51  Kitchen AbvGr    2887 non-null   int64  \n",
      " 52  Kitchen Qual     2887 non-null   object \n",
      " 53  TotRms AbvGrd    2887 non-null   int64  \n",
      " 54  Functional       2887 non-null   object \n",
      " 55  Fireplaces       2887 non-null   int64  \n",
      " 56  Fireplace Qu     2887 non-null   object \n",
      " 57  Garage Type      2887 non-null   object \n",
      " 58  Garage Finish    2887 non-null   object \n",
      " 59  Garage Cars      2887 non-null   float64\n",
      " 60  Garage Area      2887 non-null   float64\n",
      " 61  Garage Qual      2887 non-null   object \n",
      " 62  Garage Cond      2887 non-null   object \n",
      " 63  Paved Drive      2887 non-null   object \n",
      " 64  Wood Deck SF     2887 non-null   int64  \n",
      " 65  Open Porch SF    2887 non-null   int64  \n",
      " 66  Enclosed Porch   2887 non-null   int64  \n",
      " 67  3Ssn Porch       2887 non-null   int64  \n",
      " 68  Screen Porch     2887 non-null   int64  \n",
      " 69  Pool Area        2887 non-null   int64  \n",
      " 70  Misc Val         2887 non-null   int64  \n",
      " 71  Mo Sold          2887 non-null   int64  \n",
      " 72  Yr Sold          2887 non-null   int64  \n",
      " 73  Sale Type        2887 non-null   object \n",
      " 74  Sale Condition   2887 non-null   object \n",
      " 75  SalePrice        2887 non-null   int64  \n",
      " 76  Garage Age       2887 non-null   float64\n",
      "dtypes: float64(11), int64(27), object(39)\n",
      "memory usage: 1.7+ MB\n"
     ]
    }
   ],
   "source": [
    "df.info()"
   ]
  },
  {
   "cell_type": "code",
   "execution_count": 47,
   "metadata": {},
   "outputs": [
    {
     "data": {
      "text/plain": [
       "1.48"
      ]
     },
     "execution_count": 47,
     "metadata": {},
     "output_type": "execute_result"
    }
   ],
   "source": [
    "#percentage of data dropped is:\n",
    "round((1-2887 /2930.3)*100,2)"
   ]
  },
  {
   "cell_type": "markdown",
   "metadata": {},
   "source": [
    "Since the data has been cleaned, we can now progress with the Linear Regression predictive model"
   ]
  },
  {
   "cell_type": "markdown",
   "metadata": {},
   "source": [
    "## Linear Regression"
   ]
  },
  {
   "cell_type": "markdown",
   "metadata": {},
   "source": [
    "For Regression, we can only use continuous data. Thus we will have to split the data set into continuous and categorical data"
   ]
  },
  {
   "cell_type": "code",
   "execution_count": 48,
   "metadata": {},
   "outputs": [],
   "source": [
    "from sklearn.model_selection import train_test_split\n",
    "from sklearn.linear_model import LinearRegression\n",
    "from sklearn.preprocessing import StandardScaler"
   ]
  },
  {
   "cell_type": "code",
   "execution_count": 49,
   "metadata": {},
   "outputs": [],
   "source": [
    "#Creating a function to extract only the continous features from df\n",
    "cont_data=[]\n",
    "cat_data=[]\n",
    "def data_type(data):\n",
    "    for col in data:\n",
    "        if df[col].dtype=='float64' or df[col].dtype=='int64':\n",
    "            cont_data.append(col) \n",
    "        else:\n",
    "            cat_data.append(col)\n",
    "    return cont_data"
   ]
  },
  {
   "cell_type": "code",
   "execution_count": 50,
   "metadata": {},
   "outputs": [
    {
     "data": {
      "text/plain": [
       "['Order',\n",
       " 'MS SubClass',\n",
       " 'Lot Frontage',\n",
       " 'Lot Area',\n",
       " 'Overall Qual',\n",
       " 'Overall Cond',\n",
       " 'Year Built',\n",
       " 'Year Remod/Add',\n",
       " 'Mas Vnr Area',\n",
       " 'BsmtFin SF 1',\n",
       " 'BsmtFin SF 2',\n",
       " 'Bsmt Unf SF',\n",
       " 'Total Bsmt SF',\n",
       " '1st Flr SF',\n",
       " '2nd Flr SF',\n",
       " 'Low Qual Fin SF',\n",
       " 'Gr Liv Area',\n",
       " 'Bsmt Full Bath',\n",
       " 'Bsmt Half Bath',\n",
       " 'Full Bath',\n",
       " 'Half Bath',\n",
       " 'Bedroom AbvGr',\n",
       " 'Kitchen AbvGr',\n",
       " 'TotRms AbvGrd',\n",
       " 'Fireplaces',\n",
       " 'Garage Cars',\n",
       " 'Garage Area',\n",
       " 'Wood Deck SF',\n",
       " 'Open Porch SF',\n",
       " 'Enclosed Porch',\n",
       " '3Ssn Porch',\n",
       " 'Screen Porch',\n",
       " 'Pool Area',\n",
       " 'Misc Val',\n",
       " 'Mo Sold',\n",
       " 'Yr Sold',\n",
       " 'SalePrice',\n",
       " 'Garage Age']"
      ]
     },
     "execution_count": 50,
     "metadata": {},
     "output_type": "execute_result"
    }
   ],
   "source": [
    "#Continuous features of df\n",
    "cont_cols=data_type(df.columns)\n",
    "cont_cols"
   ]
  },
  {
   "cell_type": "code",
   "execution_count": 51,
   "metadata": {},
   "outputs": [
    {
     "data": {
      "text/plain": [
       "['Lot Frontage',\n",
       " 'Lot Area',\n",
       " 'Mas Vnr Area',\n",
       " 'BsmtFin SF 1',\n",
       " 'BsmtFin SF 2',\n",
       " 'Bsmt Unf SF',\n",
       " 'Total Bsmt SF',\n",
       " '1st Flr SF',\n",
       " '2nd Flr SF',\n",
       " 'Low Qual Fin SF',\n",
       " 'Gr Liv Area',\n",
       " 'Garage Cars',\n",
       " 'Garage Area',\n",
       " 'Wood Deck SF',\n",
       " 'Open Porch SF',\n",
       " 'Pool Area',\n",
       " 'Garage Age']"
      ]
     },
     "execution_count": 51,
     "metadata": {},
     "output_type": "execute_result"
    }
   ],
   "source": [
    "#Since some of these have categorical numberical data, the features of use will have to be manually selected\n",
    "features_of_interest=cont_cols[2:4]+cont_cols[8:17]+cont_cols[25:29]+cont_cols[32:33]+cont_cols[37:38]\n",
    "features_of_interest"
   ]
  },
  {
   "cell_type": "code",
   "execution_count": 52,
   "metadata": {},
   "outputs": [],
   "source": [
    "x=df[features_of_interest]\n",
    "y=df['SalePrice']"
   ]
  },
  {
   "cell_type": "code",
   "execution_count": 53,
   "metadata": {},
   "outputs": [],
   "source": [
    "xtrain, xtest, ytrain, ytest = train_test_split(x, y, test_size=0.25, random_state=101)"
   ]
  },
  {
   "cell_type": "code",
   "execution_count": 54,
   "metadata": {},
   "outputs": [],
   "source": [
    "#Standardize that data as they are in different units for each feature. This will improve model accuracy\n",
    "scaler=StandardScaler()"
   ]
  },
  {
   "cell_type": "code",
   "execution_count": 55,
   "metadata": {},
   "outputs": [],
   "source": [
    "xtrain=scaler.fit_transform(xtrain)\n",
    "xtest=scaler.transform(xtest)"
   ]
  },
  {
   "cell_type": "code",
   "execution_count": 56,
   "metadata": {},
   "outputs": [],
   "source": [
    "lm=LinearRegression()"
   ]
  },
  {
   "cell_type": "code",
   "execution_count": 57,
   "metadata": {},
   "outputs": [
    {
     "name": "stdout",
     "output_type": "stream",
     "text": [
      "The linear regression coefficients are: \n",
      " [  1636.3422462     959.32080714   8172.25715314  12192.70055752\n",
      "   1030.53973699   1030.34236195  14077.21108114  11106.83545657\n",
      "  11814.13703555  -1251.76610185  18679.9928602    8078.98775212\n",
      "   3396.01186607   2999.30339165   1770.00084366    882.646894\n",
      " -15195.07523203]\n"
     ]
    }
   ],
   "source": [
    "lm.fit(xtrain,ytrain)\n",
    "print(\"The linear regression coefficients are: \\n\",lm.coef_)\n",
    "yhat=lm.predict(xtest)"
   ]
  },
  {
   "cell_type": "markdown",
   "metadata": {},
   "source": [
    "Importing the Evaluation Metrics"
   ]
  },
  {
   "cell_type": "code",
   "execution_count": 58,
   "metadata": {},
   "outputs": [],
   "source": [
    "from sklearn.metrics import mean_absolute_error,mean_squared_error"
   ]
  },
  {
   "cell_type": "code",
   "execution_count": 59,
   "metadata": {},
   "outputs": [
    {
     "name": "stdout",
     "output_type": "stream",
     "text": [
      "Mean Absolute Error:  25842.32\n",
      "Mean Squared Error:  36620.58\n"
     ]
    }
   ],
   "source": [
    "print('Mean Absolute Error: ',round(mean_absolute_error(ytest,yhat),2))\n",
    "print('Mean Squared Error: ',round(np.sqrt(mean_squared_error(ytest,yhat)),2))"
   ]
  },
  {
   "cell_type": "code",
   "execution_count": 60,
   "metadata": {},
   "outputs": [
    {
     "data": {
      "text/plain": [
       "<matplotlib.axes._subplots.AxesSubplot at 0x25aef7999c8>"
      ]
     },
     "execution_count": 60,
     "metadata": {},
     "output_type": "execute_result"
    },
    {
     "data": {
      "image/png": "[encoded data removed]",
      "text/plain": [
       "<Figure size 1100x440 with 1 Axes>"
      ]
     },
     "metadata": {
      "needs_background": "light"
     },
     "output_type": "display_data"
    }
   ],
   "source": [
    "#Residual Plot:\n",
    "plt.figure(figsize=(10,4),dpi=110)\n",
    "sns.residplot(ytest,yhat,lowess=True,color='g')"
   ]
  },
  {
   "cell_type": "markdown",
   "metadata": {},
   "source": [
    "**Elastic Net (Regularized linear regression)**"
   ]
  },
  {
   "cell_type": "code",
   "execution_count": 61,
   "metadata": {},
   "outputs": [],
   "source": [
    "from sklearn.linear_model import ElasticNet\n",
    "from sklearn.model_selection import GridSearchCV"
   ]
  },
  {
   "cell_type": "code",
   "execution_count": 62,
   "metadata": {},
   "outputs": [],
   "source": [
    "base_net=ElasticNet()"
   ]
  },
  {
   "cell_type": "code",
   "execution_count": 63,
   "metadata": {},
   "outputs": [],
   "source": [
    "paramgrid={'alpha':[0.1,1,10,100,110,1000],'l1_ratio':[0.01,0.05,0.1,0.15,0.25,0.5,0.75,0.90,0.99,1],'max_iter':[10000]}\n",
    "grid=GridSearchCV(estimator=base_net, param_grid=paramgrid,scoring='neg_mean_squared_error',cv=5,verbose=2)"
   ]
  },
  {
   "cell_type": "code",
   "execution_count": 64,
   "metadata": {},
   "outputs": [
    {
     "name": "stdout",
     "output_type": "stream",
     "text": [
      "Fitting 5 folds for each of 60 candidates, totalling 300 fits\n",
      "[CV] alpha=0.1, l1_ratio=0.01, max_iter=10000 ........................\n",
      "[CV] ......... alpha=0.1, l1_ratio=0.01, max_iter=10000, total=   0.0s\n",
      "[CV] alpha=0.1, l1_ratio=0.01, max_iter=10000 ........................\n",
      "[CV] ......... alpha=0.1, l1_ratio=0.01, max_iter=10000, total=   0.0s\n",
      "[CV] alpha=0.1, l1_ratio=0.01, max_iter=10000 ........................\n",
      "[CV] ......... alpha=0.1, l1_ratio=0.01, max_iter=10000, total=   0.0s\n",
      "[CV] alpha=0.1, l1_ratio=0.01, max_iter=10000 ........................\n",
      "[CV] ......... alpha=0.1, l1_ratio=0.01, max_iter=10000, total=   0.0s\n",
      "[CV] alpha=0.1, l1_ratio=0.01, max_iter=10000 ........................\n",
      "[CV] ......... alpha=0.1, l1_ratio=0.01, max_iter=10000, total=   0.0s\n",
      "[CV] alpha=0.1, l1_ratio=0.05, max_iter=10000 ........................\n",
      "[CV] ......... alpha=0.1, l1_ratio=0.05, max_iter=10000, total=   0.0s\n",
      "[CV] alpha=0.1, l1_ratio=0.05, max_iter=10000 ........................\n",
      "[CV] ......... alpha=0.1, l1_ratio=0.05, max_iter=10000, total=   0.0s\n",
      "[CV] alpha=0.1, l1_ratio=0.05, max_iter=10000 ........................\n",
      "[CV] ......... alpha=0.1, l1_ratio=0.05, max_iter=10000, total=   0.0s\n",
      "[CV] alpha=0.1, l1_ratio=0.05, max_iter=10000 ........................\n",
      "[CV] ......... alpha=0.1, l1_ratio=0.05, max_iter=10000, total=   0.0s\n",
      "[CV] alpha=0.1, l1_ratio=0.05, max_iter=10000 ........................\n",
      "[CV] ......... alpha=0.1, l1_ratio=0.05, max_iter=10000, total=   0.0s\n",
      "[CV] alpha=0.1, l1_ratio=0.1, max_iter=10000 .........................\n",
      "[CV] .......... alpha=0.1, l1_ratio=0.1, max_iter=10000, total=   0.0s\n",
      "[CV] alpha=0.1, l1_ratio=0.1, max_iter=10000 .........................\n",
      "[CV] .......... alpha=0.1, l1_ratio=0.1, max_iter=10000, total=   0.0s\n",
      "[CV] alpha=0.1, l1_ratio=0.1, max_iter=10000 .........................\n",
      "[CV] .......... alpha=0.1, l1_ratio=0.1, max_iter=10000, total=   0.0s\n",
      "[CV] alpha=0.1, l1_ratio=0.1, max_iter=10000 .........................\n",
      "[CV] .......... alpha=0.1, l1_ratio=0.1, max_iter=10000, total=   0.0s\n",
      "[CV] alpha=0.1, l1_ratio=0.1, max_iter=10000 .........................\n",
      "[CV] .......... alpha=0.1, l1_ratio=0.1, max_iter=10000, total=   0.0s\n",
      "[CV] alpha=0.1, l1_ratio=0.15, max_iter=10000 ........................\n",
      "[CV] ......... alpha=0.1, l1_ratio=0.15, max_iter=10000, total=   0.0s\n",
      "[CV] alpha=0.1, l1_ratio=0.15, max_iter=10000 ........................\n",
      "[CV] ......... alpha=0.1, l1_ratio=0.15, max_iter=10000, total=   0.0s\n",
      "[CV] alpha=0.1, l1_ratio=0.15, max_iter=10000 ........................\n",
      "[CV] ......... alpha=0.1, l1_ratio=0.15, max_iter=10000, total=   0.0s\n",
      "[CV] alpha=0.1, l1_ratio=0.15, max_iter=10000 ........................\n",
      "[CV] ......... alpha=0.1, l1_ratio=0.15, max_iter=10000, total=   0.0s\n",
      "[CV] alpha=0.1, l1_ratio=0.15, max_iter=10000 ........................\n",
      "[CV] ......... alpha=0.1, l1_ratio=0.15, max_iter=10000, total=   0.0s\n",
      "[CV] alpha=0.1, l1_ratio=0.25, max_iter=10000 ........................\n",
      "[CV] ......... alpha=0.1, l1_ratio=0.25, max_iter=10000, total=   0.0s\n",
      "[CV] alpha=0.1, l1_ratio=0.25, max_iter=10000 ........................\n",
      "[CV] ......... alpha=0.1, l1_ratio=0.25, max_iter=10000, total=   0.0s\n",
      "[CV] alpha=0.1, l1_ratio=0.25, max_iter=10000 ........................\n",
      "[CV] ......... alpha=0.1, l1_ratio=0.25, max_iter=10000, total=   0.0s\n",
      "[CV] alpha=0.1, l1_ratio=0.25, max_iter=10000 ........................\n",
      "[CV] ......... alpha=0.1, l1_ratio=0.25, max_iter=10000, total=   0.0s\n",
      "[CV] alpha=0.1, l1_ratio=0.25, max_iter=10000 ........................\n",
      "[CV] ......... alpha=0.1, l1_ratio=0.25, max_iter=10000, total=   0.0s\n",
      "[CV] alpha=0.1, l1_ratio=0.5, max_iter=10000 .........................\n",
      "[CV] .......... alpha=0.1, l1_ratio=0.5, max_iter=10000, total=   0.0s\n",
      "[CV] alpha=0.1, l1_ratio=0.5, max_iter=10000 .........................\n",
      "[CV] .......... alpha=0.1, l1_ratio=0.5, max_iter=10000, total=   0.0s\n",
      "[CV] alpha=0.1, l1_ratio=0.5, max_iter=10000 .........................\n",
      "[CV] .......... alpha=0.1, l1_ratio=0.5, max_iter=10000, total=   0.0s\n",
      "[CV] alpha=0.1, l1_ratio=0.5, max_iter=10000 .........................\n",
      "[CV] .......... alpha=0.1, l1_ratio=0.5, max_iter=10000, total=   0.0s\n",
      "[CV] alpha=0.1, l1_ratio=0.5, max_iter=10000 .........................\n",
      "[CV] .......... alpha=0.1, l1_ratio=0.5, max_iter=10000, total=   0.0s\n",
      "[CV] alpha=0.1, l1_ratio=0.75, max_iter=10000 ........................\n",
      "[CV] ......... alpha=0.1, l1_ratio=0.75, max_iter=10000, total=   0.0s\n",
      "[CV] alpha=0.1, l1_ratio=0.75, max_iter=10000 ........................\n",
      "[CV] ......... alpha=0.1, l1_ratio=0.75, max_iter=10000, total=   0.0s\n",
      "[CV] alpha=0.1, l1_ratio=0.75, max_iter=10000 ........................\n",
      "[CV] ......... alpha=0.1, l1_ratio=0.75, max_iter=10000, total=   0.0s\n",
      "[CV] alpha=0.1, l1_ratio=0.75, max_iter=10000 ........................\n",
      "[CV] ......... alpha=0.1, l1_ratio=0.75, max_iter=10000, total=   0.0s\n",
      "[CV] alpha=0.1, l1_ratio=0.75, max_iter=10000 ........................\n",
      "[CV] ......... alpha=0.1, l1_ratio=0.75, max_iter=10000, total=   0.0s\n",
      "[CV] alpha=0.1, l1_ratio=0.9, max_iter=10000 .........................\n",
      "[CV] .......... alpha=0.1, l1_ratio=0.9, max_iter=10000, total=   0.0s\n",
      "[CV] alpha=0.1, l1_ratio=0.9, max_iter=10000 .........................\n"
     ]
    },
    {
     "name": "stderr",
     "output_type": "stream",
     "text": [
      "[Parallel(n_jobs=1)]: Using backend SequentialBackend with 1 concurrent workers.\n",
      "[Parallel(n_jobs=1)]: Done   1 out of   1 | elapsed:    0.0s remaining:    0.0s\n"
     ]
    },
    {
     "name": "stdout",
     "output_type": "stream",
     "text": [
      "[CV] .......... alpha=0.1, l1_ratio=0.9, max_iter=10000, total=   0.0s\n",
      "[CV] alpha=0.1, l1_ratio=0.9, max_iter=10000 .........................\n",
      "[CV] .......... alpha=0.1, l1_ratio=0.9, max_iter=10000, total=   0.0s\n",
      "[CV] alpha=0.1, l1_ratio=0.9, max_iter=10000 .........................\n",
      "[CV] .......... alpha=0.1, l1_ratio=0.9, max_iter=10000, total=   0.0s\n",
      "[CV] alpha=0.1, l1_ratio=0.9, max_iter=10000 .........................\n",
      "[CV] .......... alpha=0.1, l1_ratio=0.9, max_iter=10000, total=   0.0s\n",
      "[CV] alpha=0.1, l1_ratio=0.99, max_iter=10000 ........................\n",
      "[CV] ......... alpha=0.1, l1_ratio=0.99, max_iter=10000, total=   0.1s\n",
      "[CV] alpha=0.1, l1_ratio=0.99, max_iter=10000 ........................\n",
      "[CV] ......... alpha=0.1, l1_ratio=0.99, max_iter=10000, total=   0.1s\n",
      "[CV] alpha=0.1, l1_ratio=0.99, max_iter=10000 ........................\n",
      "[CV] ......... alpha=0.1, l1_ratio=0.99, max_iter=10000, total=   0.1s\n",
      "[CV] alpha=0.1, l1_ratio=0.99, max_iter=10000 ........................\n",
      "[CV] ......... alpha=0.1, l1_ratio=0.99, max_iter=10000, total=   0.1s\n",
      "[CV] alpha=0.1, l1_ratio=0.99, max_iter=10000 ........................\n",
      "[CV] ......... alpha=0.1, l1_ratio=0.99, max_iter=10000, total=   0.1s\n",
      "[CV] alpha=0.1, l1_ratio=1, max_iter=10000 ...........................\n"
     ]
    },
    {
     "name": "stderr",
     "output_type": "stream",
     "text": [
      "C:\\Users\\bryan\\anaconda3\\lib\\site-packages\\sklearn\\linear_model\\_coordinate_descent.py:476: ConvergenceWarning: Objective did not converge. You might want to increase the number of iterations. Duality gap: 2174903475.9382324, tolerance: 1024599784.8623391\n",
      "  positive)\n"
     ]
    },
    {
     "name": "stdout",
     "output_type": "stream",
     "text": [
      "[CV] ............ alpha=0.1, l1_ratio=1, max_iter=10000, total=   0.2s\n",
      "[CV] alpha=0.1, l1_ratio=1, max_iter=10000 ...........................\n",
      "[CV] ............ alpha=0.1, l1_ratio=1, max_iter=10000, total=   0.0s\n",
      "[CV] alpha=0.1, l1_ratio=1, max_iter=10000 ...........................\n",
      "[CV] ............ alpha=0.1, l1_ratio=1, max_iter=10000, total=   0.0s\n",
      "[CV] alpha=0.1, l1_ratio=1, max_iter=10000 ...........................\n",
      "[CV] ............ alpha=0.1, l1_ratio=1, max_iter=10000, total=   0.0s\n",
      "[CV] alpha=0.1, l1_ratio=1, max_iter=10000 ...........................\n",
      "[CV] ............ alpha=0.1, l1_ratio=1, max_iter=10000, total=   0.0s\n",
      "[CV] alpha=1, l1_ratio=0.01, max_iter=10000 ..........................\n",
      "[CV] ........... alpha=1, l1_ratio=0.01, max_iter=10000, total=   0.0s\n",
      "[CV] alpha=1, l1_ratio=0.01, max_iter=10000 ..........................\n",
      "[CV] ........... alpha=1, l1_ratio=0.01, max_iter=10000, total=   0.0s\n",
      "[CV] alpha=1, l1_ratio=0.01, max_iter=10000 ..........................\n",
      "[CV] ........... alpha=1, l1_ratio=0.01, max_iter=10000, total=   0.0s\n",
      "[CV] alpha=1, l1_ratio=0.01, max_iter=10000 ..........................\n",
      "[CV] ........... alpha=1, l1_ratio=0.01, max_iter=10000, total=   0.0s\n",
      "[CV] alpha=1, l1_ratio=0.01, max_iter=10000 ..........................\n",
      "[CV] ........... alpha=1, l1_ratio=0.01, max_iter=10000, total=   0.0s\n",
      "[CV] alpha=1, l1_ratio=0.05, max_iter=10000 ..........................\n",
      "[CV] ........... alpha=1, l1_ratio=0.05, max_iter=10000, total=   0.0s\n",
      "[CV] alpha=1, l1_ratio=0.05, max_iter=10000 ..........................\n",
      "[CV] ........... alpha=1, l1_ratio=0.05, max_iter=10000, total=   0.0s\n",
      "[CV] alpha=1, l1_ratio=0.05, max_iter=10000 ..........................\n",
      "[CV] ........... alpha=1, l1_ratio=0.05, max_iter=10000, total=   0.0s\n",
      "[CV] alpha=1, l1_ratio=0.05, max_iter=10000 ..........................\n",
      "[CV] ........... alpha=1, l1_ratio=0.05, max_iter=10000, total=   0.0s\n",
      "[CV] alpha=1, l1_ratio=0.05, max_iter=10000 ..........................\n",
      "[CV] ........... alpha=1, l1_ratio=0.05, max_iter=10000, total=   0.0s\n",
      "[CV] alpha=1, l1_ratio=0.1, max_iter=10000 ...........................\n",
      "[CV] ............ alpha=1, l1_ratio=0.1, max_iter=10000, total=   0.0s\n",
      "[CV] alpha=1, l1_ratio=0.1, max_iter=10000 ...........................\n",
      "[CV] ............ alpha=1, l1_ratio=0.1, max_iter=10000, total=   0.0s\n",
      "[CV] alpha=1, l1_ratio=0.1, max_iter=10000 ...........................\n",
      "[CV] ............ alpha=1, l1_ratio=0.1, max_iter=10000, total=   0.0s\n",
      "[CV] alpha=1, l1_ratio=0.1, max_iter=10000 ...........................\n",
      "[CV] ............ alpha=1, l1_ratio=0.1, max_iter=10000, total=   0.0s\n",
      "[CV] alpha=1, l1_ratio=0.1, max_iter=10000 ...........................\n",
      "[CV] ............ alpha=1, l1_ratio=0.1, max_iter=10000, total=   0.0s\n",
      "[CV] alpha=1, l1_ratio=0.15, max_iter=10000 ..........................\n",
      "[CV] ........... alpha=1, l1_ratio=0.15, max_iter=10000, total=   0.0s\n",
      "[CV] alpha=1, l1_ratio=0.15, max_iter=10000 ..........................\n",
      "[CV] ........... alpha=1, l1_ratio=0.15, max_iter=10000, total=   0.0s\n",
      "[CV] alpha=1, l1_ratio=0.15, max_iter=10000 ..........................\n",
      "[CV] ........... alpha=1, l1_ratio=0.15, max_iter=10000, total=   0.0s\n",
      "[CV] alpha=1, l1_ratio=0.15, max_iter=10000 ..........................\n",
      "[CV] ........... alpha=1, l1_ratio=0.15, max_iter=10000, total=   0.0s\n",
      "[CV] alpha=1, l1_ratio=0.15, max_iter=10000 ..........................\n",
      "[CV] ........... alpha=1, l1_ratio=0.15, max_iter=10000, total=   0.0s\n",
      "[CV] alpha=1, l1_ratio=0.25, max_iter=10000 ..........................\n",
      "[CV] ........... alpha=1, l1_ratio=0.25, max_iter=10000, total=   0.0s\n",
      "[CV] alpha=1, l1_ratio=0.25, max_iter=10000 ..........................\n",
      "[CV] ........... alpha=1, l1_ratio=0.25, max_iter=10000, total=   0.0s\n",
      "[CV] alpha=1, l1_ratio=0.25, max_iter=10000 ..........................\n",
      "[CV] ........... alpha=1, l1_ratio=0.25, max_iter=10000, total=   0.0s\n",
      "[CV] alpha=1, l1_ratio=0.25, max_iter=10000 ..........................\n",
      "[CV] ........... alpha=1, l1_ratio=0.25, max_iter=10000, total=   0.0s\n",
      "[CV] alpha=1, l1_ratio=0.25, max_iter=10000 ..........................\n",
      "[CV] ........... alpha=1, l1_ratio=0.25, max_iter=10000, total=   0.0s\n",
      "[CV] alpha=1, l1_ratio=0.5, max_iter=10000 ...........................\n",
      "[CV] ............ alpha=1, l1_ratio=0.5, max_iter=10000, total=   0.0s\n",
      "[CV] alpha=1, l1_ratio=0.5, max_iter=10000 ...........................\n",
      "[CV] ............ alpha=1, l1_ratio=0.5, max_iter=10000, total=   0.0s\n",
      "[CV] alpha=1, l1_ratio=0.5, max_iter=10000 ...........................\n",
      "[CV] ............ alpha=1, l1_ratio=0.5, max_iter=10000, total=   0.0s\n",
      "[CV] alpha=1, l1_ratio=0.5, max_iter=10000 ...........................\n",
      "[CV] ............ alpha=1, l1_ratio=0.5, max_iter=10000, total=   0.0s\n",
      "[CV] alpha=1, l1_ratio=0.5, max_iter=10000 ...........................\n",
      "[CV] ............ alpha=1, l1_ratio=0.5, max_iter=10000, total=   0.0s\n",
      "[CV] alpha=1, l1_ratio=0.75, max_iter=10000 ..........................\n",
      "[CV] ........... alpha=1, l1_ratio=0.75, max_iter=10000, total=   0.0s\n",
      "[CV] alpha=1, l1_ratio=0.75, max_iter=10000 ..........................\n",
      "[CV] ........... alpha=1, l1_ratio=0.75, max_iter=10000, total=   0.0s\n",
      "[CV] alpha=1, l1_ratio=0.75, max_iter=10000 ..........................\n",
      "[CV] ........... alpha=1, l1_ratio=0.75, max_iter=10000, total=   0.0s\n",
      "[CV] alpha=1, l1_ratio=0.75, max_iter=10000 ..........................\n",
      "[CV] ........... alpha=1, l1_ratio=0.75, max_iter=10000, total=   0.0s\n",
      "[CV] alpha=1, l1_ratio=0.75, max_iter=10000 ..........................\n",
      "[CV] ........... alpha=1, l1_ratio=0.75, max_iter=10000, total=   0.0s\n",
      "[CV] alpha=1, l1_ratio=0.9, max_iter=10000 ...........................\n",
      "[CV] ............ alpha=1, l1_ratio=0.9, max_iter=10000, total=   0.0s\n",
      "[CV] alpha=1, l1_ratio=0.9, max_iter=10000 ...........................\n",
      "[CV] ............ alpha=1, l1_ratio=0.9, max_iter=10000, total=   0.0s\n",
      "[CV] alpha=1, l1_ratio=0.9, max_iter=10000 ...........................\n",
      "[CV] ............ alpha=1, l1_ratio=0.9, max_iter=10000, total=   0.0s\n",
      "[CV] alpha=1, l1_ratio=0.9, max_iter=10000 ...........................\n",
      "[CV] ............ alpha=1, l1_ratio=0.9, max_iter=10000, total=   0.0s\n",
      "[CV] alpha=1, l1_ratio=0.9, max_iter=10000 ...........................\n",
      "[CV] ............ alpha=1, l1_ratio=0.9, max_iter=10000, total=   0.0s\n",
      "[CV] alpha=1, l1_ratio=0.99, max_iter=10000 ..........................\n",
      "[CV] ........... alpha=1, l1_ratio=0.99, max_iter=10000, total=   0.0s\n",
      "[CV] alpha=1, l1_ratio=0.99, max_iter=10000 ..........................\n",
      "[CV] ........... alpha=1, l1_ratio=0.99, max_iter=10000, total=   0.0s\n",
      "[CV] alpha=1, l1_ratio=0.99, max_iter=10000 ..........................\n",
      "[CV] ........... alpha=1, l1_ratio=0.99, max_iter=10000, total=   0.0s\n",
      "[CV] alpha=1, l1_ratio=0.99, max_iter=10000 ..........................\n",
      "[CV] ........... alpha=1, l1_ratio=0.99, max_iter=10000, total=   0.0s\n",
      "[CV] alpha=1, l1_ratio=0.99, max_iter=10000 ..........................\n",
      "[CV] ........... alpha=1, l1_ratio=0.99, max_iter=10000, total=   0.0s\n",
      "[CV] alpha=1, l1_ratio=1, max_iter=10000 .............................\n"
     ]
    },
    {
     "name": "stderr",
     "output_type": "stream",
     "text": [
      "C:\\Users\\bryan\\anaconda3\\lib\\site-packages\\sklearn\\linear_model\\_coordinate_descent.py:476: ConvergenceWarning: Objective did not converge. You might want to increase the number of iterations. Duality gap: 2214015940.4836426, tolerance: 1024599784.8623391\n",
      "  positive)\n"
     ]
    },
    {
     "name": "stdout",
     "output_type": "stream",
     "text": [
      "[CV] .............. alpha=1, l1_ratio=1, max_iter=10000, total=   0.2s\n",
      "[CV] alpha=1, l1_ratio=1, max_iter=10000 .............................\n",
      "[CV] .............. alpha=1, l1_ratio=1, max_iter=10000, total=   0.0s\n",
      "[CV] alpha=1, l1_ratio=1, max_iter=10000 .............................\n",
      "[CV] .............. alpha=1, l1_ratio=1, max_iter=10000, total=   0.0s\n",
      "[CV] alpha=1, l1_ratio=1, max_iter=10000 .............................\n",
      "[CV] .............. alpha=1, l1_ratio=1, max_iter=10000, total=   0.0s\n",
      "[CV] alpha=1, l1_ratio=1, max_iter=10000 .............................\n",
      "[CV] .............. alpha=1, l1_ratio=1, max_iter=10000, total=   0.0s\n",
      "[CV] alpha=10, l1_ratio=0.01, max_iter=10000 .........................\n",
      "[CV] .......... alpha=10, l1_ratio=0.01, max_iter=10000, total=   0.0s\n",
      "[CV] alpha=10, l1_ratio=0.01, max_iter=10000 .........................\n",
      "[CV] .......... alpha=10, l1_ratio=0.01, max_iter=10000, total=   0.0s\n",
      "[CV] alpha=10, l1_ratio=0.01, max_iter=10000 .........................\n",
      "[CV] .......... alpha=10, l1_ratio=0.01, max_iter=10000, total=   0.0s\n",
      "[CV] alpha=10, l1_ratio=0.01, max_iter=10000 .........................\n",
      "[CV] .......... alpha=10, l1_ratio=0.01, max_iter=10000, total=   0.0s\n",
      "[CV] alpha=10, l1_ratio=0.01, max_iter=10000 .........................\n",
      "[CV] .......... alpha=10, l1_ratio=0.01, max_iter=10000, total=   0.0s\n",
      "[CV] alpha=10, l1_ratio=0.05, max_iter=10000 .........................\n",
      "[CV] .......... alpha=10, l1_ratio=0.05, max_iter=10000, total=   0.0s\n",
      "[CV] alpha=10, l1_ratio=0.05, max_iter=10000 .........................\n",
      "[CV] .......... alpha=10, l1_ratio=0.05, max_iter=10000, total=   0.0s\n",
      "[CV] alpha=10, l1_ratio=0.05, max_iter=10000 .........................\n",
      "[CV] .......... alpha=10, l1_ratio=0.05, max_iter=10000, total=   0.0s\n",
      "[CV] alpha=10, l1_ratio=0.05, max_iter=10000 .........................\n",
      "[CV] .......... alpha=10, l1_ratio=0.05, max_iter=10000, total=   0.0s\n",
      "[CV] alpha=10, l1_ratio=0.05, max_iter=10000 .........................\n",
      "[CV] .......... alpha=10, l1_ratio=0.05, max_iter=10000, total=   0.0s\n",
      "[CV] alpha=10, l1_ratio=0.1, max_iter=10000 ..........................\n",
      "[CV] ........... alpha=10, l1_ratio=0.1, max_iter=10000, total=   0.0s\n",
      "[CV] alpha=10, l1_ratio=0.1, max_iter=10000 ..........................\n",
      "[CV] ........... alpha=10, l1_ratio=0.1, max_iter=10000, total=   0.0s\n",
      "[CV] alpha=10, l1_ratio=0.1, max_iter=10000 ..........................\n",
      "[CV] ........... alpha=10, l1_ratio=0.1, max_iter=10000, total=   0.0s\n",
      "[CV] alpha=10, l1_ratio=0.1, max_iter=10000 ..........................\n",
      "[CV] ........... alpha=10, l1_ratio=0.1, max_iter=10000, total=   0.0s\n",
      "[CV] alpha=10, l1_ratio=0.1, max_iter=10000 ..........................\n",
      "[CV] ........... alpha=10, l1_ratio=0.1, max_iter=10000, total=   0.0s\n",
      "[CV] alpha=10, l1_ratio=0.15, max_iter=10000 .........................\n",
      "[CV] .......... alpha=10, l1_ratio=0.15, max_iter=10000, total=   0.0s\n",
      "[CV] alpha=10, l1_ratio=0.15, max_iter=10000 .........................\n",
      "[CV] .......... alpha=10, l1_ratio=0.15, max_iter=10000, total=   0.0s\n",
      "[CV] alpha=10, l1_ratio=0.15, max_iter=10000 .........................\n",
      "[CV] .......... alpha=10, l1_ratio=0.15, max_iter=10000, total=   0.0s\n",
      "[CV] alpha=10, l1_ratio=0.15, max_iter=10000 .........................\n",
      "[CV] .......... alpha=10, l1_ratio=0.15, max_iter=10000, total=   0.0s\n",
      "[CV] alpha=10, l1_ratio=0.15, max_iter=10000 .........................\n",
      "[CV] .......... alpha=10, l1_ratio=0.15, max_iter=10000, total=   0.0s\n",
      "[CV] alpha=10, l1_ratio=0.25, max_iter=10000 .........................\n",
      "[CV] .......... alpha=10, l1_ratio=0.25, max_iter=10000, total=   0.0s\n",
      "[CV] alpha=10, l1_ratio=0.25, max_iter=10000 .........................\n",
      "[CV] .......... alpha=10, l1_ratio=0.25, max_iter=10000, total=   0.0s\n",
      "[CV] alpha=10, l1_ratio=0.25, max_iter=10000 .........................\n",
      "[CV] .......... alpha=10, l1_ratio=0.25, max_iter=10000, total=   0.0s\n",
      "[CV] alpha=10, l1_ratio=0.25, max_iter=10000 .........................\n",
      "[CV] .......... alpha=10, l1_ratio=0.25, max_iter=10000, total=   0.0s\n",
      "[CV] alpha=10, l1_ratio=0.25, max_iter=10000 .........................\n",
      "[CV] .......... alpha=10, l1_ratio=0.25, max_iter=10000, total=   0.0s\n",
      "[CV] alpha=10, l1_ratio=0.5, max_iter=10000 ..........................\n",
      "[CV] ........... alpha=10, l1_ratio=0.5, max_iter=10000, total=   0.0s\n",
      "[CV] alpha=10, l1_ratio=0.5, max_iter=10000 ..........................\n",
      "[CV] ........... alpha=10, l1_ratio=0.5, max_iter=10000, total=   0.0s\n",
      "[CV] alpha=10, l1_ratio=0.5, max_iter=10000 ..........................\n",
      "[CV] ........... alpha=10, l1_ratio=0.5, max_iter=10000, total=   0.0s\n",
      "[CV] alpha=10, l1_ratio=0.5, max_iter=10000 ..........................\n",
      "[CV] ........... alpha=10, l1_ratio=0.5, max_iter=10000, total=   0.0s\n",
      "[CV] alpha=10, l1_ratio=0.5, max_iter=10000 ..........................\n",
      "[CV] ........... alpha=10, l1_ratio=0.5, max_iter=10000, total=   0.0s\n",
      "[CV] alpha=10, l1_ratio=0.75, max_iter=10000 .........................\n",
      "[CV] .......... alpha=10, l1_ratio=0.75, max_iter=10000, total=   0.0s\n",
      "[CV] alpha=10, l1_ratio=0.75, max_iter=10000 .........................\n",
      "[CV] .......... alpha=10, l1_ratio=0.75, max_iter=10000, total=   0.0s\n",
      "[CV] alpha=10, l1_ratio=0.75, max_iter=10000 .........................\n",
      "[CV] .......... alpha=10, l1_ratio=0.75, max_iter=10000, total=   0.0s\n",
      "[CV] alpha=10, l1_ratio=0.75, max_iter=10000 .........................\n",
      "[CV] .......... alpha=10, l1_ratio=0.75, max_iter=10000, total=   0.0s\n",
      "[CV] alpha=10, l1_ratio=0.75, max_iter=10000 .........................\n",
      "[CV] .......... alpha=10, l1_ratio=0.75, max_iter=10000, total=   0.0s\n",
      "[CV] alpha=10, l1_ratio=0.9, max_iter=10000 ..........................\n",
      "[CV] ........... alpha=10, l1_ratio=0.9, max_iter=10000, total=   0.0s\n",
      "[CV] alpha=10, l1_ratio=0.9, max_iter=10000 ..........................\n",
      "[CV] ........... alpha=10, l1_ratio=0.9, max_iter=10000, total=   0.0s\n",
      "[CV] alpha=10, l1_ratio=0.9, max_iter=10000 ..........................\n",
      "[CV] ........... alpha=10, l1_ratio=0.9, max_iter=10000, total=   0.0s\n",
      "[CV] alpha=10, l1_ratio=0.9, max_iter=10000 ..........................\n",
      "[CV] ........... alpha=10, l1_ratio=0.9, max_iter=10000, total=   0.0s\n",
      "[CV] alpha=10, l1_ratio=0.9, max_iter=10000 ..........................\n",
      "[CV] ........... alpha=10, l1_ratio=0.9, max_iter=10000, total=   0.0s\n",
      "[CV] alpha=10, l1_ratio=0.99, max_iter=10000 .........................\n",
      "[CV] .......... alpha=10, l1_ratio=0.99, max_iter=10000, total=   0.0s\n",
      "[CV] alpha=10, l1_ratio=0.99, max_iter=10000 .........................\n",
      "[CV] .......... alpha=10, l1_ratio=0.99, max_iter=10000, total=   0.0s\n",
      "[CV] alpha=10, l1_ratio=0.99, max_iter=10000 .........................\n",
      "[CV] .......... alpha=10, l1_ratio=0.99, max_iter=10000, total=   0.0s\n",
      "[CV] alpha=10, l1_ratio=0.99, max_iter=10000 .........................\n",
      "[CV] .......... alpha=10, l1_ratio=0.99, max_iter=10000, total=   0.0s\n",
      "[CV] alpha=10, l1_ratio=0.99, max_iter=10000 .........................\n",
      "[CV] .......... alpha=10, l1_ratio=0.99, max_iter=10000, total=   0.0s\n",
      "[CV] alpha=10, l1_ratio=1, max_iter=10000 ............................\n",
      "[CV] ............. alpha=10, l1_ratio=1, max_iter=10000, total=   0.1s\n",
      "[CV] alpha=10, l1_ratio=1, max_iter=10000 ............................\n",
      "[CV] ............. alpha=10, l1_ratio=1, max_iter=10000, total=   0.1s\n",
      "[CV] alpha=10, l1_ratio=1, max_iter=10000 ............................\n",
      "[CV] ............. alpha=10, l1_ratio=1, max_iter=10000, total=   0.1s\n",
      "[CV] alpha=10, l1_ratio=1, max_iter=10000 ............................\n",
      "[CV] ............. alpha=10, l1_ratio=1, max_iter=10000, total=   0.1s\n",
      "[CV] alpha=10, l1_ratio=1, max_iter=10000 ............................\n",
      "[CV] ............. alpha=10, l1_ratio=1, max_iter=10000, total=   0.1s\n",
      "[CV] alpha=100, l1_ratio=0.01, max_iter=10000 ........................\n",
      "[CV] ......... alpha=100, l1_ratio=0.01, max_iter=10000, total=   0.0s\n",
      "[CV] alpha=100, l1_ratio=0.01, max_iter=10000 ........................\n",
      "[CV] ......... alpha=100, l1_ratio=0.01, max_iter=10000, total=   0.0s\n",
      "[CV] alpha=100, l1_ratio=0.01, max_iter=10000 ........................\n",
      "[CV] ......... alpha=100, l1_ratio=0.01, max_iter=10000, total=   0.0s\n",
      "[CV] alpha=100, l1_ratio=0.01, max_iter=10000 ........................\n",
      "[CV] ......... alpha=100, l1_ratio=0.01, max_iter=10000, total=   0.0s\n",
      "[CV] alpha=100, l1_ratio=0.01, max_iter=10000 ........................\n",
      "[CV] ......... alpha=100, l1_ratio=0.01, max_iter=10000, total=   0.0s\n",
      "[CV] alpha=100, l1_ratio=0.05, max_iter=10000 ........................\n",
      "[CV] ......... alpha=100, l1_ratio=0.05, max_iter=10000, total=   0.0s\n",
      "[CV] alpha=100, l1_ratio=0.05, max_iter=10000 ........................\n",
      "[CV] ......... alpha=100, l1_ratio=0.05, max_iter=10000, total=   0.0s\n",
      "[CV] alpha=100, l1_ratio=0.05, max_iter=10000 ........................\n",
      "[CV] ......... alpha=100, l1_ratio=0.05, max_iter=10000, total=   0.0s\n",
      "[CV] alpha=100, l1_ratio=0.05, max_iter=10000 ........................\n",
      "[CV] ......... alpha=100, l1_ratio=0.05, max_iter=10000, total=   0.0s\n",
      "[CV] alpha=100, l1_ratio=0.05, max_iter=10000 ........................\n",
      "[CV] ......... alpha=100, l1_ratio=0.05, max_iter=10000, total=   0.0s\n",
      "[CV] alpha=100, l1_ratio=0.1, max_iter=10000 .........................\n",
      "[CV] .......... alpha=100, l1_ratio=0.1, max_iter=10000, total=   0.0s\n",
      "[CV] alpha=100, l1_ratio=0.1, max_iter=10000 .........................\n",
      "[CV] .......... alpha=100, l1_ratio=0.1, max_iter=10000, total=   0.0s\n",
      "[CV] alpha=100, l1_ratio=0.1, max_iter=10000 .........................\n",
      "[CV] .......... alpha=100, l1_ratio=0.1, max_iter=10000, total=   0.0s\n",
      "[CV] alpha=100, l1_ratio=0.1, max_iter=10000 .........................\n",
      "[CV] .......... alpha=100, l1_ratio=0.1, max_iter=10000, total=   0.0s\n",
      "[CV] alpha=100, l1_ratio=0.1, max_iter=10000 .........................\n",
      "[CV] .......... alpha=100, l1_ratio=0.1, max_iter=10000, total=   0.0s\n",
      "[CV] alpha=100, l1_ratio=0.15, max_iter=10000 ........................\n",
      "[CV] ......... alpha=100, l1_ratio=0.15, max_iter=10000, total=   0.0s\n",
      "[CV] alpha=100, l1_ratio=0.15, max_iter=10000 ........................\n",
      "[CV] ......... alpha=100, l1_ratio=0.15, max_iter=10000, total=   0.0s\n",
      "[CV] alpha=100, l1_ratio=0.15, max_iter=10000 ........................\n",
      "[CV] ......... alpha=100, l1_ratio=0.15, max_iter=10000, total=   0.0s\n",
      "[CV] alpha=100, l1_ratio=0.15, max_iter=10000 ........................\n",
      "[CV] ......... alpha=100, l1_ratio=0.15, max_iter=10000, total=   0.0s\n",
      "[CV] alpha=100, l1_ratio=0.15, max_iter=10000 ........................\n",
      "[CV] ......... alpha=100, l1_ratio=0.15, max_iter=10000, total=   0.0s\n",
      "[CV] alpha=100, l1_ratio=0.25, max_iter=10000 ........................\n",
      "[CV] ......... alpha=100, l1_ratio=0.25, max_iter=10000, total=   0.0s\n",
      "[CV] alpha=100, l1_ratio=0.25, max_iter=10000 ........................\n",
      "[CV] ......... alpha=100, l1_ratio=0.25, max_iter=10000, total=   0.0s\n",
      "[CV] alpha=100, l1_ratio=0.25, max_iter=10000 ........................\n",
      "[CV] ......... alpha=100, l1_ratio=0.25, max_iter=10000, total=   0.0s\n",
      "[CV] alpha=100, l1_ratio=0.25, max_iter=10000 ........................\n",
      "[CV] ......... alpha=100, l1_ratio=0.25, max_iter=10000, total=   0.0s\n",
      "[CV] alpha=100, l1_ratio=0.25, max_iter=10000 ........................\n",
      "[CV] ......... alpha=100, l1_ratio=0.25, max_iter=10000, total=   0.0s\n",
      "[CV] alpha=100, l1_ratio=0.5, max_iter=10000 .........................\n",
      "[CV] .......... alpha=100, l1_ratio=0.5, max_iter=10000, total=   0.0s\n",
      "[CV] alpha=100, l1_ratio=0.5, max_iter=10000 .........................\n",
      "[CV] .......... alpha=100, l1_ratio=0.5, max_iter=10000, total=   0.0s\n",
      "[CV] alpha=100, l1_ratio=0.5, max_iter=10000 .........................\n",
      "[CV] .......... alpha=100, l1_ratio=0.5, max_iter=10000, total=   0.0s\n",
      "[CV] alpha=100, l1_ratio=0.5, max_iter=10000 .........................\n",
      "[CV] .......... alpha=100, l1_ratio=0.5, max_iter=10000, total=   0.0s\n",
      "[CV] alpha=100, l1_ratio=0.5, max_iter=10000 .........................\n",
      "[CV] .......... alpha=100, l1_ratio=0.5, max_iter=10000, total=   0.0s\n",
      "[CV] alpha=100, l1_ratio=0.75, max_iter=10000 ........................\n",
      "[CV] ......... alpha=100, l1_ratio=0.75, max_iter=10000, total=   0.0s\n",
      "[CV] alpha=100, l1_ratio=0.75, max_iter=10000 ........................\n",
      "[CV] ......... alpha=100, l1_ratio=0.75, max_iter=10000, total=   0.0s\n",
      "[CV] alpha=100, l1_ratio=0.75, max_iter=10000 ........................\n",
      "[CV] ......... alpha=100, l1_ratio=0.75, max_iter=10000, total=   0.0s\n",
      "[CV] alpha=100, l1_ratio=0.75, max_iter=10000 ........................\n",
      "[CV] ......... alpha=100, l1_ratio=0.75, max_iter=10000, total=   0.0s\n",
      "[CV] alpha=100, l1_ratio=0.75, max_iter=10000 ........................\n",
      "[CV] ......... alpha=100, l1_ratio=0.75, max_iter=10000, total=   0.0s\n",
      "[CV] alpha=100, l1_ratio=0.9, max_iter=10000 .........................\n",
      "[CV] .......... alpha=100, l1_ratio=0.9, max_iter=10000, total=   0.0s\n",
      "[CV] alpha=100, l1_ratio=0.9, max_iter=10000 .........................\n",
      "[CV] .......... alpha=100, l1_ratio=0.9, max_iter=10000, total=   0.0s\n",
      "[CV] alpha=100, l1_ratio=0.9, max_iter=10000 .........................\n",
      "[CV] .......... alpha=100, l1_ratio=0.9, max_iter=10000, total=   0.0s\n",
      "[CV] alpha=100, l1_ratio=0.9, max_iter=10000 .........................\n",
      "[CV] .......... alpha=100, l1_ratio=0.9, max_iter=10000, total=   0.0s\n",
      "[CV] alpha=100, l1_ratio=0.9, max_iter=10000 .........................\n"
     ]
    },
    {
     "name": "stdout",
     "output_type": "stream",
     "text": [
      "[CV] .......... alpha=100, l1_ratio=0.9, max_iter=10000, total=   0.0s\n",
      "[CV] alpha=100, l1_ratio=0.99, max_iter=10000 ........................\n",
      "[CV] ......... alpha=100, l1_ratio=0.99, max_iter=10000, total=   0.0s\n",
      "[CV] alpha=100, l1_ratio=0.99, max_iter=10000 ........................\n",
      "[CV] ......... alpha=100, l1_ratio=0.99, max_iter=10000, total=   0.0s\n",
      "[CV] alpha=100, l1_ratio=0.99, max_iter=10000 ........................\n",
      "[CV] ......... alpha=100, l1_ratio=0.99, max_iter=10000, total=   0.0s\n",
      "[CV] alpha=100, l1_ratio=0.99, max_iter=10000 ........................\n",
      "[CV] ......... alpha=100, l1_ratio=0.99, max_iter=10000, total=   0.0s\n",
      "[CV] alpha=100, l1_ratio=0.99, max_iter=10000 ........................\n",
      "[CV] ......... alpha=100, l1_ratio=0.99, max_iter=10000, total=   0.0s\n",
      "[CV] alpha=100, l1_ratio=1, max_iter=10000 ...........................\n",
      "[CV] ............ alpha=100, l1_ratio=1, max_iter=10000, total=   0.0s\n",
      "[CV] alpha=100, l1_ratio=1, max_iter=10000 ...........................\n",
      "[CV] ............ alpha=100, l1_ratio=1, max_iter=10000, total=   0.0s\n",
      "[CV] alpha=100, l1_ratio=1, max_iter=10000 ...........................\n",
      "[CV] ............ alpha=100, l1_ratio=1, max_iter=10000, total=   0.0s\n",
      "[CV] alpha=100, l1_ratio=1, max_iter=10000 ...........................\n",
      "[CV] ............ alpha=100, l1_ratio=1, max_iter=10000, total=   0.0s\n",
      "[CV] alpha=100, l1_ratio=1, max_iter=10000 ...........................\n",
      "[CV] ............ alpha=100, l1_ratio=1, max_iter=10000, total=   0.0s\n",
      "[CV] alpha=110, l1_ratio=0.01, max_iter=10000 ........................\n",
      "[CV] ......... alpha=110, l1_ratio=0.01, max_iter=10000, total=   0.0s\n",
      "[CV] alpha=110, l1_ratio=0.01, max_iter=10000 ........................\n",
      "[CV] ......... alpha=110, l1_ratio=0.01, max_iter=10000, total=   0.0s\n",
      "[CV] alpha=110, l1_ratio=0.01, max_iter=10000 ........................\n",
      "[CV] ......... alpha=110, l1_ratio=0.01, max_iter=10000, total=   0.0s\n",
      "[CV] alpha=110, l1_ratio=0.01, max_iter=10000 ........................\n",
      "[CV] ......... alpha=110, l1_ratio=0.01, max_iter=10000, total=   0.0s\n",
      "[CV] alpha=110, l1_ratio=0.01, max_iter=10000 ........................\n",
      "[CV] ......... alpha=110, l1_ratio=0.01, max_iter=10000, total=   0.0s\n",
      "[CV] alpha=110, l1_ratio=0.05, max_iter=10000 ........................\n",
      "[CV] ......... alpha=110, l1_ratio=0.05, max_iter=10000, total=   0.0s\n",
      "[CV] alpha=110, l1_ratio=0.05, max_iter=10000 ........................\n",
      "[CV] ......... alpha=110, l1_ratio=0.05, max_iter=10000, total=   0.0s\n",
      "[CV] alpha=110, l1_ratio=0.05, max_iter=10000 ........................\n",
      "[CV] ......... alpha=110, l1_ratio=0.05, max_iter=10000, total=   0.0s\n",
      "[CV] alpha=110, l1_ratio=0.05, max_iter=10000 ........................\n",
      "[CV] ......... alpha=110, l1_ratio=0.05, max_iter=10000, total=   0.0s\n",
      "[CV] alpha=110, l1_ratio=0.05, max_iter=10000 ........................\n",
      "[CV] ......... alpha=110, l1_ratio=0.05, max_iter=10000, total=   0.0s\n",
      "[CV] alpha=110, l1_ratio=0.1, max_iter=10000 .........................\n",
      "[CV] .......... alpha=110, l1_ratio=0.1, max_iter=10000, total=   0.0s\n",
      "[CV] alpha=110, l1_ratio=0.1, max_iter=10000 .........................\n",
      "[CV] .......... alpha=110, l1_ratio=0.1, max_iter=10000, total=   0.0s\n",
      "[CV] alpha=110, l1_ratio=0.1, max_iter=10000 .........................\n",
      "[CV] .......... alpha=110, l1_ratio=0.1, max_iter=10000, total=   0.0s\n",
      "[CV] alpha=110, l1_ratio=0.1, max_iter=10000 .........................\n",
      "[CV] .......... alpha=110, l1_ratio=0.1, max_iter=10000, total=   0.0s\n",
      "[CV] alpha=110, l1_ratio=0.1, max_iter=10000 .........................\n",
      "[CV] .......... alpha=110, l1_ratio=0.1, max_iter=10000, total=   0.0s\n",
      "[CV] alpha=110, l1_ratio=0.15, max_iter=10000 ........................\n",
      "[CV] ......... alpha=110, l1_ratio=0.15, max_iter=10000, total=   0.0s\n",
      "[CV] alpha=110, l1_ratio=0.15, max_iter=10000 ........................\n",
      "[CV] ......... alpha=110, l1_ratio=0.15, max_iter=10000, total=   0.0s\n",
      "[CV] alpha=110, l1_ratio=0.15, max_iter=10000 ........................\n",
      "[CV] ......... alpha=110, l1_ratio=0.15, max_iter=10000, total=   0.0s\n",
      "[CV] alpha=110, l1_ratio=0.15, max_iter=10000 ........................\n",
      "[CV] ......... alpha=110, l1_ratio=0.15, max_iter=10000, total=   0.0s\n",
      "[CV] alpha=110, l1_ratio=0.15, max_iter=10000 ........................\n",
      "[CV] ......... alpha=110, l1_ratio=0.15, max_iter=10000, total=   0.0s\n",
      "[CV] alpha=110, l1_ratio=0.25, max_iter=10000 ........................\n",
      "[CV] ......... alpha=110, l1_ratio=0.25, max_iter=10000, total=   0.0s\n",
      "[CV] alpha=110, l1_ratio=0.25, max_iter=10000 ........................\n",
      "[CV] ......... alpha=110, l1_ratio=0.25, max_iter=10000, total=   0.0s\n",
      "[CV] alpha=110, l1_ratio=0.25, max_iter=10000 ........................\n",
      "[CV] ......... alpha=110, l1_ratio=0.25, max_iter=10000, total=   0.0s\n",
      "[CV] alpha=110, l1_ratio=0.25, max_iter=10000 ........................\n",
      "[CV] ......... alpha=110, l1_ratio=0.25, max_iter=10000, total=   0.0s\n",
      "[CV] alpha=110, l1_ratio=0.25, max_iter=10000 ........................\n",
      "[CV] ......... alpha=110, l1_ratio=0.25, max_iter=10000, total=   0.0s\n",
      "[CV] alpha=110, l1_ratio=0.5, max_iter=10000 .........................\n",
      "[CV] .......... alpha=110, l1_ratio=0.5, max_iter=10000, total=   0.0s\n",
      "[CV] alpha=110, l1_ratio=0.5, max_iter=10000 .........................\n",
      "[CV] .......... alpha=110, l1_ratio=0.5, max_iter=10000, total=   0.0s\n",
      "[CV] alpha=110, l1_ratio=0.5, max_iter=10000 .........................\n",
      "[CV] .......... alpha=110, l1_ratio=0.5, max_iter=10000, total=   0.0s\n",
      "[CV] alpha=110, l1_ratio=0.5, max_iter=10000 .........................\n",
      "[CV] .......... alpha=110, l1_ratio=0.5, max_iter=10000, total=   0.0s\n",
      "[CV] alpha=110, l1_ratio=0.5, max_iter=10000 .........................\n",
      "[CV] .......... alpha=110, l1_ratio=0.5, max_iter=10000, total=   0.0s\n",
      "[CV] alpha=110, l1_ratio=0.75, max_iter=10000 ........................\n",
      "[CV] ......... alpha=110, l1_ratio=0.75, max_iter=10000, total=   0.0s\n",
      "[CV] alpha=110, l1_ratio=0.75, max_iter=10000 ........................\n",
      "[CV] ......... alpha=110, l1_ratio=0.75, max_iter=10000, total=   0.0s\n",
      "[CV] alpha=110, l1_ratio=0.75, max_iter=10000 ........................\n",
      "[CV] ......... alpha=110, l1_ratio=0.75, max_iter=10000, total=   0.0s\n",
      "[CV] alpha=110, l1_ratio=0.75, max_iter=10000 ........................\n",
      "[CV] ......... alpha=110, l1_ratio=0.75, max_iter=10000, total=   0.0s\n",
      "[CV] alpha=110, l1_ratio=0.75, max_iter=10000 ........................\n",
      "[CV] ......... alpha=110, l1_ratio=0.75, max_iter=10000, total=   0.0s\n",
      "[CV] alpha=110, l1_ratio=0.9, max_iter=10000 .........................\n",
      "[CV] .......... alpha=110, l1_ratio=0.9, max_iter=10000, total=   0.0s\n",
      "[CV] alpha=110, l1_ratio=0.9, max_iter=10000 .........................\n",
      "[CV] .......... alpha=110, l1_ratio=0.9, max_iter=10000, total=   0.0s\n",
      "[CV] alpha=110, l1_ratio=0.9, max_iter=10000 .........................\n",
      "[CV] .......... alpha=110, l1_ratio=0.9, max_iter=10000, total=   0.0s\n",
      "[CV] alpha=110, l1_ratio=0.9, max_iter=10000 .........................\n",
      "[CV] .......... alpha=110, l1_ratio=0.9, max_iter=10000, total=   0.0s\n",
      "[CV] alpha=110, l1_ratio=0.9, max_iter=10000 .........................\n",
      "[CV] .......... alpha=110, l1_ratio=0.9, max_iter=10000, total=   0.0s\n",
      "[CV] alpha=110, l1_ratio=0.99, max_iter=10000 ........................\n",
      "[CV] ......... alpha=110, l1_ratio=0.99, max_iter=10000, total=   0.0s\n",
      "[CV] alpha=110, l1_ratio=0.99, max_iter=10000 ........................\n",
      "[CV] ......... alpha=110, l1_ratio=0.99, max_iter=10000, total=   0.0s\n",
      "[CV] alpha=110, l1_ratio=0.99, max_iter=10000 ........................\n",
      "[CV] ......... alpha=110, l1_ratio=0.99, max_iter=10000, total=   0.0s\n",
      "[CV] alpha=110, l1_ratio=0.99, max_iter=10000 ........................\n",
      "[CV] ......... alpha=110, l1_ratio=0.99, max_iter=10000, total=   0.0s\n",
      "[CV] alpha=110, l1_ratio=0.99, max_iter=10000 ........................\n",
      "[CV] ......... alpha=110, l1_ratio=0.99, max_iter=10000, total=   0.0s\n",
      "[CV] alpha=110, l1_ratio=1, max_iter=10000 ...........................\n",
      "[CV] ............ alpha=110, l1_ratio=1, max_iter=10000, total=   0.0s\n",
      "[CV] alpha=110, l1_ratio=1, max_iter=10000 ...........................\n",
      "[CV] ............ alpha=110, l1_ratio=1, max_iter=10000, total=   0.0s\n",
      "[CV] alpha=110, l1_ratio=1, max_iter=10000 ...........................\n"
     ]
    },
    {
     "name": "stdout",
     "output_type": "stream",
     "text": [
      "[CV] ............ alpha=110, l1_ratio=1, max_iter=10000, total=   0.0s\n",
      "[CV] alpha=110, l1_ratio=1, max_iter=10000 ...........................\n",
      "[CV] ............ alpha=110, l1_ratio=1, max_iter=10000, total=   0.0s\n",
      "[CV] alpha=110, l1_ratio=1, max_iter=10000 ...........................\n",
      "[CV] ............ alpha=110, l1_ratio=1, max_iter=10000, total=   0.0s\n",
      "[CV] alpha=1000, l1_ratio=0.01, max_iter=10000 .......................\n",
      "[CV] ........ alpha=1000, l1_ratio=0.01, max_iter=10000, total=   0.0s\n",
      "[CV] alpha=1000, l1_ratio=0.01, max_iter=10000 .......................\n",
      "[CV] ........ alpha=1000, l1_ratio=0.01, max_iter=10000, total=   0.0s\n",
      "[CV] alpha=1000, l1_ratio=0.01, max_iter=10000 .......................\n",
      "[CV] ........ alpha=1000, l1_ratio=0.01, max_iter=10000, total=   0.0s\n",
      "[CV] alpha=1000, l1_ratio=0.01, max_iter=10000 .......................\n",
      "[CV] ........ alpha=1000, l1_ratio=0.01, max_iter=10000, total=   0.0s\n",
      "[CV] alpha=1000, l1_ratio=0.01, max_iter=10000 .......................\n",
      "[CV] ........ alpha=1000, l1_ratio=0.01, max_iter=10000, total=   0.0s\n",
      "[CV] alpha=1000, l1_ratio=0.05, max_iter=10000 .......................\n",
      "[CV] ........ alpha=1000, l1_ratio=0.05, max_iter=10000, total=   0.0s\n",
      "[CV] alpha=1000, l1_ratio=0.05, max_iter=10000 .......................\n",
      "[CV] ........ alpha=1000, l1_ratio=0.05, max_iter=10000, total=   0.0s\n",
      "[CV] alpha=1000, l1_ratio=0.05, max_iter=10000 .......................\n",
      "[CV] ........ alpha=1000, l1_ratio=0.05, max_iter=10000, total=   0.0s\n",
      "[CV] alpha=1000, l1_ratio=0.05, max_iter=10000 .......................\n",
      "[CV] ........ alpha=1000, l1_ratio=0.05, max_iter=10000, total=   0.0s\n",
      "[CV] alpha=1000, l1_ratio=0.05, max_iter=10000 .......................\n",
      "[CV] ........ alpha=1000, l1_ratio=0.05, max_iter=10000, total=   0.0s\n",
      "[CV] alpha=1000, l1_ratio=0.1, max_iter=10000 ........................\n",
      "[CV] ......... alpha=1000, l1_ratio=0.1, max_iter=10000, total=   0.0s\n",
      "[CV] alpha=1000, l1_ratio=0.1, max_iter=10000 ........................\n",
      "[CV] ......... alpha=1000, l1_ratio=0.1, max_iter=10000, total=   0.0s\n",
      "[CV] alpha=1000, l1_ratio=0.1, max_iter=10000 ........................\n",
      "[CV] ......... alpha=1000, l1_ratio=0.1, max_iter=10000, total=   0.0s\n",
      "[CV] alpha=1000, l1_ratio=0.1, max_iter=10000 ........................\n",
      "[CV] ......... alpha=1000, l1_ratio=0.1, max_iter=10000, total=   0.0s\n",
      "[CV] alpha=1000, l1_ratio=0.1, max_iter=10000 ........................\n",
      "[CV] ......... alpha=1000, l1_ratio=0.1, max_iter=10000, total=   0.0s\n",
      "[CV] alpha=1000, l1_ratio=0.15, max_iter=10000 .......................\n",
      "[CV] ........ alpha=1000, l1_ratio=0.15, max_iter=10000, total=   0.0s\n",
      "[CV] alpha=1000, l1_ratio=0.15, max_iter=10000 .......................\n",
      "[CV] ........ alpha=1000, l1_ratio=0.15, max_iter=10000, total=   0.0s\n",
      "[CV] alpha=1000, l1_ratio=0.15, max_iter=10000 .......................\n",
      "[CV] ........ alpha=1000, l1_ratio=0.15, max_iter=10000, total=   0.0s\n",
      "[CV] alpha=1000, l1_ratio=0.15, max_iter=10000 .......................\n",
      "[CV] ........ alpha=1000, l1_ratio=0.15, max_iter=10000, total=   0.0s\n",
      "[CV] alpha=1000, l1_ratio=0.15, max_iter=10000 .......................\n",
      "[CV] ........ alpha=1000, l1_ratio=0.15, max_iter=10000, total=   0.0s\n",
      "[CV] alpha=1000, l1_ratio=0.25, max_iter=10000 .......................\n",
      "[CV] ........ alpha=1000, l1_ratio=0.25, max_iter=10000, total=   0.0s\n",
      "[CV] alpha=1000, l1_ratio=0.25, max_iter=10000 .......................\n",
      "[CV] ........ alpha=1000, l1_ratio=0.25, max_iter=10000, total=   0.0s\n",
      "[CV] alpha=1000, l1_ratio=0.25, max_iter=10000 .......................\n",
      "[CV] ........ alpha=1000, l1_ratio=0.25, max_iter=10000, total=   0.0s\n",
      "[CV] alpha=1000, l1_ratio=0.25, max_iter=10000 .......................\n",
      "[CV] ........ alpha=1000, l1_ratio=0.25, max_iter=10000, total=   0.0s\n",
      "[CV] alpha=1000, l1_ratio=0.25, max_iter=10000 .......................\n",
      "[CV] ........ alpha=1000, l1_ratio=0.25, max_iter=10000, total=   0.0s\n",
      "[CV] alpha=1000, l1_ratio=0.5, max_iter=10000 ........................\n",
      "[CV] ......... alpha=1000, l1_ratio=0.5, max_iter=10000, total=   0.0s\n",
      "[CV] alpha=1000, l1_ratio=0.5, max_iter=10000 ........................\n",
      "[CV] ......... alpha=1000, l1_ratio=0.5, max_iter=10000, total=   0.0s\n",
      "[CV] alpha=1000, l1_ratio=0.5, max_iter=10000 ........................\n",
      "[CV] ......... alpha=1000, l1_ratio=0.5, max_iter=10000, total=   0.0s\n",
      "[CV] alpha=1000, l1_ratio=0.5, max_iter=10000 ........................\n",
      "[CV] ......... alpha=1000, l1_ratio=0.5, max_iter=10000, total=   0.0s\n",
      "[CV] alpha=1000, l1_ratio=0.5, max_iter=10000 ........................\n",
      "[CV] ......... alpha=1000, l1_ratio=0.5, max_iter=10000, total=   0.0s\n",
      "[CV] alpha=1000, l1_ratio=0.75, max_iter=10000 .......................\n",
      "[CV] ........ alpha=1000, l1_ratio=0.75, max_iter=10000, total=   0.0s\n",
      "[CV] alpha=1000, l1_ratio=0.75, max_iter=10000 .......................\n",
      "[CV] ........ alpha=1000, l1_ratio=0.75, max_iter=10000, total=   0.0s\n",
      "[CV] alpha=1000, l1_ratio=0.75, max_iter=10000 .......................\n",
      "[CV] ........ alpha=1000, l1_ratio=0.75, max_iter=10000, total=   0.0s\n",
      "[CV] alpha=1000, l1_ratio=0.75, max_iter=10000 .......................\n",
      "[CV] ........ alpha=1000, l1_ratio=0.75, max_iter=10000, total=   0.0s\n",
      "[CV] alpha=1000, l1_ratio=0.75, max_iter=10000 .......................\n",
      "[CV] ........ alpha=1000, l1_ratio=0.75, max_iter=10000, total=   0.0s\n",
      "[CV] alpha=1000, l1_ratio=0.9, max_iter=10000 ........................\n",
      "[CV] ......... alpha=1000, l1_ratio=0.9, max_iter=10000, total=   0.0s\n",
      "[CV] alpha=1000, l1_ratio=0.9, max_iter=10000 ........................\n",
      "[CV] ......... alpha=1000, l1_ratio=0.9, max_iter=10000, total=   0.0s\n",
      "[CV] alpha=1000, l1_ratio=0.9, max_iter=10000 ........................\n",
      "[CV] ......... alpha=1000, l1_ratio=0.9, max_iter=10000, total=   0.0s\n",
      "[CV] alpha=1000, l1_ratio=0.9, max_iter=10000 ........................\n",
      "[CV] ......... alpha=1000, l1_ratio=0.9, max_iter=10000, total=   0.0s\n",
      "[CV] alpha=1000, l1_ratio=0.9, max_iter=10000 ........................\n",
      "[CV] ......... alpha=1000, l1_ratio=0.9, max_iter=10000, total=   0.0s\n",
      "[CV] alpha=1000, l1_ratio=0.99, max_iter=10000 .......................\n",
      "[CV] ........ alpha=1000, l1_ratio=0.99, max_iter=10000, total=   0.0s\n",
      "[CV] alpha=1000, l1_ratio=0.99, max_iter=10000 .......................\n",
      "[CV] ........ alpha=1000, l1_ratio=0.99, max_iter=10000, total=   0.0s\n",
      "[CV] alpha=1000, l1_ratio=0.99, max_iter=10000 .......................\n",
      "[CV] ........ alpha=1000, l1_ratio=0.99, max_iter=10000, total=   0.0s\n",
      "[CV] alpha=1000, l1_ratio=0.99, max_iter=10000 .......................\n",
      "[CV] ........ alpha=1000, l1_ratio=0.99, max_iter=10000, total=   0.0s\n",
      "[CV] alpha=1000, l1_ratio=0.99, max_iter=10000 .......................\n",
      "[CV] ........ alpha=1000, l1_ratio=0.99, max_iter=10000, total=   0.0s\n",
      "[CV] alpha=1000, l1_ratio=1, max_iter=10000 ..........................\n",
      "[CV] ........... alpha=1000, l1_ratio=1, max_iter=10000, total=   0.0s\n",
      "[CV] alpha=1000, l1_ratio=1, max_iter=10000 ..........................\n",
      "[CV] ........... alpha=1000, l1_ratio=1, max_iter=10000, total=   0.0s\n",
      "[CV] alpha=1000, l1_ratio=1, max_iter=10000 ..........................\n",
      "[CV] ........... alpha=1000, l1_ratio=1, max_iter=10000, total=   0.0s\n",
      "[CV] alpha=1000, l1_ratio=1, max_iter=10000 ..........................\n",
      "[CV] ........... alpha=1000, l1_ratio=1, max_iter=10000, total=   0.0s\n",
      "[CV] alpha=1000, l1_ratio=1, max_iter=10000 ..........................\n",
      "[CV] ........... alpha=1000, l1_ratio=1, max_iter=10000, total=   0.0s\n"
     ]
    },
    {
     "name": "stderr",
     "output_type": "stream",
     "text": [
      "[Parallel(n_jobs=1)]: Done 300 out of 300 | elapsed:    2.1s finished\n"
     ]
    },
    {
     "data": {
      "text/plain": [
       "GridSearchCV(cv=5, error_score=nan,\n",
       "             estimator=ElasticNet(alpha=1.0, copy_X=True, fit_intercept=True,\n",
       "                                  l1_ratio=0.5, max_iter=1000, normalize=False,\n",
       "                                  positive=False, precompute=False,\n",
       "                                  random_state=None, selection='cyclic',\n",
       "                                  tol=0.0001, warm_start=False),\n",
       "             iid='deprecated', n_jobs=None,\n",
       "             param_grid={'alpha': [0.1, 1, 10, 100, 110, 1000],\n",
       "                         'l1_ratio': [0.01, 0.05, 0.1, 0.15, 0.25, 0.5, 0.75,\n",
       "                                      0.9, 0.99, 1],\n",
       "                         'max_iter': [10000]},\n",
       "             pre_dispatch='2*n_jobs', refit=True, return_train_score=False,\n",
       "             scoring='neg_mean_squared_error', verbose=2)"
      ]
     },
     "execution_count": 64,
     "metadata": {},
     "output_type": "execute_result"
    }
   ],
   "source": [
    "grid.fit(xtrain,ytrain)"
   ]
  },
  {
   "cell_type": "code",
   "execution_count": 65,
   "metadata": {},
   "outputs": [
    {
     "data": {
      "text/plain": [
       "{'alpha': 1000, 'l1_ratio': 1, 'max_iter': 10000}"
      ]
     },
     "execution_count": 65,
     "metadata": {},
     "output_type": "execute_result"
    }
   ],
   "source": [
    "grid.best_params_"
   ]
  },
  {
   "cell_type": "code",
   "execution_count": 66,
   "metadata": {},
   "outputs": [],
   "source": [
    "yhat2=grid.predict(xtest)"
   ]
  },
  {
   "cell_type": "code",
   "execution_count": 67,
   "metadata": {},
   "outputs": [
    {
     "name": "stdout",
     "output_type": "stream",
     "text": [
      "Mean Absolute Error:  25901.08\n",
      "Mean Squared Error:  36890.24\n"
     ]
    }
   ],
   "source": [
    "#Now evaluating the metrics\n",
    "print('Mean Absolute Error: ',round(mean_absolute_error(ytest,yhat2),2))\n",
    "print('Mean Squared Error: ',round(np.sqrt(mean_squared_error(ytest,yhat2)),2))"
   ]
  },
  {
   "cell_type": "code",
   "execution_count": 68,
   "metadata": {},
   "outputs": [
    {
     "data": {
      "text/plain": [
       "<matplotlib.axes._subplots.AxesSubplot at 0x25aefd27ec8>"
      ]
     },
     "execution_count": 68,
     "metadata": {},
     "output_type": "execute_result"
    },
    {
     "data": {
      "image/png": "[encoded data removed]",
      "text/plain": [
       "<Figure size 1100x440 with 1 Axes>"
      ]
     },
     "metadata": {
      "needs_background": "light"
     },
     "output_type": "display_data"
    }
   ],
   "source": [
    "#Residual Plot:\n",
    "plt.figure(figsize=(10,4),dpi=110)\n",
    "sns.residplot(ytest,yhat2,lowess=True)"
   ]
  },
  {
   "cell_type": "markdown",
   "metadata": {},
   "source": [
    "Lastly, let's perform **Polynomial Regression** to check whether it is a better fit for the dataset"
   ]
  },
  {
   "cell_type": "code",
   "execution_count": 69,
   "metadata": {},
   "outputs": [],
   "source": [
    "from sklearn.preprocessing import PolynomialFeatures"
   ]
  },
  {
   "cell_type": "code",
   "execution_count": 70,
   "metadata": {},
   "outputs": [],
   "source": [
    "rmse_errors = []\n",
    "\n",
    "for d in range(1,5):\n",
    "    \n",
    "    # CREATE POLY DATA SET FOR DEGREE \"d\"\n",
    "    polynomial_converter = PolynomialFeatures(degree=d,include_bias=False)\n",
    "    poly_features = polynomial_converter.fit_transform(x)\n",
    "    \n",
    "    # SPLIT THIS NEW POLY DATA SET\n",
    "    xtrain, xtest, ytrain, ytest = train_test_split(poly_features, y, test_size=0.3, random_state=101)\n",
    "    \n",
    "    # TRAIN ON THIS NEW POLY SET\n",
    "    model = LinearRegression(fit_intercept=True)\n",
    "    model.fit(xtrain,ytrain)\n",
    "    \n",
    "    # PREDICT ON BOTH TRAIN AND TEST\n",
    "    y_pred = model.predict(xtest)\n",
    "    \n",
    "    # Calculate Errors\n",
    "    \n",
    "    # Errors on Train Set\n",
    "    RMSE = np.sqrt(mean_squared_error(ytest,y_pred))\n",
    "    \n",
    "    # Append errors to lists for plotting later\n",
    "       \n",
    "    rmse_errors.append(RMSE)"
   ]
  },
  {
   "cell_type": "code",
   "execution_count": 71,
   "metadata": {},
   "outputs": [
    {
     "data": {
      "text/plain": [
       "Text(0.5, 1.0, 'Degree vs RMSE')"
      ]
     },
     "execution_count": 71,
     "metadata": {},
     "output_type": "execute_result"
    },
    {
     "data": {
      "image/png": "[encoded data removed]",
      "text/plain": [
       "<Figure size 660x440 with 1 Axes>"
      ]
     },
     "metadata": {
      "needs_background": "light"
     },
     "output_type": "display_data"
    }
   ],
   "source": [
    "#Plotting the Errors \n",
    "plt.figure(dpi=110)\n",
    "plt.plot(range(1,5),rmse_errors,color='g')\n",
    "plt.xlabel('Degree')\n",
    "plt.ylabel('Root Mean Squared Error')\n",
    "plt.title('Degree vs RMSE')"
   ]
  },
  {
   "cell_type": "markdown",
   "metadata": {},
   "source": [
    "From the above graph, we can conclude that a degree of **d=2** is optimal"
   ]
  },
  {
   "cell_type": "code",
   "execution_count": 75,
   "metadata": {},
   "outputs": [],
   "source": [
    "poly=PolynomialFeatures(degree=2)\n",
    "poly_features=poly.fit_transform(x)\n",
    "xtrain, xtest, ytrain, ytest = train_test_split(poly_features, y, test_size=0.3, random_state=101)\n",
    "lm.fit(xtrain,ytrain)\n",
    "yhat3=lm.predict(xtest)"
   ]
  },
  {
   "cell_type": "code",
   "execution_count": 76,
   "metadata": {},
   "outputs": [
    {
     "name": "stdout",
     "output_type": "stream",
     "text": [
      "Mean Absolute Error:  23604.81\n",
      "Mean Squared Error:  35074.76\n"
     ]
    }
   ],
   "source": [
    "print('Mean Absolute Error: ',round(mean_absolute_error(ytest,yhat3),2))\n",
    "print('Mean Squared Error: ',round(np.sqrt(mean_squared_error(ytest,yhat3)),2))"
   ]
  },
  {
   "cell_type": "code",
   "execution_count": 78,
   "metadata": {},
   "outputs": [
    {
     "data": {
      "text/plain": [
       "<matplotlib.axes._subplots.AxesSubplot at 0x25aefbe5c08>"
      ]
     },
     "execution_count": 78,
     "metadata": {},
     "output_type": "execute_result"
    },
    {
     "data": {
      "image/png": "[encoded data removed]",
      "text/plain": [
       "<Figure size 1100x440 with 1 Axes>"
      ]
     },
     "metadata": {
      "needs_background": "light"
     },
     "output_type": "display_data"
    }
   ],
   "source": [
    "#Residual Plot:\n",
    "plt.figure(figsize=(10,4),dpi=110)\n",
    "sns.residplot(ytest,yhat3,lowess=True,color='purple')"
   ]
  },
  {
   "cell_type": "markdown",
   "metadata": {},
   "source": [
    "**DataFrame of the results:**"
   ]
  },
  {
   "cell_type": "code",
   "execution_count": 79,
   "metadata": {},
   "outputs": [
    {
     "data": {
      "text/html": [
       "<div>\n",
       "<style scoped>\n",
       "    .dataframe tbody tr th:only-of-type {\n",
       "        vertical-align: middle;\n",
       "    }\n",
       "\n",
       "    .dataframe tbody tr th {\n",
       "        vertical-align: top;\n",
       "    }\n",
       "\n",
       "    .dataframe thead th {\n",
       "        text-align: right;\n",
       "    }\n",
       "</style>\n",
       "<table border=\"1\" class=\"dataframe\">\n",
       "  <thead>\n",
       "    <tr style=\"text-align: right;\">\n",
       "      <th></th>\n",
       "      <th>MAE</th>\n",
       "      <th>RMSE</th>\n",
       "    </tr>\n",
       "  </thead>\n",
       "  <tbody>\n",
       "    <tr>\n",
       "      <th>Linear Regression</th>\n",
       "      <td>25842.32</td>\n",
       "      <td>36620.58</td>\n",
       "    </tr>\n",
       "    <tr>\n",
       "      <th>ElasticNet-GridSearchCV</th>\n",
       "      <td>25901.08</td>\n",
       "      <td>36890.24</td>\n",
       "    </tr>\n",
       "    <tr>\n",
       "      <th>Polynomial Regression</th>\n",
       "      <td>23604.81</td>\n",
       "      <td>35074.76</td>\n",
       "    </tr>\n",
       "  </tbody>\n",
       "</table>\n",
       "</div>"
      ],
      "text/plain": [
       "                              MAE      RMSE\n",
       "Linear Regression        25842.32  36620.58\n",
       "ElasticNet-GridSearchCV  25901.08  36890.24\n",
       "Polynomial Regression    23604.81  35074.76"
      ]
     },
     "execution_count": 79,
     "metadata": {},
     "output_type": "execute_result"
    }
   ],
   "source": [
    "my_dict={'MAE':[25842.32, 25901.08,23604.81],'RMSE':[36620.58,36890.24,35074.76]}\n",
    "index=['Linear Regression','ElasticNet-GridSearchCV','Polynomial Regression']\n",
    "\n",
    "results=pd.DataFrame(my_dict,index=index)\n",
    "results"
   ]
  },
  {
   "cell_type": "markdown",
   "metadata": {},
   "source": [
    "## **Conclusion**: \n",
    "*From the 'results' DataFrame and the Residual plots, we can conclude that Polynomial Regression is the best fit of the three Regression algorithms used for the Housing Dataset*"
   ]
  }
 ],
 "metadata": {
  "kernelspec": {
   "display_name": "Python 3",
   "language": "python",
   "name": "python3"
  },
  "language_info": {
   "codemirror_mode": {
    "name": "ipython",
    "version": 3
   },
   "file_extension": ".py",
   "mimetype": "text/x-python",
   "name": "python",
   "nbconvert_exporter": "python",
   "pygments_lexer": "ipython3",
   "version": "3.7.6"
  }
 },
 "nbformat": 4,
 "nbformat_minor": 4
}
