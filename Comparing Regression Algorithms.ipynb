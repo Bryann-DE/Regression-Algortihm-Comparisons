{
 "cells": [
  {
   "cell_type": "code",
   "execution_count": 1,
   "metadata": {},
   "outputs": [],
   "source": [
    "import numpy as np\n",
    "import pandas as pd\n",
    "import matplotlib.pyplot as plt\n",
    "%matplotlib inline\n",
    "import seaborn as sns"
   ]
  },
  {
   "cell_type": "code",
   "execution_count": 2,
   "metadata": {},
   "outputs": [
    {
     "data": {
      "text/html": [
       "<div>\n",
       "<style scoped>\n",
       "    .dataframe tbody tr th:only-of-type {\n",
       "        vertical-align: middle;\n",
       "    }\n",
       "\n",
       "    .dataframe tbody tr th {\n",
       "        vertical-align: top;\n",
       "    }\n",
       "\n",
       "    .dataframe thead th {\n",
       "        text-align: right;\n",
       "    }\n",
       "</style>\n",
       "<table border=\"1\" class=\"dataframe\">\n",
       "  <thead>\n",
       "    <tr style=\"text-align: right;\">\n",
       "      <th></th>\n",
       "      <th>TV</th>\n",
       "      <th>radio</th>\n",
       "      <th>newspaper</th>\n",
       "      <th>sales</th>\n",
       "    </tr>\n",
       "  </thead>\n",
       "  <tbody>\n",
       "    <tr>\n",
       "      <th>0</th>\n",
       "      <td>230.1</td>\n",
       "      <td>37.8</td>\n",
       "      <td>69.2</td>\n",
       "      <td>22.1</td>\n",
       "    </tr>\n",
       "    <tr>\n",
       "      <th>1</th>\n",
       "      <td>44.5</td>\n",
       "      <td>39.3</td>\n",
       "      <td>45.1</td>\n",
       "      <td>10.4</td>\n",
       "    </tr>\n",
       "    <tr>\n",
       "      <th>2</th>\n",
       "      <td>17.2</td>\n",
       "      <td>45.9</td>\n",
       "      <td>69.3</td>\n",
       "      <td>9.3</td>\n",
       "    </tr>\n",
       "    <tr>\n",
       "      <th>3</th>\n",
       "      <td>151.5</td>\n",
       "      <td>41.3</td>\n",
       "      <td>58.5</td>\n",
       "      <td>18.5</td>\n",
       "    </tr>\n",
       "    <tr>\n",
       "      <th>4</th>\n",
       "      <td>180.8</td>\n",
       "      <td>10.8</td>\n",
       "      <td>58.4</td>\n",
       "      <td>12.9</td>\n",
       "    </tr>\n",
       "  </tbody>\n",
       "</table>\n",
       "</div>"
      ],
      "text/plain": [
       "      TV  radio  newspaper  sales\n",
       "0  230.1   37.8       69.2   22.1\n",
       "1   44.5   39.3       45.1   10.4\n",
       "2   17.2   45.9       69.3    9.3\n",
       "3  151.5   41.3       58.5   18.5\n",
       "4  180.8   10.8       58.4   12.9"
      ]
     },
     "execution_count": 2,
     "metadata": {},
     "output_type": "execute_result"
    }
   ],
   "source": [
    "df=pd.read_csv(r'C:\\Users\\bryan\\Desktop\\Data SCi\\2021-ML-Course\\08-Linear-Regression-Models\\Advertising.csv')\n",
    "df.head()"
   ]
  },
  {
   "cell_type": "code",
   "execution_count": 3,
   "metadata": {},
   "outputs": [],
   "source": [
    "from sklearn.model_selection import train_test_split\n",
    "from sklearn.preprocessing import PolynomialFeatures\n",
    "from sklearn.metrics import mean_absolute_error,mean_squared_error"
   ]
  },
  {
   "cell_type": "code",
   "execution_count": 4,
   "metadata": {},
   "outputs": [],
   "source": [
    "X=df[['TV','radio','newspaper']]\n",
    "y=df['sales']"
   ]
  },
  {
   "cell_type": "code",
   "execution_count": 5,
   "metadata": {},
   "outputs": [],
   "source": [
    "X_train, X_test, y_train, y_test = train_test_split(X, y, test_size=0.25, random_state=42)"
   ]
  },
  {
   "cell_type": "markdown",
   "metadata": {},
   "source": [
    "## Linear Regression"
   ]
  },
  {
   "cell_type": "code",
   "execution_count": 6,
   "metadata": {},
   "outputs": [
    {
     "name": "stdout",
     "output_type": "stream",
     "text": [
      "Linear Regression MAE is:  1.402312498938507\n",
      "Linear Regression RMSE is:  1.6970632663793623\n"
     ]
    },
    {
     "data": {
      "text/plain": [
       "Text(0.5, 1.0, 'Linear Reg')"
      ]
     },
     "execution_count": 6,
     "metadata": {},
     "output_type": "execute_result"
    },
    {
     "data": {
      "image/png": "[encoded data removed]",
      "text/plain": [
       "<Figure size 720x360 with 1 Axes>"
      ]
     },
     "metadata": {
      "needs_background": "light"
     },
     "output_type": "display_data"
    }
   ],
   "source": [
    "from sklearn.linear_model import LinearRegression\n",
    "lm=LinearRegression()\n",
    "lm.fit(X_train,y_train)\n",
    "yhat=lm.predict(X_test)\n",
    "\n",
    "print(\"Linear Regression MAE is: \",mean_absolute_error(y_test,yhat))\n",
    "print(\"Linear Regression RMSE is: \",np.sqrt(mean_squared_error(y_test,yhat)))\n",
    "\n",
    "plt.figure(figsize=(10,5))\n",
    "sns.residplot(y_test,yhat,lowess=True)\n",
    "plt.title('Linear Reg')"
   ]
  },
  {
   "cell_type": "markdown",
   "metadata": {},
   "source": [
    "Comparing results by standardising data before fitting the model"
   ]
  },
  {
   "cell_type": "code",
   "execution_count": 7,
   "metadata": {},
   "outputs": [
    {
     "name": "stdout",
     "output_type": "stream",
     "text": [
      "Standardized Linear Regression MAE is:  1.4928637427863973\n",
      "Standardized Linear Regression RMSE is:  2.0409282382388922\n"
     ]
    }
   ],
   "source": [
    "from sklearn.preprocessing import StandardScaler\n",
    "scaler=StandardScaler()\n",
    "xtrain_trans=scaler.fit_transform(X_train)\n",
    "xtest_trans=scaler.fit_transform(X_test)\n",
    "\n",
    "lm.fit(xtrain_trans,y_train)\n",
    "yhat_trans=lm.predict(xtest_trans)\n",
    "\n",
    "print(\"Standardized Linear Regression MAE is: \",mean_absolute_error(y_test,yhat_trans))\n",
    "print(\"Standardized Linear Regression RMSE is: \",np.sqrt(mean_squared_error(y_test,yhat_trans)))\n"
   ]
  },
  {
   "cell_type": "code",
   "execution_count": 8,
   "metadata": {},
   "outputs": [
    {
     "data": {
      "text/plain": [
       "Text(0.5, 1.0, 'Transformed Data Linear Reg')"
      ]
     },
     "execution_count": 8,
     "metadata": {},
     "output_type": "execute_result"
    },
    {
     "data": {
      "image/png": "[encoded data removed]",
      "text/plain": [
       "<Figure size 720x360 with 1 Axes>"
      ]
     },
     "metadata": {
      "needs_background": "light"
     },
     "output_type": "display_data"
    }
   ],
   "source": [
    "plt.figure(figsize=(10,5))\n",
    "sns.residplot(y_test,yhat_trans,lowess=True,color='g')\n",
    "plt.title('Transformed Data Linear Reg')"
   ]
  },
  {
   "cell_type": "markdown",
   "metadata": {},
   "source": [
    "*Thus we can see that Standardized data lead to a higher MAE and RMSE than non standardized data*"
   ]
  },
  {
   "cell_type": "markdown",
   "metadata": {},
   "source": [
    "**Now Running Ridge Regression**"
   ]
  },
  {
   "cell_type": "code",
   "execution_count": 9,
   "metadata": {},
   "outputs": [],
   "source": [
    "from sklearn.linear_model import RidgeCV,Ridge"
   ]
  },
  {
   "cell_type": "code",
   "execution_count": 10,
   "metadata": {},
   "outputs": [
    {
     "name": "stdout",
     "output_type": "stream",
     "text": [
      "The optimal Alpha value:  0.1\n"
     ]
    }
   ],
   "source": [
    "rid_CV=RidgeCV(alphas=(0.01,0.1, 1.0, 10.0,100),cv=5)\n",
    "rid_CV.fit(xtrain_trans,y_train)\n",
    "print(\"The optimal Alpha value: \",rid_CV.alpha_)"
   ]
  },
  {
   "cell_type": "code",
   "execution_count": 11,
   "metadata": {},
   "outputs": [
    {
     "name": "stdout",
     "output_type": "stream",
     "text": [
      "Ridge Regression MAE is:  1.4920137895226098\n",
      "Ridge Regression RMSE is:  2.040920553788834\n"
     ]
    }
   ],
   "source": [
    "rid=Ridge(alpha=0.1,max_iter=10000)\n",
    "rid.fit(xtrain_trans,y_train)\n",
    "yhat_ridge=rid.predict(xtest_trans)\n",
    "\n",
    "print(\"Ridge Regression MAE is: \",mean_absolute_error(y_test,yhat_ridge))\n",
    "print(\"Ridge Regression RMSE is: \",np.sqrt(mean_squared_error(y_test,yhat_ridge)))"
   ]
  },
  {
   "cell_type": "code",
   "execution_count": 12,
   "metadata": {},
   "outputs": [
    {
     "data": {
      "text/plain": [
       "Text(0.5, 1.0, 'Ridge Reg')"
      ]
     },
     "execution_count": 12,
     "metadata": {},
     "output_type": "execute_result"
    },
    {
     "data": {
      "image/png": "[encoded data removed]",
      "text/plain": [
       "<Figure size 720x360 with 1 Axes>"
      ]
     },
     "metadata": {
      "needs_background": "light"
     },
     "output_type": "display_data"
    }
   ],
   "source": [
    "plt.figure(figsize=(10,5))\n",
    "sns.residplot(y_test,yhat_ridge,lowess=True,color='r')\n",
    "plt.title('Ridge Reg')"
   ]
  },
  {
   "cell_type": "markdown",
   "metadata": {},
   "source": [
    "**Now Running Lasso Regression**"
   ]
  },
  {
   "cell_type": "code",
   "execution_count": 13,
   "metadata": {},
   "outputs": [
    {
     "data": {
      "text/plain": [
       "0.07603236983521164"
      ]
     },
     "execution_count": 13,
     "metadata": {},
     "output_type": "execute_result"
    }
   ],
   "source": [
    "from sklearn.linear_model import LassoCV,Lasso\n",
    "lassCV=LassoCV(eps=0.001,n_alphas=200,max_iter=100000)\n",
    "lassCV.fit(xtrain_trans,y_train)\n",
    "lassCV.alpha_"
   ]
  },
  {
   "cell_type": "code",
   "execution_count": 14,
   "metadata": {},
   "outputs": [
    {
     "name": "stdout",
     "output_type": "stream",
     "text": [
      "Lasso Regression MAE is:  1.4920137895226098\n",
      "Lasso Regression RMSE is:  2.040920553788834\n"
     ]
    }
   ],
   "source": [
    "lass=Lasso(alpha=lassCV.alpha_)\n",
    "lass.fit(xtrain_trans,y_train)\n",
    "yhat_lass=lass.predict(xtest_trans)\n",
    "\n",
    "print(\"Lasso Regression MAE is: \",mean_absolute_error(y_test,yhat_ridge))\n",
    "print(\"Lasso Regression RMSE is: \",np.sqrt(mean_squared_error(y_test,yhat_ridge)))"
   ]
  },
  {
   "cell_type": "code",
   "execution_count": 15,
   "metadata": {},
   "outputs": [
    {
     "data": {
      "text/plain": [
       "Text(0.5, 1.0, 'Lasso Reg')"
      ]
     },
     "execution_count": 15,
     "metadata": {},
     "output_type": "execute_result"
    },
    {
     "data": {
      "image/png": "[encoded data removed]",
      "text/plain": [
       "<Figure size 720x360 with 1 Axes>"
      ]
     },
     "metadata": {
      "needs_background": "light"
     },
     "output_type": "display_data"
    }
   ],
   "source": [
    "plt.figure(figsize=(10,5))\n",
    "sns.residplot(y_test,yhat_lass,lowess=True,color='y')\n",
    "plt.title('Lasso Reg')"
   ]
  },
  {
   "cell_type": "markdown",
   "metadata": {},
   "source": [
    "**Now checking with Elastic Net**"
   ]
  },
  {
   "cell_type": "code",
   "execution_count": 16,
   "metadata": {},
   "outputs": [],
   "source": [
    "from sklearn.linear_model import ElasticNetCV"
   ]
  },
  {
   "cell_type": "code",
   "execution_count": 17,
   "metadata": {},
   "outputs": [
    {
     "name": "stdout",
     "output_type": "stream",
     "text": [
      "Elastic Net Regression MAE is:  1.4619392439502183\n",
      "Elastic Net Regression RMSE is:  2.0333981649538093\n"
     ]
    }
   ],
   "source": [
    "enet=ElasticNetCV(l1_ratio=[0.01,0.1,0.5,0.75,0.9,1],cv=5)\n",
    "enet.fit(xtrain_trans,y_train)\n",
    "yhat_el=enet.predict(xtest_trans)\n",
    "\n",
    "print(\"Elastic Net Regression MAE is: \",mean_absolute_error(y_test,yhat_el))\n",
    "print(\"Elastic Net Regression RMSE is: \",np.sqrt(mean_squared_error(y_test,yhat_el)))"
   ]
  },
  {
   "cell_type": "code",
   "execution_count": 18,
   "metadata": {},
   "outputs": [
    {
     "data": {
      "text/plain": [
       "Text(0.5, 1.0, 'Elastic Net Reg')"
      ]
     },
     "execution_count": 18,
     "metadata": {},
     "output_type": "execute_result"
    },
    {
     "data": {
      "image/png": "[encoded data removed]",
      "text/plain": [
       "<Figure size 720x360 with 1 Axes>"
      ]
     },
     "metadata": {
      "needs_background": "light"
     },
     "output_type": "display_data"
    }
   ],
   "source": [
    "plt.figure(figsize=(10,5))\n",
    "sns.residplot(y_test,yhat_el,lowess=True,color='purple')\n",
    "plt.title('Elastic Net Reg')"
   ]
  },
  {
   "cell_type": "markdown",
   "metadata": {},
   "source": [
    "**Lastly we check performance using Polynomial Regression**"
   ]
  },
  {
   "cell_type": "code",
   "execution_count": 19,
   "metadata": {},
   "outputs": [],
   "source": [
    "from sklearn.preprocessing import PolynomialFeatures"
   ]
  },
  {
   "cell_type": "code",
   "execution_count": 20,
   "metadata": {},
   "outputs": [],
   "source": [
    "rmse_test=[]\n",
    "rmse_train=[]\n",
    "for d in range(1,15):\n",
    "    poly=PolynomialFeatures(degree=d)\n",
    "    poly_features = poly.fit_transform(X)\n",
    "    X_train1,X_test1, y_train1, y_test1 = train_test_split(poly_features, y, test_size=0.25, random_state=42)\n",
    "    lm1=LinearRegression()\n",
    "    lm1.fit(X_train1,y_train1)\n",
    "    yhat_poly=lm1.predict(X_test1)\n",
    "    yhat_poly_train=lm1.predict(X_train1)\n",
    "    \n",
    "    rmse1_test=np.sqrt(mean_squared_error(y_test1,yhat_poly))\n",
    "    rmse1_train=np.sqrt(mean_squared_error(y_train1,yhat_poly_train))\n",
    "    \n",
    "    rmse_test.append(rmse1_test)\n",
    "    rmse_train.append(rmse1_train)"
   ]
  },
  {
   "cell_type": "code",
   "execution_count": 21,
   "metadata": {},
   "outputs": [
    {
     "data": {
      "text/plain": [
       "Text(0.5, 1.0, 'Zoomed in view of RMSE vs Complexity')"
      ]
     },
     "execution_count": 21,
     "metadata": {},
     "output_type": "execute_result"
    },
    {
     "data": {
      "image/png": "[encoded data removed]",
      "text/plain": [
       "<Figure size 720x432 with 1 Axes>"
      ]
     },
     "metadata": {
      "needs_background": "light"
     },
     "output_type": "display_data"
    }
   ],
   "source": [
    "plt.figure(figsize=(10,6))\n",
    "plt.plot(range(1,15),rmse_test,'r',label='test set')\n",
    "plt.plot(range(1,15),rmse_train,'g',label='training set')\n",
    "plt.ylim(0,1)\n",
    "plt.xlim(0,5)\n",
    "plt.legend()\n",
    "plt.xlabel('Complexity') \n",
    "plt.title('Zoomed in view of RMSE vs Complexity')"
   ]
  },
  {
   "cell_type": "markdown",
   "metadata": {},
   "source": [
    "*From The above graph it is clear that d=3 is the optimal value of degree for Polynomial*"
   ]
  },
  {
   "cell_type": "code",
   "execution_count": 22,
   "metadata": {},
   "outputs": [
    {
     "name": "stdout",
     "output_type": "stream",
     "text": [
      "polynomial Regression MAE is:  0.353524881207919\n",
      "Polynomial Regression RMSE is:  0.49568315183715067\n"
     ]
    }
   ],
   "source": [
    "poly=PolynomialFeatures(degree=3)\n",
    "poly_features = poly.fit_transform(X)\n",
    "X_train1,X_test1, y_train1, y_test1 = train_test_split(poly_features, y, test_size=0.25, random_state=42)\n",
    "lm2=LinearRegression()\n",
    "lm2.fit(X_train1,y_train1)\n",
    "yhat_poly2=lm2.predict(X_test1)\n",
    "\n",
    "print(\"polynomial Regression MAE is: \",mean_absolute_error(y_test,yhat_poly2))\n",
    "print(\"Polynomial Regression RMSE is: \",np.sqrt(mean_squared_error(y_test,yhat_poly2)))"
   ]
  },
  {
   "cell_type": "code",
   "execution_count": 23,
   "metadata": {},
   "outputs": [
    {
     "data": {
      "text/plain": [
       "Text(0.5, 1.0, 'Polynomial Reg')"
      ]
     },
     "execution_count": 23,
     "metadata": {},
     "output_type": "execute_result"
    },
    {
     "data": {
      "image/png": "[encoded data removed]",
      "text/plain": [
       "<Figure size 720x360 with 1 Axes>"
      ]
     },
     "metadata": {
      "needs_background": "light"
     },
     "output_type": "display_data"
    }
   ],
   "source": [
    "plt.figure(figsize=(10,5))\n",
    "sns.residplot(y_test,yhat_poly2,lowess=True,color='k')\n",
    "plt.title('Polynomial Reg')"
   ]
  },
  {
   "cell_type": "markdown",
   "metadata": {},
   "source": [
    "**Therefore, from the Residual plots and the computed Root Mean Square Values, we can conclude that the model using Polynomial Regression of order 3 fits the data best**"
   ]
  },
  {
   "cell_type": "markdown",
   "metadata": {},
   "source": [
    "## Grid Search CV"
   ]
  },
  {
   "cell_type": "code",
   "execution_count": 24,
   "metadata": {},
   "outputs": [],
   "source": [
    "from sklearn.model_selection import GridSearchCV\n",
    "from sklearn.linear_model import ElasticNet"
   ]
  },
  {
   "cell_type": "code",
   "execution_count": 25,
   "metadata": {},
   "outputs": [],
   "source": [
    "estimator=ElasticNet()\n",
    "param_grid={'alpha':[0,0.01,0.1,1,10,100,120,140,150],'l1_ratio':[0.001,0.01,0.1,1,10]}\n",
    "grid_model=GridSearchCV(estimator=estimator,param_grid=param_grid,scoring='neg_mean_squared_error',cv=5,verbose=2)"
   ]
  },
  {
   "cell_type": "code",
   "execution_count": 26,
   "metadata": {},
   "outputs": [
    {
     "name": "stdout",
     "output_type": "stream",
     "text": [
      "Fitting 5 folds for each of 45 candidates, totalling 225 fits\n",
      "[CV] alpha=0, l1_ratio=0.001 .........................................\n",
      "[CV] .......................... alpha=0, l1_ratio=0.001, total=   0.0s\n",
      "[CV] alpha=0, l1_ratio=0.001 .........................................\n",
      "[CV] .......................... alpha=0, l1_ratio=0.001, total=   0.0s\n",
      "[CV] alpha=0, l1_ratio=0.001 .........................................\n",
      "[CV] .......................... alpha=0, l1_ratio=0.001, total=   0.0s\n",
      "[CV] alpha=0, l1_ratio=0.001 .........................................\n",
      "[CV] .......................... alpha=0, l1_ratio=0.001, total=   0.0s\n",
      "[CV] alpha=0, l1_ratio=0.001 .........................................\n",
      "[CV] .......................... alpha=0, l1_ratio=0.001, total=   0.0s\n",
      "[CV] alpha=0, l1_ratio=0.01 ..........................................\n",
      "[CV] ........................... alpha=0, l1_ratio=0.01, total=   0.0s\n",
      "[CV] alpha=0, l1_ratio=0.01 ..........................................\n",
      "[CV] ........................... alpha=0, l1_ratio=0.01, total=   0.0s\n",
      "[CV] alpha=0, l1_ratio=0.01 ..........................................\n",
      "[CV] ........................... alpha=0, l1_ratio=0.01, total=   0.0s\n",
      "[CV] alpha=0, l1_ratio=0.01 ..........................................\n",
      "[CV] ........................... alpha=0, l1_ratio=0.01, total=   0.0s\n",
      "[CV] alpha=0, l1_ratio=0.01 ..........................................\n",
      "[CV] ........................... alpha=0, l1_ratio=0.01, total=   0.0s\n",
      "[CV] alpha=0, l1_ratio=0.1 ...........................................\n",
      "[CV] ............................ alpha=0, l1_ratio=0.1, total=   0.0s\n",
      "[CV] alpha=0, l1_ratio=0.1 ...........................................\n",
      "[CV] ............................ alpha=0, l1_ratio=0.1, total=   0.0s\n",
      "[CV] alpha=0, l1_ratio=0.1 ...........................................\n",
      "[CV] ............................ alpha=0, l1_ratio=0.1, total=   0.0s\n",
      "[CV] alpha=0, l1_ratio=0.1 ...........................................\n",
      "[CV] ............................ alpha=0, l1_ratio=0.1, total=   0.0s\n",
      "[CV] alpha=0, l1_ratio=0.1 ...........................................\n",
      "[CV] ............................ alpha=0, l1_ratio=0.1, total=   0.0s\n",
      "[CV] alpha=0, l1_ratio=1 .............................................\n",
      "[CV] .............................. alpha=0, l1_ratio=1, total=   0.0s\n",
      "[CV] alpha=0, l1_ratio=1 .............................................\n",
      "[CV] .............................. alpha=0, l1_ratio=1, total=   0.0s\n",
      "[CV] alpha=0, l1_ratio=1 .............................................\n",
      "[CV] .............................. alpha=0, l1_ratio=1, total=   0.0s\n",
      "[CV] alpha=0, l1_ratio=1 .............................................\n",
      "[CV] .............................. alpha=0, l1_ratio=1, total=   0.0s\n",
      "[CV] alpha=0, l1_ratio=1 .............................................\n",
      "[CV] .............................. alpha=0, l1_ratio=1, total=   0.0s\n",
      "[CV] alpha=0, l1_ratio=10 ............................................\n",
      "[CV] ............................. alpha=0, l1_ratio=10, total=   0.0s\n",
      "[CV] alpha=0, l1_ratio=10 ............................................\n",
      "[CV] ............................. alpha=0, l1_ratio=10, total=   0.0s\n",
      "[CV] alpha=0, l1_ratio=10 ............................................\n",
      "[CV] ............................. alpha=0, l1_ratio=10, total=   0.0s\n",
      "[CV] alpha=0, l1_ratio=10 ............................................\n",
      "[CV] ............................. alpha=0, l1_ratio=10, total=   0.0s\n",
      "[CV] alpha=0, l1_ratio=10 ............................................\n",
      "[CV] ............................. alpha=0, l1_ratio=10, total=   0.0s\n",
      "[CV] alpha=0.01, l1_ratio=0.001 ......................................\n",
      "[CV] ....................... alpha=0.01, l1_ratio=0.001, total=   0.0s\n",
      "[CV] alpha=0.01, l1_ratio=0.001 ......................................\n",
      "[CV] ....................... alpha=0.01, l1_ratio=0.001, total=   0.0s\n",
      "[CV] alpha=0.01, l1_ratio=0.001 ......................................\n",
      "[CV] ....................... alpha=0.01, l1_ratio=0.001, total=   0.0s\n",
      "[CV] alpha=0.01, l1_ratio=0.001 ......................................\n",
      "[CV] ....................... alpha=0.01, l1_ratio=0.001, total=   0.0s\n",
      "[CV] alpha=0.01, l1_ratio=0.001 ......................................\n",
      "[CV] ....................... alpha=0.01, l1_ratio=0.001, total=   0.0s\n",
      "[CV] alpha=0.01, l1_ratio=0.01 .......................................\n",
      "[CV] ........................ alpha=0.01, l1_ratio=0.01, total=   0.0s\n",
      "[CV] alpha=0.01, l1_ratio=0.01 .......................................\n",
      "[CV] ........................ alpha=0.01, l1_ratio=0.01, total=   0.0s\n",
      "[CV] alpha=0.01, l1_ratio=0.01 .......................................\n",
      "[CV] ........................ alpha=0.01, l1_ratio=0.01, total=   0.0s\n",
      "[CV] alpha=0.01, l1_ratio=0.01 .......................................\n",
      "[CV] ........................ alpha=0.01, l1_ratio=0.01, total=   0.0s\n",
      "[CV] alpha=0.01, l1_ratio=0.01 .......................................\n",
      "[CV] ........................ alpha=0.01, l1_ratio=0.01, total=   0.0s\n",
      "[CV] alpha=0.01, l1_ratio=0.1 ........................................\n",
      "[CV] ......................... alpha=0.01, l1_ratio=0.1, total=   0.0s\n",
      "[CV] alpha=0.01, l1_ratio=0.1 ........................................\n",
      "[CV] ......................... alpha=0.01, l1_ratio=0.1, total=   0.0s\n",
      "[CV] alpha=0.01, l1_ratio=0.1 ........................................\n",
      "[CV] ......................... alpha=0.01, l1_ratio=0.1, total=   0.0s\n",
      "[CV] alpha=0.01, l1_ratio=0.1 ........................................\n",
      "[CV] ......................... alpha=0.01, l1_ratio=0.1, total=   0.0s\n",
      "[CV] alpha=0.01, l1_ratio=0.1 ........................................\n",
      "[CV] ......................... alpha=0.01, l1_ratio=0.1, total=   0.0s\n",
      "[CV] alpha=0.01, l1_ratio=1 ..........................................\n",
      "[CV] ........................... alpha=0.01, l1_ratio=1, total=   0.0s\n",
      "[CV] alpha=0.01, l1_ratio=1 ..........................................\n",
      "[CV] ........................... alpha=0.01, l1_ratio=1, total=   0.0s\n",
      "[CV] alpha=0.01, l1_ratio=1 ..........................................\n",
      "[CV] ........................... alpha=0.01, l1_ratio=1, total=   0.0s\n",
      "[CV] alpha=0.01, l1_ratio=1 ..........................................\n",
      "[CV] ........................... alpha=0.01, l1_ratio=1, total=   0.0s\n",
      "[CV] alpha=0.01, l1_ratio=1 ..........................................\n",
      "[CV] ........................... alpha=0.01, l1_ratio=1, total=   0.0s\n",
      "[CV] alpha=0.01, l1_ratio=10 .........................................\n",
      "[CV] .......................... alpha=0.01, l1_ratio=10, total=   0.0s\n",
      "[CV] alpha=0.01, l1_ratio=10 .........................................\n",
      "[CV] .......................... alpha=0.01, l1_ratio=10, total=   0.0s\n",
      "[CV] alpha=0.01, l1_ratio=10 .........................................\n",
      "[CV] .......................... alpha=0.01, l1_ratio=10, total=   0.0s\n",
      "[CV] alpha=0.01, l1_ratio=10 .........................................\n",
      "[CV] .......................... alpha=0.01, l1_ratio=10, total=   0.0s\n",
      "[CV] alpha=0.01, l1_ratio=10 .........................................\n",
      "[CV] .......................... alpha=0.01, l1_ratio=10, total=   0.0s\n",
      "[CV] alpha=0.1, l1_ratio=0.001 .......................................\n",
      "[CV] ........................ alpha=0.1, l1_ratio=0.001, total=   0.0s\n",
      "[CV] alpha=0.1, l1_ratio=0.001 .......................................\n",
      "[CV] ........................ alpha=0.1, l1_ratio=0.001, total=   0.0s\n",
      "[CV] alpha=0.1, l1_ratio=0.001 .......................................\n",
      "[CV] ........................ alpha=0.1, l1_ratio=0.001, total=   0.0s\n",
      "[CV] alpha=0.1, l1_ratio=0.001 .......................................\n",
      "[CV] ........................ alpha=0.1, l1_ratio=0.001, total=   0.0s\n",
      "[CV] alpha=0.1, l1_ratio=0.001 .......................................\n",
      "[CV] ........................ alpha=0.1, l1_ratio=0.001, total=   0.0s\n",
      "[CV] alpha=0.1, l1_ratio=0.01 ........................................\n",
      "[CV] ......................... alpha=0.1, l1_ratio=0.01, total=   0.0s\n",
      "[CV] alpha=0.1, l1_ratio=0.01 ........................................\n",
      "[CV] ......................... alpha=0.1, l1_ratio=0.01, total=   0.0s\n",
      "[CV] alpha=0.1, l1_ratio=0.01 ........................................\n",
      "[CV] ......................... alpha=0.1, l1_ratio=0.01, total=   0.0s\n",
      "[CV] alpha=0.1, l1_ratio=0.01 ........................................\n",
      "[CV] ......................... alpha=0.1, l1_ratio=0.01, total=   0.0s\n",
      "[CV] alpha=0.1, l1_ratio=0.01 ........................................\n",
      "[CV] ......................... alpha=0.1, l1_ratio=0.01, total=   0.0s\n",
      "[CV] alpha=0.1, l1_ratio=0.1 .........................................\n",
      "[CV] .......................... alpha=0.1, l1_ratio=0.1, total=   0.0s\n",
      "[CV] alpha=0.1, l1_ratio=0.1 .........................................\n",
      "[CV] .......................... alpha=0.1, l1_ratio=0.1, total=   0.0s\n",
      "[CV] alpha=0.1, l1_ratio=0.1 .........................................\n",
      "[CV] .......................... alpha=0.1, l1_ratio=0.1, total=   0.0s\n",
      "[CV] alpha=0.1, l1_ratio=0.1 .........................................\n",
      "[CV] .......................... alpha=0.1, l1_ratio=0.1, total=   0.0s\n",
      "[CV] alpha=0.1, l1_ratio=0.1 .........................................\n",
      "[CV] .......................... alpha=0.1, l1_ratio=0.1, total=   0.0s\n",
      "[CV] alpha=0.1, l1_ratio=1 ...........................................\n",
      "[CV] ............................ alpha=0.1, l1_ratio=1, total=   0.0s\n",
      "[CV] alpha=0.1, l1_ratio=1 ...........................................\n",
      "[CV] ............................ alpha=0.1, l1_ratio=1, total=   0.0s\n",
      "[CV] alpha=0.1, l1_ratio=1 ...........................................\n"
     ]
    },
    {
     "name": "stderr",
     "output_type": "stream",
     "text": [
      "[Parallel(n_jobs=1)]: Using backend SequentialBackend with 1 concurrent workers.\n",
      "C:\\Users\\bryan\\anaconda3\\lib\\site-packages\\sklearn\\model_selection\\_validation.py:515: UserWarning: With alpha=0, this algorithm does not converge well. You are advised to use the LinearRegression estimator\n",
      "  estimator.fit(X_train, y_train, **fit_params)\n",
      "C:\\Users\\bryan\\anaconda3\\lib\\site-packages\\sklearn\\linear_model\\_coordinate_descent.py:476: UserWarning: Coordinate descent with no regularization may lead to unexpected results and is discouraged.\n",
      "  positive)\n",
      "C:\\Users\\bryan\\anaconda3\\lib\\site-packages\\sklearn\\linear_model\\_coordinate_descent.py:476: ConvergenceWarning: Objective did not converge. You might want to increase the number of iterations. Duality gap: 150.31451023997582, tolerance: 0.32768800000000003\n",
      "  positive)\n",
      "[Parallel(n_jobs=1)]: Done   1 out of   1 | elapsed:    0.0s remaining:    0.0s\n",
      "C:\\Users\\bryan\\anaconda3\\lib\\site-packages\\sklearn\\model_selection\\_validation.py:515: UserWarning: With alpha=0, this algorithm does not converge well. You are advised to use the LinearRegression estimator\n",
      "  estimator.fit(X_train, y_train, **fit_params)\n",
      "C:\\Users\\bryan\\anaconda3\\lib\\site-packages\\sklearn\\linear_model\\_coordinate_descent.py:476: UserWarning: Coordinate descent with no regularization may lead to unexpected results and is discouraged.\n",
      "  positive)\n",
      "C:\\Users\\bryan\\anaconda3\\lib\\site-packages\\sklearn\\linear_model\\_coordinate_descent.py:476: ConvergenceWarning: Objective did not converge. You might want to increase the number of iterations. Duality gap: 184.00578088808436, tolerance: 0.3334871666666667\n",
      "  positive)\n",
      "C:\\Users\\bryan\\anaconda3\\lib\\site-packages\\sklearn\\model_selection\\_validation.py:515: UserWarning: With alpha=0, this algorithm does not converge well. You are advised to use the LinearRegression estimator\n",
      "  estimator.fit(X_train, y_train, **fit_params)\n",
      "C:\\Users\\bryan\\anaconda3\\lib\\site-packages\\sklearn\\linear_model\\_coordinate_descent.py:476: UserWarning: Coordinate descent with no regularization may lead to unexpected results and is discouraged.\n",
      "  positive)\n",
      "C:\\Users\\bryan\\anaconda3\\lib\\site-packages\\sklearn\\linear_model\\_coordinate_descent.py:476: ConvergenceWarning: Objective did not converge. You might want to increase the number of iterations. Duality gap: 177.9225756069107, tolerance: 0.299973325\n",
      "  positive)\n",
      "C:\\Users\\bryan\\anaconda3\\lib\\site-packages\\sklearn\\model_selection\\_validation.py:515: UserWarning: With alpha=0, this algorithm does not converge well. You are advised to use the LinearRegression estimator\n",
      "  estimator.fit(X_train, y_train, **fit_params)\n",
      "C:\\Users\\bryan\\anaconda3\\lib\\site-packages\\sklearn\\linear_model\\_coordinate_descent.py:476: UserWarning: Coordinate descent with no regularization may lead to unexpected results and is discouraged.\n",
      "  positive)\n",
      "C:\\Users\\bryan\\anaconda3\\lib\\site-packages\\sklearn\\linear_model\\_coordinate_descent.py:476: ConvergenceWarning: Objective did not converge. You might want to increase the number of iterations. Duality gap: 166.90857148257192, tolerance: 0.3011809916666667\n",
      "  positive)\n",
      "C:\\Users\\bryan\\anaconda3\\lib\\site-packages\\sklearn\\model_selection\\_validation.py:515: UserWarning: With alpha=0, this algorithm does not converge well. You are advised to use the LinearRegression estimator\n",
      "  estimator.fit(X_train, y_train, **fit_params)\n",
      "C:\\Users\\bryan\\anaconda3\\lib\\site-packages\\sklearn\\linear_model\\_coordinate_descent.py:476: UserWarning: Coordinate descent with no regularization may lead to unexpected results and is discouraged.\n",
      "  positive)\n",
      "C:\\Users\\bryan\\anaconda3\\lib\\site-packages\\sklearn\\linear_model\\_coordinate_descent.py:476: ConvergenceWarning: Objective did not converge. You might want to increase the number of iterations. Duality gap: 142.22625779382437, tolerance: 0.3396768\n",
      "  positive)\n",
      "C:\\Users\\bryan\\anaconda3\\lib\\site-packages\\sklearn\\model_selection\\_validation.py:515: UserWarning: With alpha=0, this algorithm does not converge well. You are advised to use the LinearRegression estimator\n",
      "  estimator.fit(X_train, y_train, **fit_params)\n",
      "C:\\Users\\bryan\\anaconda3\\lib\\site-packages\\sklearn\\linear_model\\_coordinate_descent.py:476: UserWarning: Coordinate descent with no regularization may lead to unexpected results and is discouraged.\n",
      "  positive)\n",
      "C:\\Users\\bryan\\anaconda3\\lib\\site-packages\\sklearn\\linear_model\\_coordinate_descent.py:476: ConvergenceWarning: Objective did not converge. You might want to increase the number of iterations. Duality gap: 150.31451023997582, tolerance: 0.32768800000000003\n",
      "  positive)\n",
      "C:\\Users\\bryan\\anaconda3\\lib\\site-packages\\sklearn\\model_selection\\_validation.py:515: UserWarning: With alpha=0, this algorithm does not converge well. You are advised to use the LinearRegression estimator\n",
      "  estimator.fit(X_train, y_train, **fit_params)\n",
      "C:\\Users\\bryan\\anaconda3\\lib\\site-packages\\sklearn\\linear_model\\_coordinate_descent.py:476: UserWarning: Coordinate descent with no regularization may lead to unexpected results and is discouraged.\n",
      "  positive)\n",
      "C:\\Users\\bryan\\anaconda3\\lib\\site-packages\\sklearn\\linear_model\\_coordinate_descent.py:476: ConvergenceWarning: Objective did not converge. You might want to increase the number of iterations. Duality gap: 184.00578088808436, tolerance: 0.3334871666666667\n",
      "  positive)\n",
      "C:\\Users\\bryan\\anaconda3\\lib\\site-packages\\sklearn\\model_selection\\_validation.py:515: UserWarning: With alpha=0, this algorithm does not converge well. You are advised to use the LinearRegression estimator\n",
      "  estimator.fit(X_train, y_train, **fit_params)\n",
      "C:\\Users\\bryan\\anaconda3\\lib\\site-packages\\sklearn\\linear_model\\_coordinate_descent.py:476: UserWarning: Coordinate descent with no regularization may lead to unexpected results and is discouraged.\n",
      "  positive)\n",
      "C:\\Users\\bryan\\anaconda3\\lib\\site-packages\\sklearn\\linear_model\\_coordinate_descent.py:476: ConvergenceWarning: Objective did not converge. You might want to increase the number of iterations. Duality gap: 177.9225756069107, tolerance: 0.299973325\n",
      "  positive)\n",
      "C:\\Users\\bryan\\anaconda3\\lib\\site-packages\\sklearn\\model_selection\\_validation.py:515: UserWarning: With alpha=0, this algorithm does not converge well. You are advised to use the LinearRegression estimator\n",
      "  estimator.fit(X_train, y_train, **fit_params)\n",
      "C:\\Users\\bryan\\anaconda3\\lib\\site-packages\\sklearn\\linear_model\\_coordinate_descent.py:476: UserWarning: Coordinate descent with no regularization may lead to unexpected results and is discouraged.\n",
      "  positive)\n",
      "C:\\Users\\bryan\\anaconda3\\lib\\site-packages\\sklearn\\linear_model\\_coordinate_descent.py:476: ConvergenceWarning: Objective did not converge. You might want to increase the number of iterations. Duality gap: 166.90857148257192, tolerance: 0.3011809916666667\n",
      "  positive)\n",
      "C:\\Users\\bryan\\anaconda3\\lib\\site-packages\\sklearn\\model_selection\\_validation.py:515: UserWarning: With alpha=0, this algorithm does not converge well. You are advised to use the LinearRegression estimator\n",
      "  estimator.fit(X_train, y_train, **fit_params)\n",
      "C:\\Users\\bryan\\anaconda3\\lib\\site-packages\\sklearn\\linear_model\\_coordinate_descent.py:476: UserWarning: Coordinate descent with no regularization may lead to unexpected results and is discouraged.\n",
      "  positive)\n",
      "C:\\Users\\bryan\\anaconda3\\lib\\site-packages\\sklearn\\linear_model\\_coordinate_descent.py:476: ConvergenceWarning: Objective did not converge. You might want to increase the number of iterations. Duality gap: 142.22625779382437, tolerance: 0.3396768\n",
      "  positive)\n",
      "C:\\Users\\bryan\\anaconda3\\lib\\site-packages\\sklearn\\model_selection\\_validation.py:515: UserWarning: With alpha=0, this algorithm does not converge well. You are advised to use the LinearRegression estimator\n",
      "  estimator.fit(X_train, y_train, **fit_params)\n",
      "C:\\Users\\bryan\\anaconda3\\lib\\site-packages\\sklearn\\linear_model\\_coordinate_descent.py:476: UserWarning: Coordinate descent with no regularization may lead to unexpected results and is discouraged.\n",
      "  positive)\n",
      "C:\\Users\\bryan\\anaconda3\\lib\\site-packages\\sklearn\\linear_model\\_coordinate_descent.py:476: ConvergenceWarning: Objective did not converge. You might want to increase the number of iterations. Duality gap: 150.31451023997582, tolerance: 0.32768800000000003\n",
      "  positive)\n",
      "C:\\Users\\bryan\\anaconda3\\lib\\site-packages\\sklearn\\model_selection\\_validation.py:515: UserWarning: With alpha=0, this algorithm does not converge well. You are advised to use the LinearRegression estimator\n",
      "  estimator.fit(X_train, y_train, **fit_params)\n",
      "C:\\Users\\bryan\\anaconda3\\lib\\site-packages\\sklearn\\linear_model\\_coordinate_descent.py:476: UserWarning: Coordinate descent with no regularization may lead to unexpected results and is discouraged.\n",
      "  positive)\n",
      "C:\\Users\\bryan\\anaconda3\\lib\\site-packages\\sklearn\\linear_model\\_coordinate_descent.py:476: ConvergenceWarning: Objective did not converge. You might want to increase the number of iterations. Duality gap: 184.00578088808436, tolerance: 0.3334871666666667\n",
      "  positive)\n",
      "C:\\Users\\bryan\\anaconda3\\lib\\site-packages\\sklearn\\model_selection\\_validation.py:515: UserWarning: With alpha=0, this algorithm does not converge well. You are advised to use the LinearRegression estimator\n",
      "  estimator.fit(X_train, y_train, **fit_params)\n",
      "C:\\Users\\bryan\\anaconda3\\lib\\site-packages\\sklearn\\linear_model\\_coordinate_descent.py:476: UserWarning: Coordinate descent with no regularization may lead to unexpected results and is discouraged.\n",
      "  positive)\n",
      "C:\\Users\\bryan\\anaconda3\\lib\\site-packages\\sklearn\\linear_model\\_coordinate_descent.py:476: ConvergenceWarning: Objective did not converge. You might want to increase the number of iterations. Duality gap: 177.9225756069107, tolerance: 0.299973325\n",
      "  positive)\n",
      "C:\\Users\\bryan\\anaconda3\\lib\\site-packages\\sklearn\\model_selection\\_validation.py:515: UserWarning: With alpha=0, this algorithm does not converge well. You are advised to use the LinearRegression estimator\n",
      "  estimator.fit(X_train, y_train, **fit_params)\n",
      "C:\\Users\\bryan\\anaconda3\\lib\\site-packages\\sklearn\\linear_model\\_coordinate_descent.py:476: UserWarning: Coordinate descent with no regularization may lead to unexpected results and is discouraged.\n",
      "  positive)\n",
      "C:\\Users\\bryan\\anaconda3\\lib\\site-packages\\sklearn\\linear_model\\_coordinate_descent.py:476: ConvergenceWarning: Objective did not converge. You might want to increase the number of iterations. Duality gap: 166.90857148257192, tolerance: 0.3011809916666667\n",
      "  positive)\n",
      "C:\\Users\\bryan\\anaconda3\\lib\\site-packages\\sklearn\\model_selection\\_validation.py:515: UserWarning: With alpha=0, this algorithm does not converge well. You are advised to use the LinearRegression estimator\n",
      "  estimator.fit(X_train, y_train, **fit_params)\n",
      "C:\\Users\\bryan\\anaconda3\\lib\\site-packages\\sklearn\\linear_model\\_coordinate_descent.py:476: UserWarning: Coordinate descent with no regularization may lead to unexpected results and is discouraged.\n",
      "  positive)\n",
      "C:\\Users\\bryan\\anaconda3\\lib\\site-packages\\sklearn\\linear_model\\_coordinate_descent.py:476: ConvergenceWarning: Objective did not converge. You might want to increase the number of iterations. Duality gap: 142.22625779382437, tolerance: 0.3396768\n",
      "  positive)\n",
      "C:\\Users\\bryan\\anaconda3\\lib\\site-packages\\sklearn\\model_selection\\_validation.py:515: UserWarning: With alpha=0, this algorithm does not converge well. You are advised to use the LinearRegression estimator\n",
      "  estimator.fit(X_train, y_train, **fit_params)\n",
      "C:\\Users\\bryan\\anaconda3\\lib\\site-packages\\sklearn\\linear_model\\_coordinate_descent.py:476: UserWarning: Coordinate descent with no regularization may lead to unexpected results and is discouraged.\n",
      "  positive)\n",
      "C:\\Users\\bryan\\anaconda3\\lib\\site-packages\\sklearn\\linear_model\\_coordinate_descent.py:476: ConvergenceWarning: Objective did not converge. You might want to increase the number of iterations. Duality gap: 150.31451023997582, tolerance: 0.32768800000000003\n",
      "  positive)\n",
      "C:\\Users\\bryan\\anaconda3\\lib\\site-packages\\sklearn\\model_selection\\_validation.py:515: UserWarning: With alpha=0, this algorithm does not converge well. You are advised to use the LinearRegression estimator\n",
      "  estimator.fit(X_train, y_train, **fit_params)\n",
      "C:\\Users\\bryan\\anaconda3\\lib\\site-packages\\sklearn\\linear_model\\_coordinate_descent.py:476: UserWarning: Coordinate descent with no regularization may lead to unexpected results and is discouraged.\n",
      "  positive)\n",
      "C:\\Users\\bryan\\anaconda3\\lib\\site-packages\\sklearn\\linear_model\\_coordinate_descent.py:476: ConvergenceWarning: Objective did not converge. You might want to increase the number of iterations. Duality gap: 184.00578088808436, tolerance: 0.3334871666666667\n",
      "  positive)\n",
      "C:\\Users\\bryan\\anaconda3\\lib\\site-packages\\sklearn\\model_selection\\_validation.py:515: UserWarning: With alpha=0, this algorithm does not converge well. You are advised to use the LinearRegression estimator\n",
      "  estimator.fit(X_train, y_train, **fit_params)\n",
      "C:\\Users\\bryan\\anaconda3\\lib\\site-packages\\sklearn\\linear_model\\_coordinate_descent.py:476: UserWarning: Coordinate descent with no regularization may lead to unexpected results and is discouraged.\n",
      "  positive)\n",
      "C:\\Users\\bryan\\anaconda3\\lib\\site-packages\\sklearn\\linear_model\\_coordinate_descent.py:476: ConvergenceWarning: Objective did not converge. You might want to increase the number of iterations. Duality gap: 177.9225756069107, tolerance: 0.299973325\n",
      "  positive)\n",
      "C:\\Users\\bryan\\anaconda3\\lib\\site-packages\\sklearn\\model_selection\\_validation.py:515: UserWarning: With alpha=0, this algorithm does not converge well. You are advised to use the LinearRegression estimator\n",
      "  estimator.fit(X_train, y_train, **fit_params)\n",
      "C:\\Users\\bryan\\anaconda3\\lib\\site-packages\\sklearn\\linear_model\\_coordinate_descent.py:476: UserWarning: Coordinate descent with no regularization may lead to unexpected results and is discouraged.\n",
      "  positive)\n",
      "C:\\Users\\bryan\\anaconda3\\lib\\site-packages\\sklearn\\linear_model\\_coordinate_descent.py:476: ConvergenceWarning: Objective did not converge. You might want to increase the number of iterations. Duality gap: 166.90857148257192, tolerance: 0.3011809916666667\n",
      "  positive)\n",
      "C:\\Users\\bryan\\anaconda3\\lib\\site-packages\\sklearn\\model_selection\\_validation.py:515: UserWarning: With alpha=0, this algorithm does not converge well. You are advised to use the LinearRegression estimator\n",
      "  estimator.fit(X_train, y_train, **fit_params)\n",
      "C:\\Users\\bryan\\anaconda3\\lib\\site-packages\\sklearn\\linear_model\\_coordinate_descent.py:476: UserWarning: Coordinate descent with no regularization may lead to unexpected results and is discouraged.\n",
      "  positive)\n",
      "C:\\Users\\bryan\\anaconda3\\lib\\site-packages\\sklearn\\linear_model\\_coordinate_descent.py:476: ConvergenceWarning: Objective did not converge. You might want to increase the number of iterations. Duality gap: 142.22625779382437, tolerance: 0.3396768\n",
      "  positive)\n",
      "C:\\Users\\bryan\\anaconda3\\lib\\site-packages\\sklearn\\model_selection\\_validation.py:515: UserWarning: With alpha=0, this algorithm does not converge well. You are advised to use the LinearRegression estimator\n",
      "  estimator.fit(X_train, y_train, **fit_params)\n",
      "C:\\Users\\bryan\\anaconda3\\lib\\site-packages\\sklearn\\linear_model\\_coordinate_descent.py:476: UserWarning: Coordinate descent with no regularization may lead to unexpected results and is discouraged.\n",
      "  positive)\n",
      "C:\\Users\\bryan\\anaconda3\\lib\\site-packages\\sklearn\\linear_model\\_coordinate_descent.py:476: ConvergenceWarning: Objective did not converge. You might want to increase the number of iterations. Duality gap: 150.31451023997582, tolerance: 0.32768800000000003\n",
      "  positive)\n",
      "C:\\Users\\bryan\\anaconda3\\lib\\site-packages\\sklearn\\model_selection\\_validation.py:515: UserWarning: With alpha=0, this algorithm does not converge well. You are advised to use the LinearRegression estimator\n",
      "  estimator.fit(X_train, y_train, **fit_params)\n",
      "C:\\Users\\bryan\\anaconda3\\lib\\site-packages\\sklearn\\linear_model\\_coordinate_descent.py:476: UserWarning: Coordinate descent with no regularization may lead to unexpected results and is discouraged.\n",
      "  positive)\n",
      "C:\\Users\\bryan\\anaconda3\\lib\\site-packages\\sklearn\\linear_model\\_coordinate_descent.py:476: ConvergenceWarning: Objective did not converge. You might want to increase the number of iterations. Duality gap: 184.00578088808436, tolerance: 0.3334871666666667\n",
      "  positive)\n",
      "C:\\Users\\bryan\\anaconda3\\lib\\site-packages\\sklearn\\model_selection\\_validation.py:515: UserWarning: With alpha=0, this algorithm does not converge well. You are advised to use the LinearRegression estimator\n",
      "  estimator.fit(X_train, y_train, **fit_params)\n",
      "C:\\Users\\bryan\\anaconda3\\lib\\site-packages\\sklearn\\linear_model\\_coordinate_descent.py:476: UserWarning: Coordinate descent with no regularization may lead to unexpected results and is discouraged.\n",
      "  positive)\n",
      "C:\\Users\\bryan\\anaconda3\\lib\\site-packages\\sklearn\\linear_model\\_coordinate_descent.py:476: ConvergenceWarning: Objective did not converge. You might want to increase the number of iterations. Duality gap: 177.9225756069107, tolerance: 0.299973325\n",
      "  positive)\n",
      "C:\\Users\\bryan\\anaconda3\\lib\\site-packages\\sklearn\\model_selection\\_validation.py:515: UserWarning: With alpha=0, this algorithm does not converge well. You are advised to use the LinearRegression estimator\n",
      "  estimator.fit(X_train, y_train, **fit_params)\n",
      "C:\\Users\\bryan\\anaconda3\\lib\\site-packages\\sklearn\\linear_model\\_coordinate_descent.py:476: UserWarning: Coordinate descent with no regularization may lead to unexpected results and is discouraged.\n",
      "  positive)\n",
      "C:\\Users\\bryan\\anaconda3\\lib\\site-packages\\sklearn\\linear_model\\_coordinate_descent.py:476: ConvergenceWarning: Objective did not converge. You might want to increase the number of iterations. Duality gap: 166.90857148257192, tolerance: 0.3011809916666667\n",
      "  positive)\n",
      "C:\\Users\\bryan\\anaconda3\\lib\\site-packages\\sklearn\\model_selection\\_validation.py:515: UserWarning: With alpha=0, this algorithm does not converge well. You are advised to use the LinearRegression estimator\n",
      "  estimator.fit(X_train, y_train, **fit_params)\n",
      "C:\\Users\\bryan\\anaconda3\\lib\\site-packages\\sklearn\\linear_model\\_coordinate_descent.py:476: UserWarning: Coordinate descent with no regularization may lead to unexpected results and is discouraged.\n",
      "  positive)\n",
      "C:\\Users\\bryan\\anaconda3\\lib\\site-packages\\sklearn\\linear_model\\_coordinate_descent.py:476: ConvergenceWarning: Objective did not converge. You might want to increase the number of iterations. Duality gap: 142.22625779382437, tolerance: 0.3396768\n",
      "  positive)\n"
     ]
    },
    {
     "name": "stdout",
     "output_type": "stream",
     "text": [
      "[CV] ............................ alpha=0.1, l1_ratio=1, total=   0.0s\n",
      "[CV] alpha=0.1, l1_ratio=1 ...........................................\n",
      "[CV] ............................ alpha=0.1, l1_ratio=1, total=   0.0s\n",
      "[CV] alpha=0.1, l1_ratio=1 ...........................................\n",
      "[CV] ............................ alpha=0.1, l1_ratio=1, total=   0.0s\n",
      "[CV] alpha=0.1, l1_ratio=10 ..........................................\n",
      "[CV] ........................... alpha=0.1, l1_ratio=10, total=   0.0s\n",
      "[CV] alpha=0.1, l1_ratio=10 ..........................................\n",
      "[CV] ........................... alpha=0.1, l1_ratio=10, total=   0.0s\n",
      "[CV] alpha=0.1, l1_ratio=10 ..........................................\n",
      "[CV] ........................... alpha=0.1, l1_ratio=10, total=   0.0s\n",
      "[CV] alpha=0.1, l1_ratio=10 ..........................................\n",
      "[CV] ........................... alpha=0.1, l1_ratio=10, total=   0.0s\n",
      "[CV] alpha=0.1, l1_ratio=10 ..........................................\n",
      "[CV] ........................... alpha=0.1, l1_ratio=10, total=   0.0s\n",
      "[CV] alpha=1, l1_ratio=0.001 .........................................\n",
      "[CV] .......................... alpha=1, l1_ratio=0.001, total=   0.0s\n",
      "[CV] alpha=1, l1_ratio=0.001 .........................................\n",
      "[CV] .......................... alpha=1, l1_ratio=0.001, total=   0.0s\n",
      "[CV] alpha=1, l1_ratio=0.001 .........................................\n",
      "[CV] .......................... alpha=1, l1_ratio=0.001, total=   0.0s\n",
      "[CV] alpha=1, l1_ratio=0.001 .........................................\n",
      "[CV] .......................... alpha=1, l1_ratio=0.001, total=   0.0s\n",
      "[CV] alpha=1, l1_ratio=0.001 .........................................\n",
      "[CV] .......................... alpha=1, l1_ratio=0.001, total=   0.0s\n",
      "[CV] alpha=1, l1_ratio=0.01 ..........................................\n",
      "[CV] ........................... alpha=1, l1_ratio=0.01, total=   0.0s\n",
      "[CV] alpha=1, l1_ratio=0.01 ..........................................\n",
      "[CV] ........................... alpha=1, l1_ratio=0.01, total=   0.0s\n",
      "[CV] alpha=1, l1_ratio=0.01 ..........................................\n",
      "[CV] ........................... alpha=1, l1_ratio=0.01, total=   0.0s\n",
      "[CV] alpha=1, l1_ratio=0.01 ..........................................\n",
      "[CV] ........................... alpha=1, l1_ratio=0.01, total=   0.0s\n",
      "[CV] alpha=1, l1_ratio=0.01 ..........................................\n",
      "[CV] ........................... alpha=1, l1_ratio=0.01, total=   0.0s\n",
      "[CV] alpha=1, l1_ratio=0.1 ...........................................\n",
      "[CV] ............................ alpha=1, l1_ratio=0.1, total=   0.0s\n",
      "[CV] alpha=1, l1_ratio=0.1 ...........................................\n",
      "[CV] ............................ alpha=1, l1_ratio=0.1, total=   0.0s\n",
      "[CV] alpha=1, l1_ratio=0.1 ...........................................\n",
      "[CV] ............................ alpha=1, l1_ratio=0.1, total=   0.0s\n",
      "[CV] alpha=1, l1_ratio=0.1 ...........................................\n",
      "[CV] ............................ alpha=1, l1_ratio=0.1, total=   0.0s\n",
      "[CV] alpha=1, l1_ratio=0.1 ...........................................\n",
      "[CV] ............................ alpha=1, l1_ratio=0.1, total=   0.0s\n",
      "[CV] alpha=1, l1_ratio=1 .............................................\n",
      "[CV] .............................. alpha=1, l1_ratio=1, total=   0.0s\n",
      "[CV] alpha=1, l1_ratio=1 .............................................\n",
      "[CV] .............................. alpha=1, l1_ratio=1, total=   0.0s\n",
      "[CV] alpha=1, l1_ratio=1 .............................................\n",
      "[CV] .............................. alpha=1, l1_ratio=1, total=   0.0s\n",
      "[CV] alpha=1, l1_ratio=1 .............................................\n",
      "[CV] .............................. alpha=1, l1_ratio=1, total=   0.0s\n",
      "[CV] alpha=1, l1_ratio=1 .............................................\n",
      "[CV] .............................. alpha=1, l1_ratio=1, total=   0.0s\n",
      "[CV] alpha=1, l1_ratio=10 ............................................\n",
      "[CV] ............................. alpha=1, l1_ratio=10, total=   0.0s\n",
      "[CV] alpha=1, l1_ratio=10 ............................................\n",
      "[CV] ............................. alpha=1, l1_ratio=10, total=   0.0s\n",
      "[CV] alpha=1, l1_ratio=10 ............................................\n",
      "[CV] ............................. alpha=1, l1_ratio=10, total=   0.0s\n",
      "[CV] alpha=1, l1_ratio=10 ............................................\n",
      "[CV] ............................. alpha=1, l1_ratio=10, total=   0.0s\n",
      "[CV] alpha=1, l1_ratio=10 ............................................\n",
      "[CV] ............................. alpha=1, l1_ratio=10, total=   0.0s\n",
      "[CV] alpha=10, l1_ratio=0.001 ........................................\n",
      "[CV] ......................... alpha=10, l1_ratio=0.001, total=   0.0s\n",
      "[CV] alpha=10, l1_ratio=0.001 ........................................\n",
      "[CV] ......................... alpha=10, l1_ratio=0.001, total=   0.0s\n",
      "[CV] alpha=10, l1_ratio=0.001 ........................................\n",
      "[CV] ......................... alpha=10, l1_ratio=0.001, total=   0.0s\n",
      "[CV] alpha=10, l1_ratio=0.001 ........................................\n",
      "[CV] ......................... alpha=10, l1_ratio=0.001, total=   0.0s\n",
      "[CV] alpha=10, l1_ratio=0.001 ........................................\n",
      "[CV] ......................... alpha=10, l1_ratio=0.001, total=   0.0s\n",
      "[CV] alpha=10, l1_ratio=0.01 .........................................\n",
      "[CV] .......................... alpha=10, l1_ratio=0.01, total=   0.0s\n",
      "[CV] alpha=10, l1_ratio=0.01 .........................................\n",
      "[CV] .......................... alpha=10, l1_ratio=0.01, total=   0.0s\n",
      "[CV] alpha=10, l1_ratio=0.01 .........................................\n",
      "[CV] .......................... alpha=10, l1_ratio=0.01, total=   0.0s\n",
      "[CV] alpha=10, l1_ratio=0.01 .........................................\n",
      "[CV] .......................... alpha=10, l1_ratio=0.01, total=   0.0s\n",
      "[CV] alpha=10, l1_ratio=0.01 .........................................\n",
      "[CV] .......................... alpha=10, l1_ratio=0.01, total=   0.0s\n",
      "[CV] alpha=10, l1_ratio=0.1 ..........................................\n",
      "[CV] ........................... alpha=10, l1_ratio=0.1, total=   0.0s\n",
      "[CV] alpha=10, l1_ratio=0.1 ..........................................\n",
      "[CV] ........................... alpha=10, l1_ratio=0.1, total=   0.0s\n",
      "[CV] alpha=10, l1_ratio=0.1 ..........................................\n",
      "[CV] ........................... alpha=10, l1_ratio=0.1, total=   0.0s\n",
      "[CV] alpha=10, l1_ratio=0.1 ..........................................\n",
      "[CV] ........................... alpha=10, l1_ratio=0.1, total=   0.0s\n",
      "[CV] alpha=10, l1_ratio=0.1 ..........................................\n",
      "[CV] ........................... alpha=10, l1_ratio=0.1, total=   0.0s\n",
      "[CV] alpha=10, l1_ratio=1 ............................................\n",
      "[CV] ............................. alpha=10, l1_ratio=1, total=   0.0s\n",
      "[CV] alpha=10, l1_ratio=1 ............................................\n",
      "[CV] ............................. alpha=10, l1_ratio=1, total=   0.0s\n",
      "[CV] alpha=10, l1_ratio=1 ............................................\n",
      "[CV] ............................. alpha=10, l1_ratio=1, total=   0.0s\n",
      "[CV] alpha=10, l1_ratio=1 ............................................\n",
      "[CV] ............................. alpha=10, l1_ratio=1, total=   0.0s\n",
      "[CV] alpha=10, l1_ratio=1 ............................................\n",
      "[CV] ............................. alpha=10, l1_ratio=1, total=   0.0s\n",
      "[CV] alpha=10, l1_ratio=10 ...........................................\n",
      "[CV] ............................ alpha=10, l1_ratio=10, total=   0.0s\n",
      "[CV] alpha=10, l1_ratio=10 ...........................................\n",
      "[CV] ............................ alpha=10, l1_ratio=10, total=   0.0s\n",
      "[CV] alpha=10, l1_ratio=10 ...........................................\n",
      "[CV] ............................ alpha=10, l1_ratio=10, total=   0.0s\n",
      "[CV] alpha=10, l1_ratio=10 ...........................................\n",
      "[CV] ............................ alpha=10, l1_ratio=10, total=   0.0s\n",
      "[CV] alpha=10, l1_ratio=10 ...........................................\n",
      "[CV] ............................ alpha=10, l1_ratio=10, total=   0.0s\n",
      "[CV] alpha=100, l1_ratio=0.001 .......................................\n",
      "[CV] ........................ alpha=100, l1_ratio=0.001, total=   0.0s\n",
      "[CV] alpha=100, l1_ratio=0.001 .......................................\n",
      "[CV] ........................ alpha=100, l1_ratio=0.001, total=   0.0s\n",
      "[CV] alpha=100, l1_ratio=0.001 .......................................\n",
      "[CV] ........................ alpha=100, l1_ratio=0.001, total=   0.0s\n",
      "[CV] alpha=100, l1_ratio=0.001 .......................................\n",
      "[CV] ........................ alpha=100, l1_ratio=0.001, total=   0.0s\n",
      "[CV] alpha=100, l1_ratio=0.001 .......................................\n",
      "[CV] ........................ alpha=100, l1_ratio=0.001, total=   0.0s\n",
      "[CV] alpha=100, l1_ratio=0.01 ........................................\n",
      "[CV] ......................... alpha=100, l1_ratio=0.01, total=   0.0s\n",
      "[CV] alpha=100, l1_ratio=0.01 ........................................\n",
      "[CV] ......................... alpha=100, l1_ratio=0.01, total=   0.0s\n",
      "[CV] alpha=100, l1_ratio=0.01 ........................................\n",
      "[CV] ......................... alpha=100, l1_ratio=0.01, total=   0.0s\n",
      "[CV] alpha=100, l1_ratio=0.01 ........................................\n",
      "[CV] ......................... alpha=100, l1_ratio=0.01, total=   0.0s\n",
      "[CV] alpha=100, l1_ratio=0.01 ........................................\n",
      "[CV] ......................... alpha=100, l1_ratio=0.01, total=   0.0s\n",
      "[CV] alpha=100, l1_ratio=0.1 .........................................\n",
      "[CV] .......................... alpha=100, l1_ratio=0.1, total=   0.0s\n",
      "[CV] alpha=100, l1_ratio=0.1 .........................................\n",
      "[CV] .......................... alpha=100, l1_ratio=0.1, total=   0.0s\n",
      "[CV] alpha=100, l1_ratio=0.1 .........................................\n",
      "[CV] .......................... alpha=100, l1_ratio=0.1, total=   0.0s\n",
      "[CV] alpha=100, l1_ratio=0.1 .........................................\n",
      "[CV] .......................... alpha=100, l1_ratio=0.1, total=   0.0s\n",
      "[CV] alpha=100, l1_ratio=0.1 .........................................\n",
      "[CV] .......................... alpha=100, l1_ratio=0.1, total=   0.0s\n",
      "[CV] alpha=100, l1_ratio=1 ...........................................\n",
      "[CV] ............................ alpha=100, l1_ratio=1, total=   0.0s\n",
      "[CV] alpha=100, l1_ratio=1 ...........................................\n",
      "[CV] ............................ alpha=100, l1_ratio=1, total=   0.0s\n",
      "[CV] alpha=100, l1_ratio=1 ...........................................\n",
      "[CV] ............................ alpha=100, l1_ratio=1, total=   0.0s\n",
      "[CV] alpha=100, l1_ratio=1 ...........................................\n",
      "[CV] ............................ alpha=100, l1_ratio=1, total=   0.0s\n",
      "[CV] alpha=100, l1_ratio=1 ...........................................\n",
      "[CV] ............................ alpha=100, l1_ratio=1, total=   0.0s\n",
      "[CV] alpha=100, l1_ratio=10 ..........................................\n",
      "[CV] ........................... alpha=100, l1_ratio=10, total=   0.0s\n",
      "[CV] alpha=100, l1_ratio=10 ..........................................\n",
      "[CV] ........................... alpha=100, l1_ratio=10, total=   0.0s\n",
      "[CV] alpha=100, l1_ratio=10 ..........................................\n",
      "[CV] ........................... alpha=100, l1_ratio=10, total=   0.0s\n",
      "[CV] alpha=100, l1_ratio=10 ..........................................\n",
      "[CV] ........................... alpha=100, l1_ratio=10, total=   0.0s\n",
      "[CV] alpha=100, l1_ratio=10 ..........................................\n",
      "[CV] ........................... alpha=100, l1_ratio=10, total=   0.0s\n",
      "[CV] alpha=120, l1_ratio=0.001 .......................................\n",
      "[CV] ........................ alpha=120, l1_ratio=0.001, total=   0.0s\n",
      "[CV] alpha=120, l1_ratio=0.001 .......................................\n",
      "[CV] ........................ alpha=120, l1_ratio=0.001, total=   0.0s\n",
      "[CV] alpha=120, l1_ratio=0.001 .......................................\n",
      "[CV] ........................ alpha=120, l1_ratio=0.001, total=   0.0s\n",
      "[CV] alpha=120, l1_ratio=0.001 .......................................\n",
      "[CV] ........................ alpha=120, l1_ratio=0.001, total=   0.0s\n",
      "[CV] alpha=120, l1_ratio=0.001 .......................................\n"
     ]
    },
    {
     "name": "stderr",
     "output_type": "stream",
     "text": [
      "C:\\Users\\bryan\\anaconda3\\lib\\site-packages\\sklearn\\linear_model\\_coordinate_descent.py:476: ConvergenceWarning: Objective did not converge. You might want to increase the number of iterations. Duality gap: nan, tolerance: 0.32768800000000003\n",
      "  positive)\n",
      "C:\\Users\\bryan\\anaconda3\\lib\\site-packages\\sklearn\\linear_model\\_coordinate_descent.py:476: ConvergenceWarning: Objective did not converge. You might want to increase the number of iterations. Duality gap: nan, tolerance: 0.3334871666666667\n",
      "  positive)\n",
      "C:\\Users\\bryan\\anaconda3\\lib\\site-packages\\sklearn\\linear_model\\_coordinate_descent.py:476: ConvergenceWarning: Objective did not converge. You might want to increase the number of iterations. Duality gap: nan, tolerance: 0.299973325\n",
      "  positive)\n",
      "C:\\Users\\bryan\\anaconda3\\lib\\site-packages\\sklearn\\linear_model\\_coordinate_descent.py:476: ConvergenceWarning: Objective did not converge. You might want to increase the number of iterations. Duality gap: nan, tolerance: 0.3011809916666667\n",
      "  positive)\n",
      "C:\\Users\\bryan\\anaconda3\\lib\\site-packages\\sklearn\\linear_model\\_coordinate_descent.py:476: ConvergenceWarning: Objective did not converge. You might want to increase the number of iterations. Duality gap: nan, tolerance: 0.3396768\n",
      "  positive)\n"
     ]
    },
    {
     "name": "stdout",
     "output_type": "stream",
     "text": [
      "[CV] ........................ alpha=120, l1_ratio=0.001, total=   0.0s\n",
      "[CV] alpha=120, l1_ratio=0.01 ........................................\n",
      "[CV] ......................... alpha=120, l1_ratio=0.01, total=   0.0s\n",
      "[CV] alpha=120, l1_ratio=0.01 ........................................\n",
      "[CV] ......................... alpha=120, l1_ratio=0.01, total=   0.0s\n",
      "[CV] alpha=120, l1_ratio=0.01 ........................................\n",
      "[CV] ......................... alpha=120, l1_ratio=0.01, total=   0.0s\n",
      "[CV] alpha=120, l1_ratio=0.01 ........................................\n",
      "[CV] ......................... alpha=120, l1_ratio=0.01, total=   0.0s\n",
      "[CV] alpha=120, l1_ratio=0.01 ........................................\n",
      "[CV] ......................... alpha=120, l1_ratio=0.01, total=   0.0s\n",
      "[CV] alpha=120, l1_ratio=0.1 .........................................\n",
      "[CV] .......................... alpha=120, l1_ratio=0.1, total=   0.0s\n",
      "[CV] alpha=120, l1_ratio=0.1 .........................................\n",
      "[CV] .......................... alpha=120, l1_ratio=0.1, total=   0.0s\n",
      "[CV] alpha=120, l1_ratio=0.1 .........................................\n",
      "[CV] .......................... alpha=120, l1_ratio=0.1, total=   0.0s\n",
      "[CV] alpha=120, l1_ratio=0.1 .........................................\n",
      "[CV] .......................... alpha=120, l1_ratio=0.1, total=   0.0s\n",
      "[CV] alpha=120, l1_ratio=0.1 .........................................\n",
      "[CV] .......................... alpha=120, l1_ratio=0.1, total=   0.0s\n",
      "[CV] alpha=120, l1_ratio=1 ...........................................\n",
      "[CV] ............................ alpha=120, l1_ratio=1, total=   0.0s\n",
      "[CV] alpha=120, l1_ratio=1 ...........................................\n",
      "[CV] ............................ alpha=120, l1_ratio=1, total=   0.0s\n",
      "[CV] alpha=120, l1_ratio=1 ...........................................\n",
      "[CV] ............................ alpha=120, l1_ratio=1, total=   0.0s\n",
      "[CV] alpha=120, l1_ratio=1 ...........................................\n",
      "[CV] ............................ alpha=120, l1_ratio=1, total=   0.0s\n",
      "[CV] alpha=120, l1_ratio=1 ...........................................\n",
      "[CV] ............................ alpha=120, l1_ratio=1, total=   0.0s\n",
      "[CV] alpha=120, l1_ratio=10 ..........................................\n",
      "[CV] ........................... alpha=120, l1_ratio=10, total=   0.0s\n",
      "[CV] alpha=120, l1_ratio=10 ..........................................\n",
      "[CV] ........................... alpha=120, l1_ratio=10, total=   0.0s\n",
      "[CV] alpha=120, l1_ratio=10 ..........................................\n",
      "[CV] ........................... alpha=120, l1_ratio=10, total=   0.0s\n",
      "[CV] alpha=120, l1_ratio=10 ..........................................\n",
      "[CV] ........................... alpha=120, l1_ratio=10, total=   0.0s\n",
      "[CV] alpha=120, l1_ratio=10 ..........................................\n",
      "[CV] ........................... alpha=120, l1_ratio=10, total=   0.0s\n",
      "[CV] alpha=140, l1_ratio=0.001 .......................................\n",
      "[CV] ........................ alpha=140, l1_ratio=0.001, total=   0.0s\n",
      "[CV] alpha=140, l1_ratio=0.001 .......................................\n",
      "[CV] ........................ alpha=140, l1_ratio=0.001, total=   0.0s\n",
      "[CV] alpha=140, l1_ratio=0.001 .......................................\n",
      "[CV] ........................ alpha=140, l1_ratio=0.001, total=   0.0s\n",
      "[CV] alpha=140, l1_ratio=0.001 .......................................\n",
      "[CV] ........................ alpha=140, l1_ratio=0.001, total=   0.0s\n",
      "[CV] alpha=140, l1_ratio=0.001 .......................................\n",
      "[CV] ........................ alpha=140, l1_ratio=0.001, total=   0.0s\n",
      "[CV] alpha=140, l1_ratio=0.01 ........................................\n",
      "[CV] ......................... alpha=140, l1_ratio=0.01, total=   0.0s\n",
      "[CV] alpha=140, l1_ratio=0.01 ........................................\n",
      "[CV] ......................... alpha=140, l1_ratio=0.01, total=   0.0s\n",
      "[CV] alpha=140, l1_ratio=0.01 ........................................\n",
      "[CV] ......................... alpha=140, l1_ratio=0.01, total=   0.0s\n",
      "[CV] alpha=140, l1_ratio=0.01 ........................................\n",
      "[CV] ......................... alpha=140, l1_ratio=0.01, total=   0.0s\n",
      "[CV] alpha=140, l1_ratio=0.01 ........................................\n",
      "[CV] ......................... alpha=140, l1_ratio=0.01, total=   0.0s\n",
      "[CV] alpha=140, l1_ratio=0.1 .........................................\n",
      "[CV] .......................... alpha=140, l1_ratio=0.1, total=   0.0s\n",
      "[CV] alpha=140, l1_ratio=0.1 .........................................\n",
      "[CV] .......................... alpha=140, l1_ratio=0.1, total=   0.0s\n",
      "[CV] alpha=140, l1_ratio=0.1 .........................................\n",
      "[CV] .......................... alpha=140, l1_ratio=0.1, total=   0.0s\n",
      "[CV] alpha=140, l1_ratio=0.1 .........................................\n",
      "[CV] .......................... alpha=140, l1_ratio=0.1, total=   0.0s\n",
      "[CV] alpha=140, l1_ratio=0.1 .........................................\n",
      "[CV] .......................... alpha=140, l1_ratio=0.1, total=   0.0s\n",
      "[CV] alpha=140, l1_ratio=1 ...........................................\n",
      "[CV] ............................ alpha=140, l1_ratio=1, total=   0.0s\n",
      "[CV] alpha=140, l1_ratio=1 ...........................................\n",
      "[CV] ............................ alpha=140, l1_ratio=1, total=   0.0s\n",
      "[CV] alpha=140, l1_ratio=1 ...........................................\n",
      "[CV] ............................ alpha=140, l1_ratio=1, total=   0.0s\n",
      "[CV] alpha=140, l1_ratio=1 ...........................................\n",
      "[CV] ............................ alpha=140, l1_ratio=1, total=   0.0s\n",
      "[CV] alpha=140, l1_ratio=1 ...........................................\n",
      "[CV] ............................ alpha=140, l1_ratio=1, total=   0.0s\n",
      "[CV] alpha=140, l1_ratio=10 ..........................................\n",
      "[CV] ........................... alpha=140, l1_ratio=10, total=   0.0s\n",
      "[CV] alpha=140, l1_ratio=10 ..........................................\n",
      "[CV] ........................... alpha=140, l1_ratio=10, total=   0.0s\n",
      "[CV] alpha=140, l1_ratio=10 ..........................................\n",
      "[CV] ........................... alpha=140, l1_ratio=10, total=   0.0s\n",
      "[CV] alpha=140, l1_ratio=10 ..........................................\n",
      "[CV] ........................... alpha=140, l1_ratio=10, total=   0.0s\n",
      "[CV] alpha=140, l1_ratio=10 ..........................................\n",
      "[CV] ........................... alpha=140, l1_ratio=10, total=   0.0s\n",
      "[CV] alpha=150, l1_ratio=0.001 .......................................\n",
      "[CV] ........................ alpha=150, l1_ratio=0.001, total=   0.0s\n",
      "[CV] alpha=150, l1_ratio=0.001 .......................................\n",
      "[CV] ........................ alpha=150, l1_ratio=0.001, total=   0.0s\n",
      "[CV] alpha=150, l1_ratio=0.001 .......................................\n",
      "[CV] ........................ alpha=150, l1_ratio=0.001, total=   0.0s\n",
      "[CV] alpha=150, l1_ratio=0.001 .......................................\n",
      "[CV] ........................ alpha=150, l1_ratio=0.001, total=   0.0s\n",
      "[CV] alpha=150, l1_ratio=0.001 .......................................\n",
      "[CV] ........................ alpha=150, l1_ratio=0.001, total=   0.0s\n",
      "[CV] alpha=150, l1_ratio=0.01 ........................................\n",
      "[CV] ......................... alpha=150, l1_ratio=0.01, total=   0.0s\n",
      "[CV] alpha=150, l1_ratio=0.01 ........................................\n",
      "[CV] ......................... alpha=150, l1_ratio=0.01, total=   0.0s\n",
      "[CV] alpha=150, l1_ratio=0.01 ........................................\n",
      "[CV] ......................... alpha=150, l1_ratio=0.01, total=   0.0s\n",
      "[CV] alpha=150, l1_ratio=0.01 ........................................\n",
      "[CV] ......................... alpha=150, l1_ratio=0.01, total=   0.0s\n",
      "[CV] alpha=150, l1_ratio=0.01 ........................................\n",
      "[CV] ......................... alpha=150, l1_ratio=0.01, total=   0.0s\n",
      "[CV] alpha=150, l1_ratio=0.1 .........................................\n",
      "[CV] .......................... alpha=150, l1_ratio=0.1, total=   0.0s\n",
      "[CV] alpha=150, l1_ratio=0.1 .........................................\n",
      "[CV] .......................... alpha=150, l1_ratio=0.1, total=   0.0s\n",
      "[CV] alpha=150, l1_ratio=0.1 .........................................\n",
      "[CV] .......................... alpha=150, l1_ratio=0.1, total=   0.0s\n",
      "[CV] alpha=150, l1_ratio=0.1 .........................................\n",
      "[CV] .......................... alpha=150, l1_ratio=0.1, total=   0.0s\n",
      "[CV] alpha=150, l1_ratio=0.1 .........................................\n",
      "[CV] .......................... alpha=150, l1_ratio=0.1, total=   0.0s\n",
      "[CV] alpha=150, l1_ratio=1 ...........................................\n",
      "[CV] ............................ alpha=150, l1_ratio=1, total=   0.0s\n",
      "[CV] alpha=150, l1_ratio=1 ...........................................\n",
      "[CV] ............................ alpha=150, l1_ratio=1, total=   0.0s\n",
      "[CV] alpha=150, l1_ratio=1 ...........................................\n",
      "[CV] ............................ alpha=150, l1_ratio=1, total=   0.0s\n",
      "[CV] alpha=150, l1_ratio=1 ...........................................\n",
      "[CV] ............................ alpha=150, l1_ratio=1, total=   0.0s\n",
      "[CV] alpha=150, l1_ratio=1 ...........................................\n",
      "[CV] ............................ alpha=150, l1_ratio=1, total=   0.0s\n",
      "[CV] alpha=150, l1_ratio=10 ..........................................\n",
      "[CV] ........................... alpha=150, l1_ratio=10, total=   0.0s\n",
      "[CV] alpha=150, l1_ratio=10 ..........................................\n",
      "[CV] ........................... alpha=150, l1_ratio=10, total=   0.0s\n",
      "[CV] alpha=150, l1_ratio=10 ..........................................\n",
      "[CV] ........................... alpha=150, l1_ratio=10, total=   0.0s\n",
      "[CV] alpha=150, l1_ratio=10 ..........................................\n",
      "[CV] ........................... alpha=150, l1_ratio=10, total=   0.0s\n",
      "[CV] alpha=150, l1_ratio=10 ..........................................\n",
      "[CV] ........................... alpha=150, l1_ratio=10, total=   0.0s\n"
     ]
    },
    {
     "name": "stderr",
     "output_type": "stream",
     "text": [
      "[Parallel(n_jobs=1)]: Done 225 out of 225 | elapsed:    0.4s finished\n"
     ]
    },
    {
     "data": {
      "text/plain": [
       "GridSearchCV(cv=5, error_score=nan,\n",
       "             estimator=ElasticNet(alpha=1.0, copy_X=True, fit_intercept=True,\n",
       "                                  l1_ratio=0.5, max_iter=1000, normalize=False,\n",
       "                                  positive=False, precompute=False,\n",
       "                                  random_state=None, selection='cyclic',\n",
       "                                  tol=0.0001, warm_start=False),\n",
       "             iid='deprecated', n_jobs=None,\n",
       "             param_grid={'alpha': [0, 0.01, 0.1, 1, 10, 100, 120, 140, 150],\n",
       "                         'l1_ratio': [0.001, 0.01, 0.1, 1, 10]},\n",
       "             pre_dispatch='2*n_jobs', refit=True, return_train_score=False,\n",
       "             scoring='neg_mean_squared_error', verbose=2)"
      ]
     },
     "execution_count": 26,
     "metadata": {},
     "output_type": "execute_result"
    }
   ],
   "source": [
    "grid_model.fit(xtrain_trans,y_train)"
   ]
  },
  {
   "cell_type": "code",
   "execution_count": 27,
   "metadata": {},
   "outputs": [
    {
     "data": {
      "text/plain": [
       "ElasticNet(alpha=0.1, copy_X=True, fit_intercept=True, l1_ratio=1,\n",
       "           max_iter=1000, normalize=False, positive=False, precompute=False,\n",
       "           random_state=None, selection='cyclic', tol=0.0001, warm_start=False)"
      ]
     },
     "execution_count": 27,
     "metadata": {},
     "output_type": "execute_result"
    }
   ],
   "source": [
    "grid_model.best_estimator_"
   ]
  },
  {
   "cell_type": "code",
   "execution_count": 28,
   "metadata": {},
   "outputs": [
    {
     "data": {
      "text/plain": [
       "{'alpha': 0.1, 'l1_ratio': 1}"
      ]
     },
     "execution_count": 28,
     "metadata": {},
     "output_type": "execute_result"
    }
   ],
   "source": [
    "grid_model.best_params_"
   ]
  },
  {
   "cell_type": "code",
   "execution_count": 29,
   "metadata": {},
   "outputs": [
    {
     "data": {
      "text/plain": [
       "{'alpha': 0.1, 'l1_ratio': 1}"
      ]
     },
     "execution_count": 29,
     "metadata": {},
     "output_type": "execute_result"
    }
   ],
   "source": [
    "grid_model.best_params_"
   ]
  },
  {
   "cell_type": "code",
   "execution_count": 30,
   "metadata": {},
   "outputs": [],
   "source": [
    "yhat_grid=grid_model.predict(xtest_trans)"
   ]
  },
  {
   "cell_type": "code",
   "execution_count": 31,
   "metadata": {},
   "outputs": [
    {
     "name": "stdout",
     "output_type": "stream",
     "text": [
      "The RMSE using GridSearchCV is:  2.033652401265493\n"
     ]
    }
   ],
   "source": [
    "print(\"The RMSE using GridSearchCV is: \",np.sqrt(mean_squared_error(y_test,yhat_grid)))"
   ]
  },
  {
   "cell_type": "code",
   "execution_count": 32,
   "metadata": {},
   "outputs": [
    {
     "data": {
      "text/plain": [
       "Text(0.5, 1.0, 'Polynomial Reg')"
      ]
     },
     "execution_count": 32,
     "metadata": {},
     "output_type": "execute_result"
    },
    {
     "data": {
      "image/png": "[encoded data removed]",
      "text/plain": [
       "<Figure size 720x360 with 1 Axes>"
      ]
     },
     "metadata": {
      "needs_background": "light"
     },
     "output_type": "display_data"
    }
   ],
   "source": [
    "plt.figure(figsize=(10,5))\n",
    "sns.residplot(y_test,yhat_grid,lowess=True,color='brown')\n",
    "plt.title('Polynomial Reg')"
   ]
  }
 ],
 "metadata": {
  "kernelspec": {
   "display_name": "Python 3",
   "language": "python",
   "name": "python3"
  },
  "language_info": {
   "codemirror_mode": {
    "name": "ipython",
    "version": 3
   },
   "file_extension": ".py",
   "mimetype": "text/x-python",
   "name": "python",
   "nbconvert_exporter": "python",
   "pygments_lexer": "ipython3",
   "version": "3.7.6"
  }
 },
 "nbformat": 4,
 "nbformat_minor": 4
}
